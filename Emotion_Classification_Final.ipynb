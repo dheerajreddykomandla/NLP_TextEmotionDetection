{
  "cells": [
    {
      "cell_type": "code",
      "execution_count": 1,
      "metadata": {
        "id": "S8nEJuFAFRUH"
      },
      "outputs": [],
      "source": [
        "import pandas as pd\n",
        "import numpy as np"
      ]
    },
    {
      "cell_type": "markdown",
      "metadata": {
        "id": "-l41RqRwFRUI"
      },
      "source": [
        "## Reading the files"
      ]
    },
    {
      "cell_type": "code",
      "execution_count": 2,
      "metadata": {
        "id": "zX05nuvCFRUK"
      },
      "outputs": [],
      "source": [
        "train_df = pd.read_csv('emotion-labels-train.csv')\n",
        "test_df = pd.read_csv('emotion-labels-test.csv')"
      ]
    },
    {
      "cell_type": "code",
      "execution_count": 3,
      "metadata": {
        "colab": {
          "base_uri": "https://localhost:8080/",
          "height": 206
        },
        "id": "mZvS_W3QFRUK",
        "outputId": "084ab352-465d-463e-af4a-2d5c8fd6caa7"
      },
      "outputs": [
        {
          "output_type": "execute_result",
          "data": {
            "text/plain": [
              "                                                text label\n",
              "0  Just got back from seeing @GaryDelaney in Burs...   joy\n",
              "1  Oh dear an evening of absolute hilarity I don'...   joy\n",
              "2  Been waiting all week for this game ❤️❤️❤️ #ch...   joy\n",
              "3  @gardiner_love : Thank you so much, Gloria! Yo...   joy\n",
              "4  I feel so blessed to work with the family that...   joy"
            ],
            "text/html": [
              "\n",
              "  <div id=\"df-a4c7db63-f2eb-4128-b18b-106fa4bba451\">\n",
              "    <div class=\"colab-df-container\">\n",
              "      <div>\n",
              "<style scoped>\n",
              "    .dataframe tbody tr th:only-of-type {\n",
              "        vertical-align: middle;\n",
              "    }\n",
              "\n",
              "    .dataframe tbody tr th {\n",
              "        vertical-align: top;\n",
              "    }\n",
              "\n",
              "    .dataframe thead th {\n",
              "        text-align: right;\n",
              "    }\n",
              "</style>\n",
              "<table border=\"1\" class=\"dataframe\">\n",
              "  <thead>\n",
              "    <tr style=\"text-align: right;\">\n",
              "      <th></th>\n",
              "      <th>text</th>\n",
              "      <th>label</th>\n",
              "    </tr>\n",
              "  </thead>\n",
              "  <tbody>\n",
              "    <tr>\n",
              "      <th>0</th>\n",
              "      <td>Just got back from seeing @GaryDelaney in Burs...</td>\n",
              "      <td>joy</td>\n",
              "    </tr>\n",
              "    <tr>\n",
              "      <th>1</th>\n",
              "      <td>Oh dear an evening of absolute hilarity I don'...</td>\n",
              "      <td>joy</td>\n",
              "    </tr>\n",
              "    <tr>\n",
              "      <th>2</th>\n",
              "      <td>Been waiting all week for this game ❤️❤️❤️ #ch...</td>\n",
              "      <td>joy</td>\n",
              "    </tr>\n",
              "    <tr>\n",
              "      <th>3</th>\n",
              "      <td>@gardiner_love : Thank you so much, Gloria! Yo...</td>\n",
              "      <td>joy</td>\n",
              "    </tr>\n",
              "    <tr>\n",
              "      <th>4</th>\n",
              "      <td>I feel so blessed to work with the family that...</td>\n",
              "      <td>joy</td>\n",
              "    </tr>\n",
              "  </tbody>\n",
              "</table>\n",
              "</div>\n",
              "      <button class=\"colab-df-convert\" onclick=\"convertToInteractive('df-a4c7db63-f2eb-4128-b18b-106fa4bba451')\"\n",
              "              title=\"Convert this dataframe to an interactive table.\"\n",
              "              style=\"display:none;\">\n",
              "        \n",
              "  <svg xmlns=\"http://www.w3.org/2000/svg\" height=\"24px\"viewBox=\"0 0 24 24\"\n",
              "       width=\"24px\">\n",
              "    <path d=\"M0 0h24v24H0V0z\" fill=\"none\"/>\n",
              "    <path d=\"M18.56 5.44l.94 2.06.94-2.06 2.06-.94-2.06-.94-.94-2.06-.94 2.06-2.06.94zm-11 1L8.5 8.5l.94-2.06 2.06-.94-2.06-.94L8.5 2.5l-.94 2.06-2.06.94zm10 10l.94 2.06.94-2.06 2.06-.94-2.06-.94-.94-2.06-.94 2.06-2.06.94z\"/><path d=\"M17.41 7.96l-1.37-1.37c-.4-.4-.92-.59-1.43-.59-.52 0-1.04.2-1.43.59L10.3 9.45l-7.72 7.72c-.78.78-.78 2.05 0 2.83L4 21.41c.39.39.9.59 1.41.59.51 0 1.02-.2 1.41-.59l7.78-7.78 2.81-2.81c.8-.78.8-2.07 0-2.86zM5.41 20L4 18.59l7.72-7.72 1.47 1.35L5.41 20z\"/>\n",
              "  </svg>\n",
              "      </button>\n",
              "      \n",
              "  <style>\n",
              "    .colab-df-container {\n",
              "      display:flex;\n",
              "      flex-wrap:wrap;\n",
              "      gap: 12px;\n",
              "    }\n",
              "\n",
              "    .colab-df-convert {\n",
              "      background-color: #E8F0FE;\n",
              "      border: none;\n",
              "      border-radius: 50%;\n",
              "      cursor: pointer;\n",
              "      display: none;\n",
              "      fill: #1967D2;\n",
              "      height: 32px;\n",
              "      padding: 0 0 0 0;\n",
              "      width: 32px;\n",
              "    }\n",
              "\n",
              "    .colab-df-convert:hover {\n",
              "      background-color: #E2EBFA;\n",
              "      box-shadow: 0px 1px 2px rgba(60, 64, 67, 0.3), 0px 1px 3px 1px rgba(60, 64, 67, 0.15);\n",
              "      fill: #174EA6;\n",
              "    }\n",
              "\n",
              "    [theme=dark] .colab-df-convert {\n",
              "      background-color: #3B4455;\n",
              "      fill: #D2E3FC;\n",
              "    }\n",
              "\n",
              "    [theme=dark] .colab-df-convert:hover {\n",
              "      background-color: #434B5C;\n",
              "      box-shadow: 0px 1px 3px 1px rgba(0, 0, 0, 0.15);\n",
              "      filter: drop-shadow(0px 1px 2px rgba(0, 0, 0, 0.3));\n",
              "      fill: #FFFFFF;\n",
              "    }\n",
              "  </style>\n",
              "\n",
              "      <script>\n",
              "        const buttonEl =\n",
              "          document.querySelector('#df-a4c7db63-f2eb-4128-b18b-106fa4bba451 button.colab-df-convert');\n",
              "        buttonEl.style.display =\n",
              "          google.colab.kernel.accessAllowed ? 'block' : 'none';\n",
              "\n",
              "        async function convertToInteractive(key) {\n",
              "          const element = document.querySelector('#df-a4c7db63-f2eb-4128-b18b-106fa4bba451');\n",
              "          const dataTable =\n",
              "            await google.colab.kernel.invokeFunction('convertToInteractive',\n",
              "                                                     [key], {});\n",
              "          if (!dataTable) return;\n",
              "\n",
              "          const docLinkHtml = 'Like what you see? Visit the ' +\n",
              "            '<a target=\"_blank\" href=https://colab.research.google.com/notebooks/data_table.ipynb>data table notebook</a>'\n",
              "            + ' to learn more about interactive tables.';\n",
              "          element.innerHTML = '';\n",
              "          dataTable['output_type'] = 'display_data';\n",
              "          await google.colab.output.renderOutput(dataTable, element);\n",
              "          const docLink = document.createElement('div');\n",
              "          docLink.innerHTML = docLinkHtml;\n",
              "          element.appendChild(docLink);\n",
              "        }\n",
              "      </script>\n",
              "    </div>\n",
              "  </div>\n",
              "  "
            ]
          },
          "metadata": {},
          "execution_count": 3
        }
      ],
      "source": [
        "train_df.head()"
      ]
    },
    {
      "cell_type": "code",
      "execution_count": 4,
      "metadata": {
        "colab": {
          "base_uri": "https://localhost:8080/",
          "height": 206
        },
        "id": "WtEIpaybFRUL",
        "outputId": "207b69e1-94e6-4a6e-cf1c-15bc960f2724"
      },
      "outputs": [
        {
          "output_type": "execute_result",
          "data": {
            "text/plain": [
              "                                                text label\n",
              "0  You must be knowing #blithe means (adj.)  Happ...   joy\n",
              "1  Old saying 'A #smile shared is one gained for ...   joy\n",
              "2  Bridget Jones' Baby was bloody hilarious 😅 #Br...   joy\n",
              "3  @Elaminova sparkling water makes your life spa...   joy\n",
              "4  I'm tired of everybody telling me to chill out...   joy"
            ],
            "text/html": [
              "\n",
              "  <div id=\"df-3b1fd9c8-3d42-4c2b-9820-be8e3adf547e\">\n",
              "    <div class=\"colab-df-container\">\n",
              "      <div>\n",
              "<style scoped>\n",
              "    .dataframe tbody tr th:only-of-type {\n",
              "        vertical-align: middle;\n",
              "    }\n",
              "\n",
              "    .dataframe tbody tr th {\n",
              "        vertical-align: top;\n",
              "    }\n",
              "\n",
              "    .dataframe thead th {\n",
              "        text-align: right;\n",
              "    }\n",
              "</style>\n",
              "<table border=\"1\" class=\"dataframe\">\n",
              "  <thead>\n",
              "    <tr style=\"text-align: right;\">\n",
              "      <th></th>\n",
              "      <th>text</th>\n",
              "      <th>label</th>\n",
              "    </tr>\n",
              "  </thead>\n",
              "  <tbody>\n",
              "    <tr>\n",
              "      <th>0</th>\n",
              "      <td>You must be knowing #blithe means (adj.)  Happ...</td>\n",
              "      <td>joy</td>\n",
              "    </tr>\n",
              "    <tr>\n",
              "      <th>1</th>\n",
              "      <td>Old saying 'A #smile shared is one gained for ...</td>\n",
              "      <td>joy</td>\n",
              "    </tr>\n",
              "    <tr>\n",
              "      <th>2</th>\n",
              "      <td>Bridget Jones' Baby was bloody hilarious 😅 #Br...</td>\n",
              "      <td>joy</td>\n",
              "    </tr>\n",
              "    <tr>\n",
              "      <th>3</th>\n",
              "      <td>@Elaminova sparkling water makes your life spa...</td>\n",
              "      <td>joy</td>\n",
              "    </tr>\n",
              "    <tr>\n",
              "      <th>4</th>\n",
              "      <td>I'm tired of everybody telling me to chill out...</td>\n",
              "      <td>joy</td>\n",
              "    </tr>\n",
              "  </tbody>\n",
              "</table>\n",
              "</div>\n",
              "      <button class=\"colab-df-convert\" onclick=\"convertToInteractive('df-3b1fd9c8-3d42-4c2b-9820-be8e3adf547e')\"\n",
              "              title=\"Convert this dataframe to an interactive table.\"\n",
              "              style=\"display:none;\">\n",
              "        \n",
              "  <svg xmlns=\"http://www.w3.org/2000/svg\" height=\"24px\"viewBox=\"0 0 24 24\"\n",
              "       width=\"24px\">\n",
              "    <path d=\"M0 0h24v24H0V0z\" fill=\"none\"/>\n",
              "    <path d=\"M18.56 5.44l.94 2.06.94-2.06 2.06-.94-2.06-.94-.94-2.06-.94 2.06-2.06.94zm-11 1L8.5 8.5l.94-2.06 2.06-.94-2.06-.94L8.5 2.5l-.94 2.06-2.06.94zm10 10l.94 2.06.94-2.06 2.06-.94-2.06-.94-.94-2.06-.94 2.06-2.06.94z\"/><path d=\"M17.41 7.96l-1.37-1.37c-.4-.4-.92-.59-1.43-.59-.52 0-1.04.2-1.43.59L10.3 9.45l-7.72 7.72c-.78.78-.78 2.05 0 2.83L4 21.41c.39.39.9.59 1.41.59.51 0 1.02-.2 1.41-.59l7.78-7.78 2.81-2.81c.8-.78.8-2.07 0-2.86zM5.41 20L4 18.59l7.72-7.72 1.47 1.35L5.41 20z\"/>\n",
              "  </svg>\n",
              "      </button>\n",
              "      \n",
              "  <style>\n",
              "    .colab-df-container {\n",
              "      display:flex;\n",
              "      flex-wrap:wrap;\n",
              "      gap: 12px;\n",
              "    }\n",
              "\n",
              "    .colab-df-convert {\n",
              "      background-color: #E8F0FE;\n",
              "      border: none;\n",
              "      border-radius: 50%;\n",
              "      cursor: pointer;\n",
              "      display: none;\n",
              "      fill: #1967D2;\n",
              "      height: 32px;\n",
              "      padding: 0 0 0 0;\n",
              "      width: 32px;\n",
              "    }\n",
              "\n",
              "    .colab-df-convert:hover {\n",
              "      background-color: #E2EBFA;\n",
              "      box-shadow: 0px 1px 2px rgba(60, 64, 67, 0.3), 0px 1px 3px 1px rgba(60, 64, 67, 0.15);\n",
              "      fill: #174EA6;\n",
              "    }\n",
              "\n",
              "    [theme=dark] .colab-df-convert {\n",
              "      background-color: #3B4455;\n",
              "      fill: #D2E3FC;\n",
              "    }\n",
              "\n",
              "    [theme=dark] .colab-df-convert:hover {\n",
              "      background-color: #434B5C;\n",
              "      box-shadow: 0px 1px 3px 1px rgba(0, 0, 0, 0.15);\n",
              "      filter: drop-shadow(0px 1px 2px rgba(0, 0, 0, 0.3));\n",
              "      fill: #FFFFFF;\n",
              "    }\n",
              "  </style>\n",
              "\n",
              "      <script>\n",
              "        const buttonEl =\n",
              "          document.querySelector('#df-3b1fd9c8-3d42-4c2b-9820-be8e3adf547e button.colab-df-convert');\n",
              "        buttonEl.style.display =\n",
              "          google.colab.kernel.accessAllowed ? 'block' : 'none';\n",
              "\n",
              "        async function convertToInteractive(key) {\n",
              "          const element = document.querySelector('#df-3b1fd9c8-3d42-4c2b-9820-be8e3adf547e');\n",
              "          const dataTable =\n",
              "            await google.colab.kernel.invokeFunction('convertToInteractive',\n",
              "                                                     [key], {});\n",
              "          if (!dataTable) return;\n",
              "\n",
              "          const docLinkHtml = 'Like what you see? Visit the ' +\n",
              "            '<a target=\"_blank\" href=https://colab.research.google.com/notebooks/data_table.ipynb>data table notebook</a>'\n",
              "            + ' to learn more about interactive tables.';\n",
              "          element.innerHTML = '';\n",
              "          dataTable['output_type'] = 'display_data';\n",
              "          await google.colab.output.renderOutput(dataTable, element);\n",
              "          const docLink = document.createElement('div');\n",
              "          docLink.innerHTML = docLinkHtml;\n",
              "          element.appendChild(docLink);\n",
              "        }\n",
              "      </script>\n",
              "    </div>\n",
              "  </div>\n",
              "  "
            ]
          },
          "metadata": {},
          "execution_count": 4
        }
      ],
      "source": [
        "test_df.head()"
      ]
    },
    {
      "cell_type": "code",
      "execution_count": 5,
      "metadata": {
        "colab": {
          "base_uri": "https://localhost:8080/",
          "height": 316
        },
        "id": "326FAmEjFRUM",
        "outputId": "a89facf0-c687-45e2-fa2f-4c8113e105ed"
      },
      "outputs": [
        {
          "output_type": "execute_result",
          "data": {
            "text/plain": [
              "<matplotlib.axes._subplots.AxesSubplot at 0x7f881c156f50>"
            ]
          },
          "metadata": {},
          "execution_count": 5
        },
        {
          "output_type": "display_data",
          "data": {
            "text/plain": [
              "<Figure size 432x288 with 1 Axes>"
            ],
            "image/png": "[encoded data removed]"
          },
          "metadata": {
            "needs_background": "light"
          }
        }
      ],
      "source": [
        "train_df.label.value_counts().plot(kind='bar')"
      ]
    },
    {
      "cell_type": "code",
      "execution_count": 6,
      "metadata": {
        "colab": {
          "base_uri": "https://localhost:8080/",
          "height": 313
        },
        "id": "toiV_lwtFRUN",
        "outputId": "c1aa2656-3e7f-481c-cf52-d56f5a71bc13"
      },
      "outputs": [
        {
          "output_type": "execute_result",
          "data": {
            "text/plain": [
              "<matplotlib.axes._subplots.AxesSubplot at 0x7f881c051650>"
            ]
          },
          "metadata": {},
          "execution_count": 6
        },
        {
          "output_type": "display_data",
          "data": {
            "text/plain": [
              "<Figure size 432x288 with 1 Axes>"
            ],
            "image/png": "[encoded data removed]"
          },
          "metadata": {
            "needs_background": "light"
          }
        }
      ],
      "source": [
        "test_df.label.value_counts().plot(kind='bar')"
      ]
    },
    {
      "cell_type": "code",
      "execution_count": 7,
      "metadata": {
        "id": "4zyqDbU_FRUN"
      },
      "outputs": [],
      "source": [
        "train_df = train_df[train_df.label != 'anger']\n",
        "train_df = train_df[train_df.label != 'fear']\n",
        "test_df = test_df[test_df.label != 'anger']\n",
        "test_df = test_df[test_df.label != 'fear']"
      ]
    },
    {
      "cell_type": "code",
      "execution_count": 8,
      "metadata": {
        "colab": {
          "base_uri": "https://localhost:8080/"
        },
        "id": "OoPW4a8AFRUO",
        "outputId": "1a9e9b37-2932-4260-86d9-936aac319334"
      },
      "outputs": [
        {
          "output_type": "execute_result",
          "data": {
            "text/plain": [
              "((1609, 2), (1387, 2))"
            ]
          },
          "metadata": {},
          "execution_count": 8
        }
      ],
      "source": [
        "train_df.shape,test_df.shape"
      ]
    },
    {
      "cell_type": "code",
      "execution_count": 9,
      "metadata": {
        "colab": {
          "base_uri": "https://localhost:8080/",
          "height": 313
        },
        "id": "ootoa4LoFRUP",
        "outputId": "7914ca2f-f7f0-4ef7-b56e-63343b94e7ce"
      },
      "outputs": [
        {
          "output_type": "execute_result",
          "data": {
            "text/plain": [
              "<matplotlib.axes._subplots.AxesSubplot at 0x7f881bb85ad0>"
            ]
          },
          "metadata": {},
          "execution_count": 9
        },
        {
          "output_type": "display_data",
          "data": {
            "text/plain": [
              "<Figure size 432x288 with 1 Axes>"
            ],
            "image/png": "[encoded data removed]"
          },
          "metadata": {
            "needs_background": "light"
          }
        }
      ],
      "source": [
        "train_df.label.value_counts().plot(kind='bar')"
      ]
    },
    {
      "cell_type": "code",
      "execution_count": 10,
      "metadata": {
        "colab": {
          "base_uri": "https://localhost:8080/",
          "height": 313
        },
        "id": "5H7P-O9WFRUP",
        "outputId": "6e3ba12b-244b-4a09-85e6-4985527787b2"
      },
      "outputs": [
        {
          "output_type": "execute_result",
          "data": {
            "text/plain": [
              "<matplotlib.axes._subplots.AxesSubplot at 0x7f881baf54d0>"
            ]
          },
          "metadata": {},
          "execution_count": 10
        },
        {
          "output_type": "display_data",
          "data": {
            "text/plain": [
              "<Figure size 432x288 with 1 Axes>"
            ],
            "image/png": "[encoded data removed]"
          },
          "metadata": {
            "needs_background": "light"
          }
        }
      ],
      "source": [
        "test_df.label.value_counts().plot(kind='bar')"
      ]
    },
    {
      "cell_type": "code",
      "execution_count": 11,
      "metadata": {
        "colab": {
          "base_uri": "https://localhost:8080/",
          "height": 313
        },
        "id": "rGoi0gB_FRUQ",
        "outputId": "bca6319f-fd43-42cf-b1ca-facac5043d4c"
      },
      "outputs": [
        {
          "output_type": "execute_result",
          "data": {
            "text/plain": [
              "<matplotlib.axes._subplots.AxesSubplot at 0x7f881ba7bd10>"
            ]
          },
          "metadata": {},
          "execution_count": 11
        },
        {
          "output_type": "display_data",
          "data": {
            "text/plain": [
              "<Figure size 432x288 with 1 Axes>"
            ],
            "image/png": "[encoded data removed]"
          },
          "metadata": {
            "needs_background": "light"
          }
        }
      ],
      "source": [
        "train_df = train_df.groupby('label', group_keys=False).apply(lambda x: x.sample(1000,replace=True))\n",
        "train_df.label.value_counts().plot(kind='bar')"
      ]
    },
    {
      "cell_type": "markdown",
      "metadata": {
        "id": "o7kA5ACYFRUQ"
      },
      "source": [
        "## Created Dataframe with Reviews and Labels"
      ]
    },
    {
      "cell_type": "markdown",
      "metadata": {
        "id": "yOkiVPb0FRUR"
      },
      "source": [
        "## Preprocessing Section"
      ]
    },
    {
      "cell_type": "code",
      "execution_count": 12,
      "metadata": {
        "id": "PfBIKBNbFRUR"
      },
      "outputs": [],
      "source": [
        "def label_encoding(label):\n",
        "    if label=='joy':\n",
        "        return '1'\n",
        "    else :\n",
        "        return '0'"
      ]
    },
    {
      "cell_type": "code",
      "execution_count": 13,
      "metadata": {
        "id": "6havSHfUFRUR"
      },
      "outputs": [],
      "source": [
        "train_df['label'] = train_df['label'].apply(label_encoding)"
      ]
    },
    {
      "cell_type": "code",
      "execution_count": 14,
      "metadata": {
        "colab": {
          "base_uri": "https://localhost:8080/",
          "height": 206
        },
        "id": "IHoRnLDwFRUS",
        "outputId": "c3b527b6-a000-4fb8-99cb-01eda33e8d1e"
      },
      "outputs": [
        {
          "output_type": "execute_result",
          "data": {
            "text/plain": [
              "                                                  text label\n",
              "328           @Rbrutti what a #happy looking #couple !     1\n",
              "652  @flutterpolitely she is from the heyday 80's -...     1\n",
              "809  Studying the phases of oscillation. How jovial...     1\n",
              "575  #food  #деньги #smile   microsoft_.net_framewo...     1\n",
              "343  Watch this amazing live.ly broadcast by @elise...     1"
            ],
            "text/html": [
              "\n",
              "  <div id=\"df-d179a341-e062-469b-a6e1-b517ee00ff7f\">\n",
              "    <div class=\"colab-df-container\">\n",
              "      <div>\n",
              "<style scoped>\n",
              "    .dataframe tbody tr th:only-of-type {\n",
              "        vertical-align: middle;\n",
              "    }\n",
              "\n",
              "    .dataframe tbody tr th {\n",
              "        vertical-align: top;\n",
              "    }\n",
              "\n",
              "    .dataframe thead th {\n",
              "        text-align: right;\n",
              "    }\n",
              "</style>\n",
              "<table border=\"1\" class=\"dataframe\">\n",
              "  <thead>\n",
              "    <tr style=\"text-align: right;\">\n",
              "      <th></th>\n",
              "      <th>text</th>\n",
              "      <th>label</th>\n",
              "    </tr>\n",
              "  </thead>\n",
              "  <tbody>\n",
              "    <tr>\n",
              "      <th>328</th>\n",
              "      <td>@Rbrutti what a #happy looking #couple !</td>\n",
              "      <td>1</td>\n",
              "    </tr>\n",
              "    <tr>\n",
              "      <th>652</th>\n",
              "      <td>@flutterpolitely she is from the heyday 80's -...</td>\n",
              "      <td>1</td>\n",
              "    </tr>\n",
              "    <tr>\n",
              "      <th>809</th>\n",
              "      <td>Studying the phases of oscillation. How jovial...</td>\n",
              "      <td>1</td>\n",
              "    </tr>\n",
              "    <tr>\n",
              "      <th>575</th>\n",
              "      <td>#food  #деньги #smile   microsoft_.net_framewo...</td>\n",
              "      <td>1</td>\n",
              "    </tr>\n",
              "    <tr>\n",
              "      <th>343</th>\n",
              "      <td>Watch this amazing live.ly broadcast by @elise...</td>\n",
              "      <td>1</td>\n",
              "    </tr>\n",
              "  </tbody>\n",
              "</table>\n",
              "</div>\n",
              "      <button class=\"colab-df-convert\" onclick=\"convertToInteractive('df-d179a341-e062-469b-a6e1-b517ee00ff7f')\"\n",
              "              title=\"Convert this dataframe to an interactive table.\"\n",
              "              style=\"display:none;\">\n",
              "        \n",
              "  <svg xmlns=\"http://www.w3.org/2000/svg\" height=\"24px\"viewBox=\"0 0 24 24\"\n",
              "       width=\"24px\">\n",
              "    <path d=\"M0 0h24v24H0V0z\" fill=\"none\"/>\n",
              "    <path d=\"M18.56 5.44l.94 2.06.94-2.06 2.06-.94-2.06-.94-.94-2.06-.94 2.06-2.06.94zm-11 1L8.5 8.5l.94-2.06 2.06-.94-2.06-.94L8.5 2.5l-.94 2.06-2.06.94zm10 10l.94 2.06.94-2.06 2.06-.94-2.06-.94-.94-2.06-.94 2.06-2.06.94z\"/><path d=\"M17.41 7.96l-1.37-1.37c-.4-.4-.92-.59-1.43-.59-.52 0-1.04.2-1.43.59L10.3 9.45l-7.72 7.72c-.78.78-.78 2.05 0 2.83L4 21.41c.39.39.9.59 1.41.59.51 0 1.02-.2 1.41-.59l7.78-7.78 2.81-2.81c.8-.78.8-2.07 0-2.86zM5.41 20L4 18.59l7.72-7.72 1.47 1.35L5.41 20z\"/>\n",
              "  </svg>\n",
              "      </button>\n",
              "      \n",
              "  <style>\n",
              "    .colab-df-container {\n",
              "      display:flex;\n",
              "      flex-wrap:wrap;\n",
              "      gap: 12px;\n",
              "    }\n",
              "\n",
              "    .colab-df-convert {\n",
              "      background-color: #E8F0FE;\n",
              "      border: none;\n",
              "      border-radius: 50%;\n",
              "      cursor: pointer;\n",
              "      display: none;\n",
              "      fill: #1967D2;\n",
              "      height: 32px;\n",
              "      padding: 0 0 0 0;\n",
              "      width: 32px;\n",
              "    }\n",
              "\n",
              "    .colab-df-convert:hover {\n",
              "      background-color: #E2EBFA;\n",
              "      box-shadow: 0px 1px 2px rgba(60, 64, 67, 0.3), 0px 1px 3px 1px rgba(60, 64, 67, 0.15);\n",
              "      fill: #174EA6;\n",
              "    }\n",
              "\n",
              "    [theme=dark] .colab-df-convert {\n",
              "      background-color: #3B4455;\n",
              "      fill: #D2E3FC;\n",
              "    }\n",
              "\n",
              "    [theme=dark] .colab-df-convert:hover {\n",
              "      background-color: #434B5C;\n",
              "      box-shadow: 0px 1px 3px 1px rgba(0, 0, 0, 0.15);\n",
              "      filter: drop-shadow(0px 1px 2px rgba(0, 0, 0, 0.3));\n",
              "      fill: #FFFFFF;\n",
              "    }\n",
              "  </style>\n",
              "\n",
              "      <script>\n",
              "        const buttonEl =\n",
              "          document.querySelector('#df-d179a341-e062-469b-a6e1-b517ee00ff7f button.colab-df-convert');\n",
              "        buttonEl.style.display =\n",
              "          google.colab.kernel.accessAllowed ? 'block' : 'none';\n",
              "\n",
              "        async function convertToInteractive(key) {\n",
              "          const element = document.querySelector('#df-d179a341-e062-469b-a6e1-b517ee00ff7f');\n",
              "          const dataTable =\n",
              "            await google.colab.kernel.invokeFunction('convertToInteractive',\n",
              "                                                     [key], {});\n",
              "          if (!dataTable) return;\n",
              "\n",
              "          const docLinkHtml = 'Like what you see? Visit the ' +\n",
              "            '<a target=\"_blank\" href=https://colab.research.google.com/notebooks/data_table.ipynb>data table notebook</a>'\n",
              "            + ' to learn more about interactive tables.';\n",
              "          element.innerHTML = '';\n",
              "          dataTable['output_type'] = 'display_data';\n",
              "          await google.colab.output.renderOutput(dataTable, element);\n",
              "          const docLink = document.createElement('div');\n",
              "          docLink.innerHTML = docLinkHtml;\n",
              "          element.appendChild(docLink);\n",
              "        }\n",
              "      </script>\n",
              "    </div>\n",
              "  </div>\n",
              "  "
            ]
          },
          "metadata": {},
          "execution_count": 14
        }
      ],
      "source": [
        "train_df.head()"
      ]
    },
    {
      "cell_type": "code",
      "execution_count": 15,
      "metadata": {
        "id": "jRdhQSuFFRUS"
      },
      "outputs": [],
      "source": [
        "test_df['label'] = test_df['label'].apply(label_encoding)"
      ]
    },
    {
      "cell_type": "code",
      "execution_count": 16,
      "metadata": {
        "colab": {
          "base_uri": "https://localhost:8080/",
          "height": 206
        },
        "id": "WFF8YkVeFRUS",
        "outputId": "792e2522-c7b6-44c5-fd6b-d09fda5769af"
      },
      "outputs": [
        {
          "output_type": "execute_result",
          "data": {
            "text/plain": [
              "                                                text label\n",
              "0  You must be knowing #blithe means (adj.)  Happ...     1\n",
              "1  Old saying 'A #smile shared is one gained for ...     1\n",
              "2  Bridget Jones' Baby was bloody hilarious 😅 #Br...     1\n",
              "3  @Elaminova sparkling water makes your life spa...     1\n",
              "4  I'm tired of everybody telling me to chill out...     1"
            ],
            "text/html": [
              "\n",
              "  <div id=\"df-ee2054e3-a241-4f96-8b7f-c2592f9299af\">\n",
              "    <div class=\"colab-df-container\">\n",
              "      <div>\n",
              "<style scoped>\n",
              "    .dataframe tbody tr th:only-of-type {\n",
              "        vertical-align: middle;\n",
              "    }\n",
              "\n",
              "    .dataframe tbody tr th {\n",
              "        vertical-align: top;\n",
              "    }\n",
              "\n",
              "    .dataframe thead th {\n",
              "        text-align: right;\n",
              "    }\n",
              "</style>\n",
              "<table border=\"1\" class=\"dataframe\">\n",
              "  <thead>\n",
              "    <tr style=\"text-align: right;\">\n",
              "      <th></th>\n",
              "      <th>text</th>\n",
              "      <th>label</th>\n",
              "    </tr>\n",
              "  </thead>\n",
              "  <tbody>\n",
              "    <tr>\n",
              "      <th>0</th>\n",
              "      <td>You must be knowing #blithe means (adj.)  Happ...</td>\n",
              "      <td>1</td>\n",
              "    </tr>\n",
              "    <tr>\n",
              "      <th>1</th>\n",
              "      <td>Old saying 'A #smile shared is one gained for ...</td>\n",
              "      <td>1</td>\n",
              "    </tr>\n",
              "    <tr>\n",
              "      <th>2</th>\n",
              "      <td>Bridget Jones' Baby was bloody hilarious 😅 #Br...</td>\n",
              "      <td>1</td>\n",
              "    </tr>\n",
              "    <tr>\n",
              "      <th>3</th>\n",
              "      <td>@Elaminova sparkling water makes your life spa...</td>\n",
              "      <td>1</td>\n",
              "    </tr>\n",
              "    <tr>\n",
              "      <th>4</th>\n",
              "      <td>I'm tired of everybody telling me to chill out...</td>\n",
              "      <td>1</td>\n",
              "    </tr>\n",
              "  </tbody>\n",
              "</table>\n",
              "</div>\n",
              "      <button class=\"colab-df-convert\" onclick=\"convertToInteractive('df-ee2054e3-a241-4f96-8b7f-c2592f9299af')\"\n",
              "              title=\"Convert this dataframe to an interactive table.\"\n",
              "              style=\"display:none;\">\n",
              "        \n",
              "  <svg xmlns=\"http://www.w3.org/2000/svg\" height=\"24px\"viewBox=\"0 0 24 24\"\n",
              "       width=\"24px\">\n",
              "    <path d=\"M0 0h24v24H0V0z\" fill=\"none\"/>\n",
              "    <path d=\"M18.56 5.44l.94 2.06.94-2.06 2.06-.94-2.06-.94-.94-2.06-.94 2.06-2.06.94zm-11 1L8.5 8.5l.94-2.06 2.06-.94-2.06-.94L8.5 2.5l-.94 2.06-2.06.94zm10 10l.94 2.06.94-2.06 2.06-.94-2.06-.94-.94-2.06-.94 2.06-2.06.94z\"/><path d=\"M17.41 7.96l-1.37-1.37c-.4-.4-.92-.59-1.43-.59-.52 0-1.04.2-1.43.59L10.3 9.45l-7.72 7.72c-.78.78-.78 2.05 0 2.83L4 21.41c.39.39.9.59 1.41.59.51 0 1.02-.2 1.41-.59l7.78-7.78 2.81-2.81c.8-.78.8-2.07 0-2.86zM5.41 20L4 18.59l7.72-7.72 1.47 1.35L5.41 20z\"/>\n",
              "  </svg>\n",
              "      </button>\n",
              "      \n",
              "  <style>\n",
              "    .colab-df-container {\n",
              "      display:flex;\n",
              "      flex-wrap:wrap;\n",
              "      gap: 12px;\n",
              "    }\n",
              "\n",
              "    .colab-df-convert {\n",
              "      background-color: #E8F0FE;\n",
              "      border: none;\n",
              "      border-radius: 50%;\n",
              "      cursor: pointer;\n",
              "      display: none;\n",
              "      fill: #1967D2;\n",
              "      height: 32px;\n",
              "      padding: 0 0 0 0;\n",
              "      width: 32px;\n",
              "    }\n",
              "\n",
              "    .colab-df-convert:hover {\n",
              "      background-color: #E2EBFA;\n",
              "      box-shadow: 0px 1px 2px rgba(60, 64, 67, 0.3), 0px 1px 3px 1px rgba(60, 64, 67, 0.15);\n",
              "      fill: #174EA6;\n",
              "    }\n",
              "\n",
              "    [theme=dark] .colab-df-convert {\n",
              "      background-color: #3B4455;\n",
              "      fill: #D2E3FC;\n",
              "    }\n",
              "\n",
              "    [theme=dark] .colab-df-convert:hover {\n",
              "      background-color: #434B5C;\n",
              "      box-shadow: 0px 1px 3px 1px rgba(0, 0, 0, 0.15);\n",
              "      filter: drop-shadow(0px 1px 2px rgba(0, 0, 0, 0.3));\n",
              "      fill: #FFFFFF;\n",
              "    }\n",
              "  </style>\n",
              "\n",
              "      <script>\n",
              "        const buttonEl =\n",
              "          document.querySelector('#df-ee2054e3-a241-4f96-8b7f-c2592f9299af button.colab-df-convert');\n",
              "        buttonEl.style.display =\n",
              "          google.colab.kernel.accessAllowed ? 'block' : 'none';\n",
              "\n",
              "        async function convertToInteractive(key) {\n",
              "          const element = document.querySelector('#df-ee2054e3-a241-4f96-8b7f-c2592f9299af');\n",
              "          const dataTable =\n",
              "            await google.colab.kernel.invokeFunction('convertToInteractive',\n",
              "                                                     [key], {});\n",
              "          if (!dataTable) return;\n",
              "\n",
              "          const docLinkHtml = 'Like what you see? Visit the ' +\n",
              "            '<a target=\"_blank\" href=https://colab.research.google.com/notebooks/data_table.ipynb>data table notebook</a>'\n",
              "            + ' to learn more about interactive tables.';\n",
              "          element.innerHTML = '';\n",
              "          dataTable['output_type'] = 'display_data';\n",
              "          await google.colab.output.renderOutput(dataTable, element);\n",
              "          const docLink = document.createElement('div');\n",
              "          docLink.innerHTML = docLinkHtml;\n",
              "          element.appendChild(docLink);\n",
              "        }\n",
              "      </script>\n",
              "    </div>\n",
              "  </div>\n",
              "  "
            ]
          },
          "metadata": {},
          "execution_count": 16
        }
      ],
      "source": [
        "test_df.head()"
      ]
    },
    {
      "cell_type": "code",
      "execution_count": 17,
      "metadata": {
        "id": "pdvOyLPiFRUT"
      },
      "outputs": [],
      "source": [
        "import re\n",
        "def preprocess(text):\n",
        "    text = text.replace(\"n\\'t\", \" not\")\n",
        "    text = text.replace(\"n't\", \" not\")\n",
        "    text = text.replace(\"\\'ve\", \" have\")\n",
        "    text = text.replace(\"\\'m\", \" am\")\n",
        "    text = text.replace(\"\\'re\", \" are\")\n",
        "    text = text.replace(\"\\'s\", \" is\")\n",
        "    text = text.replace(\"\\'ll\", \" will\")\n",
        "    text = \" \".join(text.split())\n",
        "    text = re.sub('[^A-Za-z0-9]+', ' ', text)\n",
        "    text = \" \".join(text.split())\n",
        "    return text.lower()"
      ]
    },
    {
      "cell_type": "code",
      "execution_count": 18,
      "metadata": {
        "colab": {
          "base_uri": "https://localhost:8080/"
        },
        "id": "dalenvT1FRUT",
        "outputId": "98f72056-9a24-4a92-f204-a9b86e3e6b24"
      },
      "outputs": [
        {
          "output_type": "stream",
          "name": "stderr",
          "text": [
            "[nltk_data] Downloading package stopwords to /root/nltk_data...\n",
            "[nltk_data]   Unzipping corpora/stopwords.zip.\n",
            "[nltk_data] Downloading package punkt to /root/nltk_data...\n",
            "[nltk_data]   Unzipping tokenizers/punkt.zip.\n"
          ]
        }
      ],
      "source": [
        "import nltk\n",
        "from nltk.corpus import stopwords\n",
        "from nltk.tokenize import word_tokenize\n",
        "nltk.download('stopwords')\n",
        "nltk.download('punkt')\n",
        "\n",
        "def remove_stopwords(sentence):\n",
        "    stop_words = set(stopwords.words('english'))\n",
        "    word_tokens = word_tokenize(sentence)\n",
        "    filtered_sentence = [w for w in word_tokens if not w.lower() in stop_words]\n",
        "    return \" \".join(filtered_sentence)"
      ]
    },
    {
      "cell_type": "code",
      "execution_count": 19,
      "metadata": {
        "colab": {
          "base_uri": "https://localhost:8080/"
        },
        "id": "P65V0AK3FRUU",
        "outputId": "bc790f7f-151f-4012-f1c7-91e0601dbfdf"
      },
      "outputs": [
        {
          "output_type": "stream",
          "name": "stdout",
          "text": [
            "{'ain', 'being', 'so', 'has', 'that', 've', \"you're\", 'in', 'myself', \"hasn't\", 'shouldn', 'with', 'there', 'such', 'shan', 'aren', 'other', 'out', 'hers', \"isn't\", 'too', \"wouldn't\", 'y', 'you', 'don', 'weren', \"mustn't\", 'he', 'll', 'was', 'who', 'until', 'where', 'ma', \"wasn't\", 'them', 're', 'have', \"shan't\", 'further', \"don't\", \"you've\", 'once', 'own', \"didn't\", \"it's\", 'both', 'i', 'can', \"you'll\", 'themselves', 'up', 'all', \"aren't\", 'or', 'down', 'but', 'before', 'me', 'most', 'wasn', 'o', 'over', 'a', 'for', 'off', 'here', 'some', 'should', 'at', 'didn', 'an', 'does', 'about', 'between', \"mightn't\", 'doesn', 'nor', 'haven', 'my', \"needn't\", \"couldn't\", 'more', 'if', 'had', 'be', 'below', 'itself', 't', 'hadn', 'our', 'the', 'those', 'only', 'very', 'his', \"hadn't\", \"that'll\", 'theirs', 'mustn', 'yourselves', 'been', 'under', 'were', \"shouldn't\", 'its', 'they', 'from', \"doesn't\", 'your', 'which', 'on', 'did', 'wouldn', 'herself', 'during', 'as', 'against', 'few', 'and', 'than', 'again', 'she', 'do', 'these', 'above', 'needn', 'by', 'will', 'after', 'of', 'how', 'mightn', 'not', 'what', 'yourself', \"you'd\", 'then', 'just', 'won', 'couldn', 'having', 'him', 'am', 'm', 'their', 'himself', 'is', 'we', 'same', \"won't\", 'it', 'whom', 'her', 'are', 'while', 'through', 'ourselves', 'no', 'because', 'doing', 'this', 's', 'into', \"should've\", 'isn', 'to', \"weren't\", 'now', 'ours', \"haven't\", 'd', 'each', 'yours', 'when', \"she's\", 'any', 'why', 'hasn'}\n"
          ]
        }
      ],
      "source": [
        "print(set(stopwords.words('english')))"
      ]
    },
    {
      "cell_type": "code",
      "execution_count": 20,
      "metadata": {
        "colab": {
          "base_uri": "https://localhost:8080/"
        },
        "id": "DdILUt0aFRUU",
        "outputId": "54d63538-6911-4322-8eed-4d91c807a542"
      },
      "outputs": [
        {
          "output_type": "execute_result",
          "data": {
            "text/plain": [
              "328                  rbrutti what a happy looking couple\n",
              "652    flutterpolitely she is from the heyday 80 is c...\n",
              "809        studying the phases of oscillation how jovial\n",
              "575    food smile microsoft net framework 4 5 1 full ...\n",
              "343    watch this amazing live ly broadcast by elise ...\n",
              "Name: text, dtype: object"
            ]
          },
          "metadata": {},
          "execution_count": 20
        }
      ],
      "source": [
        "train_df['text'] = train_df['text'].apply(preprocess)\n",
        "train_df['text'].head()"
      ]
    },
    {
      "cell_type": "code",
      "execution_count": 21,
      "metadata": {
        "colab": {
          "base_uri": "https://localhost:8080/"
        },
        "id": "QhbPPaFIFRUV",
        "outputId": "fc69c650-3e90-427a-f1b0-e3abfd66511e"
      },
      "outputs": [
        {
          "output_type": "execute_result",
          "data": {
            "text/plain": [
              "0    you must be knowing blithe means adj happy che...\n",
              "1    old saying a smile shared is one gained for an...\n",
              "2    bridget jones baby was bloody hilarious bridge...\n",
              "3    elaminova sparkling water makes your life sparkly\n",
              "4    i am tired of everybody telling me to chill ou...\n",
              "Name: text, dtype: object"
            ]
          },
          "metadata": {},
          "execution_count": 21
        }
      ],
      "source": [
        "test_df['text'] = test_df['text'].apply(preprocess)\n",
        "test_df['text'].head()"
      ]
    },
    {
      "cell_type": "code",
      "execution_count": 22,
      "metadata": {
        "colab": {
          "base_uri": "https://localhost:8080/"
        },
        "id": "Y_De-xg1FRUV",
        "outputId": "c9612619-d5ef-4219-e580-34e2e905cc93"
      },
      "outputs": [
        {
          "output_type": "execute_result",
          "data": {
            "text/plain": [
              "328                         rbrutti happy looking couple\n",
              "652    flutterpolitely heyday 80 could go either way ...\n",
              "809                   studying phases oscillation jovial\n",
              "575    food smile microsoft net framework 4 5 1 full ...\n",
              "343    watch amazing live ly broadcast elise awsome 1...\n",
              "Name: text, dtype: object"
            ]
          },
          "metadata": {},
          "execution_count": 22
        }
      ],
      "source": [
        "train_df['text'] = train_df['text'].apply(remove_stopwords)\n",
        "train_df['text'].head()"
      ]
    },
    {
      "cell_type": "code",
      "execution_count": 23,
      "metadata": {
        "colab": {
          "base_uri": "https://localhost:8080/"
        },
        "id": "lZEQC8xCFRUV",
        "outputId": "93255d86-031c-4576-e6f6-bcfda6bf17fa"
      },
      "outputs": [
        {
          "output_type": "execute_result",
          "data": {
            "text/plain": [
              "0         must knowing blithe means adj happy cheerful\n",
              "1    old saying smile shared one gained another day...\n",
              "2    bridget jones baby bloody hilarious bridgetjon...\n",
              "3         elaminova sparkling water makes life sparkly\n",
              "4    tired everybody telling chill everythings ok f...\n",
              "Name: text, dtype: object"
            ]
          },
          "metadata": {},
          "execution_count": 23
        }
      ],
      "source": [
        "test_df['text'] = test_df['text'].apply(remove_stopwords)\n",
        "test_df['text'].head()"
      ]
    },
    {
      "cell_type": "code",
      "execution_count": 24,
      "metadata": {
        "colab": {
          "base_uri": "https://localhost:8080/",
          "height": 206
        },
        "id": "C0PCE7kdFRUW",
        "outputId": "7345adc8-3edc-461c-9cd2-c3f55ceae2e4"
      },
      "outputs": [
        {
          "output_type": "execute_result",
          "data": {
            "text/plain": [
              "                                                  text label\n",
              "328                       rbrutti happy looking couple     1\n",
              "652  flutterpolitely heyday 80 could go either way ...     1\n",
              "809                 studying phases oscillation jovial     1\n",
              "575  food smile microsoft net framework 4 5 1 full ...     1\n",
              "343  watch amazing live ly broadcast elise awsome 1...     1"
            ],
            "text/html": [
              "\n",
              "  <div id=\"df-9f19e2de-e924-4687-aef9-12b4f79ab0cc\">\n",
              "    <div class=\"colab-df-container\">\n",
              "      <div>\n",
              "<style scoped>\n",
              "    .dataframe tbody tr th:only-of-type {\n",
              "        vertical-align: middle;\n",
              "    }\n",
              "\n",
              "    .dataframe tbody tr th {\n",
              "        vertical-align: top;\n",
              "    }\n",
              "\n",
              "    .dataframe thead th {\n",
              "        text-align: right;\n",
              "    }\n",
              "</style>\n",
              "<table border=\"1\" class=\"dataframe\">\n",
              "  <thead>\n",
              "    <tr style=\"text-align: right;\">\n",
              "      <th></th>\n",
              "      <th>text</th>\n",
              "      <th>label</th>\n",
              "    </tr>\n",
              "  </thead>\n",
              "  <tbody>\n",
              "    <tr>\n",
              "      <th>328</th>\n",
              "      <td>rbrutti happy looking couple</td>\n",
              "      <td>1</td>\n",
              "    </tr>\n",
              "    <tr>\n",
              "      <th>652</th>\n",
              "      <td>flutterpolitely heyday 80 could go either way ...</td>\n",
              "      <td>1</td>\n",
              "    </tr>\n",
              "    <tr>\n",
              "      <th>809</th>\n",
              "      <td>studying phases oscillation jovial</td>\n",
              "      <td>1</td>\n",
              "    </tr>\n",
              "    <tr>\n",
              "      <th>575</th>\n",
              "      <td>food smile microsoft net framework 4 5 1 full ...</td>\n",
              "      <td>1</td>\n",
              "    </tr>\n",
              "    <tr>\n",
              "      <th>343</th>\n",
              "      <td>watch amazing live ly broadcast elise awsome 1...</td>\n",
              "      <td>1</td>\n",
              "    </tr>\n",
              "  </tbody>\n",
              "</table>\n",
              "</div>\n",
              "      <button class=\"colab-df-convert\" onclick=\"convertToInteractive('df-9f19e2de-e924-4687-aef9-12b4f79ab0cc')\"\n",
              "              title=\"Convert this dataframe to an interactive table.\"\n",
              "              style=\"display:none;\">\n",
              "        \n",
              "  <svg xmlns=\"http://www.w3.org/2000/svg\" height=\"24px\"viewBox=\"0 0 24 24\"\n",
              "       width=\"24px\">\n",
              "    <path d=\"M0 0h24v24H0V0z\" fill=\"none\"/>\n",
              "    <path d=\"M18.56 5.44l.94 2.06.94-2.06 2.06-.94-2.06-.94-.94-2.06-.94 2.06-2.06.94zm-11 1L8.5 8.5l.94-2.06 2.06-.94-2.06-.94L8.5 2.5l-.94 2.06-2.06.94zm10 10l.94 2.06.94-2.06 2.06-.94-2.06-.94-.94-2.06-.94 2.06-2.06.94z\"/><path d=\"M17.41 7.96l-1.37-1.37c-.4-.4-.92-.59-1.43-.59-.52 0-1.04.2-1.43.59L10.3 9.45l-7.72 7.72c-.78.78-.78 2.05 0 2.83L4 21.41c.39.39.9.59 1.41.59.51 0 1.02-.2 1.41-.59l7.78-7.78 2.81-2.81c.8-.78.8-2.07 0-2.86zM5.41 20L4 18.59l7.72-7.72 1.47 1.35L5.41 20z\"/>\n",
              "  </svg>\n",
              "      </button>\n",
              "      \n",
              "  <style>\n",
              "    .colab-df-container {\n",
              "      display:flex;\n",
              "      flex-wrap:wrap;\n",
              "      gap: 12px;\n",
              "    }\n",
              "\n",
              "    .colab-df-convert {\n",
              "      background-color: #E8F0FE;\n",
              "      border: none;\n",
              "      border-radius: 50%;\n",
              "      cursor: pointer;\n",
              "      display: none;\n",
              "      fill: #1967D2;\n",
              "      height: 32px;\n",
              "      padding: 0 0 0 0;\n",
              "      width: 32px;\n",
              "    }\n",
              "\n",
              "    .colab-df-convert:hover {\n",
              "      background-color: #E2EBFA;\n",
              "      box-shadow: 0px 1px 2px rgba(60, 64, 67, 0.3), 0px 1px 3px 1px rgba(60, 64, 67, 0.15);\n",
              "      fill: #174EA6;\n",
              "    }\n",
              "\n",
              "    [theme=dark] .colab-df-convert {\n",
              "      background-color: #3B4455;\n",
              "      fill: #D2E3FC;\n",
              "    }\n",
              "\n",
              "    [theme=dark] .colab-df-convert:hover {\n",
              "      background-color: #434B5C;\n",
              "      box-shadow: 0px 1px 3px 1px rgba(0, 0, 0, 0.15);\n",
              "      filter: drop-shadow(0px 1px 2px rgba(0, 0, 0, 0.3));\n",
              "      fill: #FFFFFF;\n",
              "    }\n",
              "  </style>\n",
              "\n",
              "      <script>\n",
              "        const buttonEl =\n",
              "          document.querySelector('#df-9f19e2de-e924-4687-aef9-12b4f79ab0cc button.colab-df-convert');\n",
              "        buttonEl.style.display =\n",
              "          google.colab.kernel.accessAllowed ? 'block' : 'none';\n",
              "\n",
              "        async function convertToInteractive(key) {\n",
              "          const element = document.querySelector('#df-9f19e2de-e924-4687-aef9-12b4f79ab0cc');\n",
              "          const dataTable =\n",
              "            await google.colab.kernel.invokeFunction('convertToInteractive',\n",
              "                                                     [key], {});\n",
              "          if (!dataTable) return;\n",
              "\n",
              "          const docLinkHtml = 'Like what you see? Visit the ' +\n",
              "            '<a target=\"_blank\" href=https://colab.research.google.com/notebooks/data_table.ipynb>data table notebook</a>'\n",
              "            + ' to learn more about interactive tables.';\n",
              "          element.innerHTML = '';\n",
              "          dataTable['output_type'] = 'display_data';\n",
              "          await google.colab.output.renderOutput(dataTable, element);\n",
              "          const docLink = document.createElement('div');\n",
              "          docLink.innerHTML = docLinkHtml;\n",
              "          element.appendChild(docLink);\n",
              "        }\n",
              "      </script>\n",
              "    </div>\n",
              "  </div>\n",
              "  "
            ]
          },
          "metadata": {},
          "execution_count": 24
        }
      ],
      "source": [
        "train_df.head()"
      ]
    },
    {
      "cell_type": "code",
      "execution_count": 25,
      "metadata": {
        "id": "iaD-Y1GbFRUW"
      },
      "outputs": [],
      "source": [
        "from sklearn.feature_extraction.text import TfidfVectorizer\n",
        "\n",
        "tfidf = TfidfVectorizer(ngram_range=(1,2),max_features=5000)\n",
        "tfidf.fit(train_df['text'])\n",
        "train_tfidf = tfidf.transform(train_df['text'])\n",
        "test_tfidf = tfidf.transform(test_df['text'])"
      ]
    },
    {
      "cell_type": "code",
      "execution_count": 26,
      "metadata": {
        "colab": {
          "base_uri": "https://localhost:8080/"
        },
        "id": "da0Lo87MFRUX",
        "outputId": "9caa2dbf-2645-4e3d-bc40-92ad975a8490"
      },
      "outputs": [
        {
          "output_type": "execute_result",
          "data": {
            "text/plain": [
              "((2000, 5000), (1387, 5000))"
            ]
          },
          "metadata": {},
          "execution_count": 26
        }
      ],
      "source": [
        "train_tfidf.shape,test_tfidf.shape"
      ]
    },
    {
      "cell_type": "code",
      "execution_count": 27,
      "metadata": {
        "colab": {
          "base_uri": "https://localhost:8080/"
        },
        "id": "JLjeH4KuFRUX",
        "outputId": "91377bfd-7202-4440-ca7e-fd2891ebb123"
      },
      "outputs": [
        {
          "output_type": "stream",
          "name": "stdout",
          "text": [
            "['album', 'album digging', 'alicia', 'alicia year', 'alive', 'almost', 'almost mobile', 'alone', 'along', 'along glee', 'along thighs', 'already', 'already plotting', 'already spending', 'alright', 'alright said', 'also', 'also got', 'always', 'always depression', 'always eliza', 'always fun', 'always indeed', 'always joy', 'always nice', 'always nigger', 'always ready', 'alwayshungry', 'alwayshungry sunk', 'amazing', 'amazing blackishwriters', 'amazing face', 'amazing live', 'amazing scenery', 'amndbots', 'among', 'among warrior', 'amp', 'amp amp', 'amp anticipating']\n"
          ]
        },
        {
          "output_type": "stream",
          "name": "stderr",
          "text": [
            "/usr/local/lib/python3.7/dist-packages/sklearn/utils/deprecation.py:87: FutureWarning: Function get_feature_names is deprecated; get_feature_names is deprecated in 1.0 and will be removed in 1.2. Please use get_feature_names_out instead.\n",
            "  warnings.warn(msg, category=FutureWarning)\n"
          ]
        }
      ],
      "source": [
        "print(tfidf.get_feature_names()[100:140])"
      ]
    },
    {
      "cell_type": "markdown",
      "metadata": {
        "id": "SW3jxnMxFRUX"
      },
      "source": [
        "## Train Test Split"
      ]
    },
    {
      "cell_type": "code",
      "execution_count": 28,
      "metadata": {
        "id": "MAymHzi2FRUX"
      },
      "outputs": [],
      "source": [
        "from sklearn.model_selection import train_test_split\n",
        "\n",
        "X_train, X_val, y_train, y_val = train_test_split(train_tfidf, train_df['label'], test_size=0.2, stratify=train_df['label'],random_state=20)"
      ]
    },
    {
      "cell_type": "code",
      "execution_count": 29,
      "metadata": {
        "id": "xzbluCa4FRUY"
      },
      "outputs": [],
      "source": [
        "model_name = []\n",
        "train_accuracies = []\n",
        "val_accuracies = []\n",
        "test_accuracies = []"
      ]
    },
    {
      "cell_type": "markdown",
      "metadata": {
        "id": "AwoLVWqrFRUY"
      },
      "source": [
        "## Multinomial Naive Bayes Model"
      ]
    },
    {
      "cell_type": "code",
      "execution_count": 30,
      "metadata": {
        "colab": {
          "base_uri": "https://localhost:8080/"
        },
        "id": "-BXTugScFRUY",
        "outputId": "6b12c727-1af5-4ffb-a4aa-8782916c08cc"
      },
      "outputs": [
        {
          "output_type": "execute_result",
          "data": {
            "text/plain": [
              "MultinomialNB()"
            ]
          },
          "metadata": {},
          "execution_count": 30
        }
      ],
      "source": [
        "from sklearn.naive_bayes import MultinomialNB\n",
        "\n",
        "clf = MultinomialNB()\n",
        "clf.fit(X_train,y_train)"
      ]
    },
    {
      "cell_type": "markdown",
      "metadata": {
        "id": "ttbdgZyJFRUY"
      },
      "source": [
        "## Prediction of Probabilities"
      ]
    },
    {
      "cell_type": "code",
      "execution_count": 31,
      "metadata": {
        "id": "kF_H9fkYFRUY"
      },
      "outputs": [],
      "source": [
        "train_probabilities = clf.predict_proba(X_train)[:,1]\n",
        "val_probabilities = clf.predict_proba(X_val)[:,1]"
      ]
    },
    {
      "cell_type": "code",
      "execution_count": 32,
      "metadata": {
        "colab": {
          "base_uri": "https://localhost:8080/"
        },
        "id": "aWlBtb_DFRUZ",
        "outputId": "8d4a5aef-b3a0-4fb5-99ba-e8be849639df"
      },
      "outputs": [
        {
          "output_type": "execute_result",
          "data": {
            "text/plain": [
              "array([0.71495331, 0.07091431, 0.28295576, 0.8349996 , 0.83948288,\n",
              "       0.15024221, 0.75775791, 0.70809465, 0.93790308, 0.17172747])"
            ]
          },
          "metadata": {},
          "execution_count": 32
        }
      ],
      "source": [
        "train_probabilities[:10]"
      ]
    },
    {
      "cell_type": "code",
      "execution_count": 33,
      "metadata": {
        "colab": {
          "base_uri": "https://localhost:8080/"
        },
        "id": "ZyMTPPxvFRUZ",
        "outputId": "807f73e5-fd3a-4cb2-a8be-a09f72f1b17a"
      },
      "outputs": [
        {
          "output_type": "execute_result",
          "data": {
            "text/plain": [
              "array([0.7438836 , 0.8331312 , 0.91697738, 0.1549029 , 0.59563524,\n",
              "       0.87658851, 0.82075745, 0.26992965, 0.79039297, 0.14983711])"
            ]
          },
          "metadata": {},
          "execution_count": 33
        }
      ],
      "source": [
        "val_probabilities[:10]"
      ]
    },
    {
      "cell_type": "markdown",
      "metadata": {
        "id": "eV8MmVz1FRUZ"
      },
      "source": [
        "## Prediction of log probabilities"
      ]
    },
    {
      "cell_type": "code",
      "execution_count": 34,
      "metadata": {
        "id": "IanQ8oqmFRUZ"
      },
      "outputs": [],
      "source": [
        "train_log_probabilities = clf.predict_log_proba(X_train)[:,1]\n",
        "val_log_probabilities = clf.predict_log_proba(X_val)[:,1]"
      ]
    },
    {
      "cell_type": "code",
      "execution_count": 35,
      "metadata": {
        "colab": {
          "base_uri": "https://localhost:8080/"
        },
        "id": "0YWLJiCLFRUZ",
        "outputId": "046a57b0-3430-468b-c08a-b7bec004ff92"
      },
      "outputs": [
        {
          "output_type": "execute_result",
          "data": {
            "text/plain": [
              "array([-0.33553804, -2.64628297, -1.2624647 , -0.18032403, -0.1749692 ,\n",
              "       -1.89550658, -0.27739132, -0.3451775 , -0.06410866, -1.76184653])"
            ]
          },
          "metadata": {},
          "execution_count": 35
        }
      ],
      "source": [
        "train_log_probabilities[:10]"
      ]
    },
    {
      "cell_type": "code",
      "execution_count": 36,
      "metadata": {
        "colab": {
          "base_uri": "https://localhost:8080/"
        },
        "id": "mNsE8X8wFRUa",
        "outputId": "69a9aa13-f1a6-4792-f4da-90e2118d47b7"
      },
      "outputs": [
        {
          "output_type": "execute_result",
          "data": {
            "text/plain": [
              "array([-0.2958707 , -0.18256415, -0.08667247, -1.86495681, -0.51812681,\n",
              "       -0.1317176 , -0.19752765, -1.30959392, -0.23522502, -1.8982065 ])"
            ]
          },
          "metadata": {},
          "execution_count": 36
        }
      ],
      "source": [
        "val_log_probabilities[:10]"
      ]
    },
    {
      "cell_type": "markdown",
      "metadata": {
        "id": "49HgVuW2FRUa"
      },
      "source": [
        "## Prediction of labels"
      ]
    },
    {
      "cell_type": "code",
      "execution_count": 37,
      "metadata": {
        "id": "npOQvhgZFRUa"
      },
      "outputs": [],
      "source": [
        "predicted_train = clf.predict(X_train)\n",
        "predicted_val = clf.predict(X_val)"
      ]
    },
    {
      "cell_type": "markdown",
      "metadata": {
        "id": "KMk0vun0FRUa"
      },
      "source": [
        "## Accuracy Score"
      ]
    },
    {
      "cell_type": "code",
      "execution_count": 38,
      "metadata": {
        "colab": {
          "base_uri": "https://localhost:8080/"
        },
        "id": "0OeBa1JCFRUa",
        "outputId": "f001a349-02ae-4c1a-f8f7-e77a29fdeb87"
      },
      "outputs": [
        {
          "output_type": "stream",
          "name": "stdout",
          "text": [
            "The Train accuracy for the model Multinomial Naive Bayes is :  0.99375\n",
            "The Validation accuracy for the model Multinomial Naive Bayes is :  0.985\n"
          ]
        }
      ],
      "source": [
        "from sklearn.metrics import accuracy_score,confusion_matrix,roc_auc_score\n",
        "\n",
        "print(\"The Train accuracy for the model Multinomial Naive Bayes is : \",accuracy_score(y_train,predicted_train))\n",
        "print(\"The Validation accuracy for the model Multinomial Naive Bayes is : \",accuracy_score(y_val,predicted_val))"
      ]
    },
    {
      "cell_type": "markdown",
      "metadata": {
        "id": "3fMk79FDFRUa"
      },
      "source": [
        "## Plotting Confusion Matrix"
      ]
    },
    {
      "cell_type": "code",
      "execution_count": 39,
      "metadata": {
        "id": "tAJjA_EoFRUb"
      },
      "outputs": [],
      "source": [
        "import matplotlib.pyplot as plt\n",
        "import seaborn as sns\n",
        "\n",
        "def plot_confusion_matrix(cf_matrix,title):\n",
        "    sns.heatmap(cf_matrix, annot=True,fmt='g',cmap=\"Blues\",xticklabels=[\"negative\",\"positive\"],yticklabels=[\"negative\",\"positive\"])\n",
        "    plt.title(title)\n",
        "    plt.show()"
      ]
    },
    {
      "cell_type": "code",
      "execution_count": 40,
      "metadata": {
        "colab": {
          "base_uri": "https://localhost:8080/",
          "height": 281
        },
        "id": "LPGmgcynFRUb",
        "outputId": "16a5ee64-75d9-47c5-cab1-2e7af970a629"
      },
      "outputs": [
        {
          "output_type": "display_data",
          "data": {
            "text/plain": [
              "<Figure size 432x288 with 2 Axes>"
            ],
            "image/png": "[encoded data removed]"
          },
          "metadata": {
            "needs_background": "light"
          }
        }
      ],
      "source": [
        "plot_confusion_matrix(confusion_matrix(y_train,predicted_train),\"Train confusion Matrix for the model Multinomial Naive Bayes\")"
      ]
    },
    {
      "cell_type": "code",
      "execution_count": 41,
      "metadata": {
        "colab": {
          "base_uri": "https://localhost:8080/",
          "height": 281
        },
        "id": "F3vaayl7FRUb",
        "outputId": "407c9264-e020-4071-a66a-4544d90eb0e1"
      },
      "outputs": [
        {
          "output_type": "display_data",
          "data": {
            "text/plain": [
              "<Figure size 432x288 with 2 Axes>"
            ],
            "image/png": "[encoded data removed]"
          },
          "metadata": {
            "needs_background": "light"
          }
        }
      ],
      "source": [
        "plot_confusion_matrix(confusion_matrix(y_val,predicted_val),\"Validation confusion Matrix for the model Multinomial Naive Bayes\")"
      ]
    },
    {
      "cell_type": "code",
      "execution_count": 42,
      "metadata": {
        "id": "Ajc5yOnzFRUc"
      },
      "outputs": [],
      "source": [
        "testset_predicted = clf.predict(test_tfidf)"
      ]
    },
    {
      "cell_type": "code",
      "execution_count": 43,
      "metadata": {
        "colab": {
          "base_uri": "https://localhost:8080/"
        },
        "id": "xVE6v3tBFRUc",
        "outputId": "f7fb4528-5e4a-4176-a163-8c877a578720"
      },
      "outputs": [
        {
          "output_type": "execute_result",
          "data": {
            "text/plain": [
              "array(['1', '1', '1', ..., '0', '0', '0'], dtype=object)"
            ]
          },
          "metadata": {},
          "execution_count": 43
        }
      ],
      "source": [
        "actual = test_df.label.values\n",
        "actual"
      ]
    },
    {
      "cell_type": "code",
      "execution_count": 44,
      "metadata": {
        "colab": {
          "base_uri": "https://localhost:8080/"
        },
        "id": "H-A9GRT3FRUc",
        "outputId": "2f109683-ca62-4612-94a4-931489fe77af"
      },
      "outputs": [
        {
          "output_type": "stream",
          "name": "stdout",
          "text": [
            "The testset accuracy for the model Multinomial Naive Bayes is :  0.8774333093006489\n"
          ]
        }
      ],
      "source": [
        "print(\"The testset accuracy for the model Multinomial Naive Bayes is : \",accuracy_score(actual,testset_predicted))"
      ]
    },
    {
      "cell_type": "code",
      "execution_count": 45,
      "metadata": {
        "colab": {
          "base_uri": "https://localhost:8080/",
          "height": 281
        },
        "id": "0-uxqnDcFRUd",
        "outputId": "7ed33eaf-1165-4c75-d051-f89399ffb3d7"
      },
      "outputs": [
        {
          "output_type": "display_data",
          "data": {
            "text/plain": [
              "<Figure size 432x288 with 2 Axes>"
            ],
            "image/png": "[encoded data removed]"
          },
          "metadata": {
            "needs_background": "light"
          }
        }
      ],
      "source": [
        "plot_confusion_matrix(confusion_matrix(actual,testset_predicted),\"Testset confusion Matrix for the model Multinomial Naive Bayes\")"
      ]
    },
    {
      "cell_type": "code",
      "execution_count": 46,
      "metadata": {
        "id": "Sjnvtwz1FRUd"
      },
      "outputs": [],
      "source": [
        "model_name.append(\"Multinomial Naive Bayes\")\n",
        "train_accuracies.append(np.round(accuracy_score(y_train,predicted_train),2))\n",
        "val_accuracies.append(np.round(accuracy_score(y_val,predicted_val),2))\n",
        "test_accuracies.append(np.round(accuracy_score(actual,testset_predicted),2))"
      ]
    },
    {
      "cell_type": "markdown",
      "metadata": {
        "id": "1dxZLlJ2FRUd"
      },
      "source": [
        "## Multinomial Naive Bayes with Cross Validation Using Grid SearchCV"
      ]
    },
    {
      "cell_type": "code",
      "execution_count": 47,
      "metadata": {
        "colab": {
          "base_uri": "https://localhost:8080/"
        },
        "id": "JADOtCphFRUd",
        "outputId": "9e04011b-f06b-4982-8e66-9ffafbf3d9bb"
      },
      "outputs": [
        {
          "output_type": "execute_result",
          "data": {
            "text/plain": [
              "GridSearchCV(cv=10, estimator=MultinomialNB(),\n",
              "             param_grid={'alpha': [0.001, 0.01, 0.1, 1, 10, 100]},\n",
              "             return_train_score=True, scoring='accuracy')"
            ]
          },
          "metadata": {},
          "execution_count": 47
        }
      ],
      "source": [
        "from sklearn.model_selection import GridSearchCV\n",
        "import matplotlib.pyplot as plt\n",
        "\n",
        "params = {'alpha':[0.001,0.01,0.1,1,10,100]}\n",
        "cv = GridSearchCV(clf, params, cv=10, scoring='accuracy', return_train_score=True)\n",
        "cv.fit(X_train, y_train)"
      ]
    },
    {
      "cell_type": "code",
      "execution_count": 48,
      "metadata": {
        "id": "EKjVsnygFRUe"
      },
      "outputs": [],
      "source": [
        "predicted_train = cv.predict(X_train)\n",
        "predicted_val = cv.predict(X_val)"
      ]
    },
    {
      "cell_type": "markdown",
      "metadata": {
        "id": "FMhoGkBlFRUe"
      },
      "source": [
        "## Accuracy Score"
      ]
    },
    {
      "cell_type": "code",
      "execution_count": 49,
      "metadata": {
        "colab": {
          "base_uri": "https://localhost:8080/"
        },
        "id": "-sLH9ndHFRUe",
        "outputId": "ee29ddc2-0974-4a63-e3aa-86f0da70c207"
      },
      "outputs": [
        {
          "output_type": "stream",
          "name": "stdout",
          "text": [
            "The Train accuracy for the cross-validated Multinomial Naive Bayes is :  0.99375\n",
            "The Validation accuracy for the cross-validated Multinomial Naive Bayes is :  0.985\n"
          ]
        }
      ],
      "source": [
        "print(\"The Train accuracy for the cross-validated Multinomial Naive Bayes is : \",accuracy_score(y_train,predicted_train))\n",
        "print(\"The Validation accuracy for the cross-validated Multinomial Naive Bayes is : \",accuracy_score(y_val,predicted_val))"
      ]
    },
    {
      "cell_type": "markdown",
      "metadata": {
        "id": "bo0VHQe4FRUe"
      },
      "source": [
        "## Plotting Confusion Matrix\n"
      ]
    },
    {
      "cell_type": "code",
      "execution_count": 50,
      "metadata": {
        "colab": {
          "base_uri": "https://localhost:8080/",
          "height": 281
        },
        "id": "ECM6e3Z5FRUe",
        "outputId": "e008c9cf-afc7-4c19-a5e4-41e4c050fe81"
      },
      "outputs": [
        {
          "output_type": "display_data",
          "data": {
            "text/plain": [
              "<Figure size 432x288 with 2 Axes>"
            ],
            "image/png": "[encoded data removed]"
          },
          "metadata": {
            "needs_background": "light"
          }
        }
      ],
      "source": [
        "plot_confusion_matrix(confusion_matrix(y_train,predicted_train),\"Train confusion Matrix for the cross-validated Multinomial Naive Bayes Model\")"
      ]
    },
    {
      "cell_type": "code",
      "execution_count": 51,
      "metadata": {
        "colab": {
          "base_uri": "https://localhost:8080/",
          "height": 281
        },
        "id": "4BFhhb6bFRUf",
        "outputId": "d2aaa1d1-d893-47a8-dfd8-c47f3d34069f"
      },
      "outputs": [
        {
          "output_type": "display_data",
          "data": {
            "text/plain": [
              "<Figure size 432x288 with 2 Axes>"
            ],
            "image/png": "[encoded data removed]"
          },
          "metadata": {
            "needs_background": "light"
          }
        }
      ],
      "source": [
        "plot_confusion_matrix(confusion_matrix(y_val,predicted_val),\"Validation confusion Matrix for the cross-validated Multinomial Naive Bayes Model\")"
      ]
    },
    {
      "cell_type": "markdown",
      "metadata": {
        "id": "ujF7Xgu7FRUf"
      },
      "source": [
        "## Test Datset Prediction"
      ]
    },
    {
      "cell_type": "code",
      "execution_count": 52,
      "metadata": {
        "id": "2T3BfO4VFRUf"
      },
      "outputs": [],
      "source": [
        "testset_predicted = cv.predict(test_tfidf)"
      ]
    },
    {
      "cell_type": "code",
      "execution_count": 53,
      "metadata": {
        "colab": {
          "base_uri": "https://localhost:8080/"
        },
        "id": "D0zjCeOtFRUf",
        "outputId": "2a2cbc1a-40eb-4484-8d64-ab1bb3617304"
      },
      "outputs": [
        {
          "output_type": "stream",
          "name": "stdout",
          "text": [
            "The testset accuracy for the model Multinomial Naive Bayes with cross-validtion is:  0.8774333093006489\n"
          ]
        }
      ],
      "source": [
        "print(\"The testset accuracy for the model Multinomial Naive Bayes with cross-validtion is: \",accuracy_score(actual,testset_predicted))"
      ]
    },
    {
      "cell_type": "code",
      "execution_count": 54,
      "metadata": {
        "colab": {
          "base_uri": "https://localhost:8080/",
          "height": 281
        },
        "id": "IhWjzF5HFRUf",
        "outputId": "180b1f18-9955-45ee-f40a-aca2f4980db8"
      },
      "outputs": [
        {
          "output_type": "display_data",
          "data": {
            "text/plain": [
              "<Figure size 432x288 with 2 Axes>"
            ],
            "image/png": "[encoded data removed]"
          },
          "metadata": {
            "needs_background": "light"
          }
        }
      ],
      "source": [
        "plot_confusion_matrix(confusion_matrix(actual,testset_predicted),\"Testset confusion Matrix for the model Multinomial Naive Bayes with cross-validtion\")"
      ]
    },
    {
      "cell_type": "code",
      "execution_count": 55,
      "metadata": {
        "id": "_QG8PTiLFRUg"
      },
      "outputs": [],
      "source": [
        "model_name.append(\"Multinomial Naive Bayes with Cross Validation\")\n",
        "train_accuracies.append(np.round(accuracy_score(y_train,predicted_train),4))\n",
        "val_accuracies.append(np.round(accuracy_score(y_val,predicted_val),4))\n",
        "test_accuracies.append(np.round(accuracy_score(actual,testset_predicted),4))"
      ]
    },
    {
      "cell_type": "markdown",
      "metadata": {
        "id": "CFZur0B5FRUg"
      },
      "source": [
        "## Logistic Regression"
      ]
    },
    {
      "cell_type": "code",
      "execution_count": 56,
      "metadata": {
        "colab": {
          "base_uri": "https://localhost:8080/"
        },
        "id": "fMYu5xfzFRUg",
        "outputId": "4233581a-2bed-48fd-d454-b539fb2b1caa"
      },
      "outputs": [
        {
          "output_type": "execute_result",
          "data": {
            "text/plain": [
              "LogisticRegression(C=0.1)"
            ]
          },
          "metadata": {},
          "execution_count": 56
        }
      ],
      "source": [
        "from sklearn.linear_model import LogisticRegression\n",
        "\n",
        "lr = LogisticRegression(C=0.1)\n",
        "lr.fit(X_train, y_train)"
      ]
    },
    {
      "cell_type": "code",
      "execution_count": 57,
      "metadata": {
        "id": "K6pKf0EfFRUg"
      },
      "outputs": [],
      "source": [
        "predicted_train = lr.predict(X_train)\n",
        "predicted_val = lr.predict(X_val)"
      ]
    },
    {
      "cell_type": "code",
      "execution_count": 58,
      "metadata": {
        "colab": {
          "base_uri": "https://localhost:8080/"
        },
        "id": "VeYKKO4iFRUg",
        "outputId": "d471039d-08e6-4de1-e422-771709d35031"
      },
      "outputs": [
        {
          "output_type": "stream",
          "name": "stdout",
          "text": [
            "The Train accuracy for Logistic Regression model is :  0.985\n",
            "The Validation accuracy for Logistic Regression model is :  0.96\n"
          ]
        }
      ],
      "source": [
        "print(\"The Train accuracy for Logistic Regression model is : \",accuracy_score(y_train,predicted_train))\n",
        "print(\"The Validation accuracy for Logistic Regression model is : \",accuracy_score(y_val,predicted_val))"
      ]
    },
    {
      "cell_type": "code",
      "execution_count": 59,
      "metadata": {
        "colab": {
          "base_uri": "https://localhost:8080/",
          "height": 281
        },
        "id": "3LelIBOWFRUh",
        "outputId": "d730998e-67d8-4506-8bd6-e4641d792db8"
      },
      "outputs": [
        {
          "output_type": "display_data",
          "data": {
            "text/plain": [
              "<Figure size 432x288 with 2 Axes>"
            ],
            "image/png": "[encoded data removed]"
          },
          "metadata": {
            "needs_background": "light"
          }
        }
      ],
      "source": [
        "plot_confusion_matrix(confusion_matrix(y_train,predicted_train),\"Train confusion Matrix for the Logistic Regression Model\")"
      ]
    },
    {
      "cell_type": "code",
      "execution_count": 60,
      "metadata": {
        "colab": {
          "base_uri": "https://localhost:8080/",
          "height": 281
        },
        "id": "0Rm8NPrGFRUh",
        "outputId": "927cb39b-97d9-487d-ed2d-e2d718deaaaf"
      },
      "outputs": [
        {
          "output_type": "display_data",
          "data": {
            "text/plain": [
              "<Figure size 432x288 with 2 Axes>"
            ],
            "image/png": "[encoded data removed]"
          },
          "metadata": {
            "needs_background": "light"
          }
        }
      ],
      "source": [
        "plot_confusion_matrix(confusion_matrix(y_val,predicted_val),\"Validation confusion Matrix for the Logistic Regression model\")"
      ]
    },
    {
      "cell_type": "code",
      "execution_count": 61,
      "metadata": {
        "id": "sL9RDdqkFRUh"
      },
      "outputs": [],
      "source": [
        "testset_predicted = lr.predict(test_tfidf)"
      ]
    },
    {
      "cell_type": "code",
      "execution_count": 62,
      "metadata": {
        "colab": {
          "base_uri": "https://localhost:8080/"
        },
        "id": "EQJdFzcrFRUh",
        "outputId": "a5c8c286-a01e-463d-e6d5-92aea7ee3028"
      },
      "outputs": [
        {
          "output_type": "stream",
          "name": "stdout",
          "text": [
            "The testset accuracy for the model Logistic Regression is:  0.8803172314347513\n"
          ]
        }
      ],
      "source": [
        "print(\"The testset accuracy for the model Logistic Regression is: \",accuracy_score(actual,testset_predicted))"
      ]
    },
    {
      "cell_type": "code",
      "execution_count": 63,
      "metadata": {
        "colab": {
          "base_uri": "https://localhost:8080/",
          "height": 281
        },
        "id": "wyNQZwtqFRUh",
        "outputId": "51f599e7-3340-4c8f-a625-942fbcf9e9a5"
      },
      "outputs": [
        {
          "output_type": "display_data",
          "data": {
            "text/plain": [
              "<Figure size 432x288 with 2 Axes>"
            ],
            "image/png": "[encoded data removed]"
          },
          "metadata": {
            "needs_background": "light"
          }
        }
      ],
      "source": [
        "plot_confusion_matrix(confusion_matrix(actual,testset_predicted),\"Testset confusion Matrix for the model Logistic Regression\")"
      ]
    },
    {
      "cell_type": "code",
      "execution_count": 64,
      "metadata": {
        "id": "JpVGZG2IFRUi"
      },
      "outputs": [],
      "source": [
        "model_name.append(\"Logistic Regression\")\n",
        "train_accuracies.append(np.round(accuracy_score(y_train,predicted_train),4))\n",
        "val_accuracies.append(np.round(accuracy_score(y_val,predicted_val),4))\n",
        "test_accuracies.append(np.round(accuracy_score(actual,testset_predicted),4))"
      ]
    },
    {
      "cell_type": "markdown",
      "metadata": {
        "id": "KBidCeCWFRUi"
      },
      "source": [
        "## Logistic Regression with cross validation using GridSearchCv"
      ]
    },
    {
      "cell_type": "code",
      "execution_count": 65,
      "metadata": {
        "colab": {
          "base_uri": "https://localhost:8080/"
        },
        "id": "7yi9jEIdFRUi",
        "outputId": "ce2c5c07-ee9a-4e12-de5c-eb666c3b5749"
      },
      "outputs": [
        {
          "output_type": "execute_result",
          "data": {
            "text/plain": [
              "GridSearchCV(cv=5, estimator=LogisticRegression(max_iter=250),\n",
              "             param_grid={'C': [0.001, 0.01, 0.1, 1, 10, 100]},\n",
              "             return_train_score=True, scoring='accuracy')"
            ]
          },
          "metadata": {},
          "execution_count": 65
        }
      ],
      "source": [
        "grid_values = {'C': [0.001,0.01,0.1,1,10,100]}\n",
        "cv = GridSearchCV(LogisticRegression(max_iter=250), param_grid=grid_values,cv=5, scoring='accuracy', return_train_score=True)\n",
        "cv.fit(X_train, y_train)"
      ]
    },
    {
      "cell_type": "code",
      "execution_count": 66,
      "metadata": {
        "id": "cFxszOTkFRUi"
      },
      "outputs": [],
      "source": [
        "predicted_train = cv.predict(X_train)\n",
        "predicted_val = cv.predict(X_val)"
      ]
    },
    {
      "cell_type": "code",
      "execution_count": 67,
      "metadata": {
        "colab": {
          "base_uri": "https://localhost:8080/"
        },
        "id": "ZpcdcdILFRUi",
        "outputId": "8b5014c9-f4f3-428e-f8fd-3f7690478e1a"
      },
      "outputs": [
        {
          "output_type": "stream",
          "name": "stdout",
          "text": [
            "The Train accuracy for the cross-validated Logistic Regression model is :  1.0\n",
            "The Validation accuracy for the cross-validated Logistic Regression model is :  0.985\n"
          ]
        }
      ],
      "source": [
        "print(\"The Train accuracy for the cross-validated Logistic Regression model is : \",accuracy_score(y_train,predicted_train))\n",
        "print(\"The Validation accuracy for the cross-validated Logistic Regression model is : \",accuracy_score(y_val,predicted_val))"
      ]
    },
    {
      "cell_type": "code",
      "execution_count": 68,
      "metadata": {
        "colab": {
          "base_uri": "https://localhost:8080/",
          "height": 281
        },
        "id": "WESCtPLbFRUj",
        "outputId": "0fe6539f-6a2c-402b-bd5b-069998559474"
      },
      "outputs": [
        {
          "output_type": "display_data",
          "data": {
            "text/plain": [
              "<Figure size 432x288 with 2 Axes>"
            ],
            "image/png": "[encoded data removed]"
          },
          "metadata": {
            "needs_background": "light"
          }
        }
      ],
      "source": [
        "plot_confusion_matrix(confusion_matrix(y_train,predicted_train),\"Train confusion Matrix for the cross-validated Logistic Regression Model\")"
      ]
    },
    {
      "cell_type": "code",
      "execution_count": 69,
      "metadata": {
        "colab": {
          "base_uri": "https://localhost:8080/",
          "height": 281
        },
        "id": "g298Q6UeFRUj",
        "outputId": "b8ee90f8-2d2d-4c9c-caf8-0b12753dc857"
      },
      "outputs": [
        {
          "output_type": "display_data",
          "data": {
            "text/plain": [
              "<Figure size 432x288 with 2 Axes>"
            ],
            "image/png": "[encoded data removed]"
          },
          "metadata": {
            "needs_background": "light"
          }
        }
      ],
      "source": [
        "plot_confusion_matrix(confusion_matrix(y_val,predicted_val),\"Validation confusion Matrix for the cross-validated Logistic Regression Model\")"
      ]
    },
    {
      "cell_type": "code",
      "execution_count": 70,
      "metadata": {
        "colab": {
          "base_uri": "https://localhost:8080/"
        },
        "id": "qANEkDXkFRUj",
        "outputId": "5120d5a5-7860-45ce-ce50-d97a3be981af"
      },
      "outputs": [
        {
          "output_type": "stream",
          "name": "stdout",
          "text": [
            "The testset accuracy for cross-validated Logistic Regression Model is :  0.916366258111031\n"
          ]
        }
      ],
      "source": [
        "testset_predicted = cv.predict(test_tfidf)\n",
        "print(\"The testset accuracy for cross-validated Logistic Regression Model is : \",accuracy_score(actual,testset_predicted))"
      ]
    },
    {
      "cell_type": "code",
      "execution_count": 71,
      "metadata": {
        "colab": {
          "base_uri": "https://localhost:8080/",
          "height": 281
        },
        "id": "iEMZL8hDFRUj",
        "outputId": "3fe915ce-f920-4423-a033-2662947dc733"
      },
      "outputs": [
        {
          "output_type": "display_data",
          "data": {
            "text/plain": [
              "<Figure size 432x288 with 2 Axes>"
            ],
            "image/png": "[encoded data removed]"
          },
          "metadata": {
            "needs_background": "light"
          }
        }
      ],
      "source": [
        "plot_confusion_matrix(confusion_matrix(actual,testset_predicted),\"Testset confusion Matrix for cross-validated Logistic Regression Model\")"
      ]
    },
    {
      "cell_type": "code",
      "execution_count": 72,
      "metadata": {
        "id": "w_V3gS5JFRUj"
      },
      "outputs": [],
      "source": [
        "model_name.append(\"Logistic Regression with Cross Validation\")\n",
        "train_accuracies.append(np.round(accuracy_score(y_train,predicted_train),4))\n",
        "val_accuracies.append(np.round(accuracy_score(y_val,predicted_val),4))\n",
        "test_accuracies.append(np.round(accuracy_score(actual,testset_predicted),4))"
      ]
    },
    {
      "cell_type": "markdown",
      "metadata": {
        "id": "rmzq5fxHFRUj"
      },
      "source": [
        "## K-Nearest Neighbours"
      ]
    },
    {
      "cell_type": "code",
      "execution_count": 73,
      "metadata": {
        "colab": {
          "base_uri": "https://localhost:8080/"
        },
        "id": "uA1CcQIrFRUk",
        "outputId": "c87250b5-dd67-42c6-bfe7-60f1167306d7"
      },
      "outputs": [
        {
          "output_type": "execute_result",
          "data": {
            "text/plain": [
              "KNeighborsClassifier(n_neighbors=3)"
            ]
          },
          "metadata": {},
          "execution_count": 73
        }
      ],
      "source": [
        "from sklearn.neighbors import KNeighborsClassifier\n",
        "\n",
        "knn = KNeighborsClassifier(n_neighbors=3)\n",
        "\n",
        "knn.fit(X_train, y_train)"
      ]
    },
    {
      "cell_type": "code",
      "execution_count": 74,
      "metadata": {
        "id": "usCtWGswFRUk"
      },
      "outputs": [],
      "source": [
        "predicted_train = knn.predict(X_train)\n",
        "predicted_val = knn.predict(X_val)"
      ]
    },
    {
      "cell_type": "code",
      "execution_count": 75,
      "metadata": {
        "colab": {
          "base_uri": "https://localhost:8080/"
        },
        "id": "E8OpEPNjFRUk",
        "outputId": "64af2c35-f0b5-4e8c-b381-144dae9e4435"
      },
      "outputs": [
        {
          "output_type": "stream",
          "name": "stdout",
          "text": [
            "The Train accuracy for the KNN model is :  0.8575\n",
            "The Validation accuracy for the KNN model is :  0.7375\n"
          ]
        }
      ],
      "source": [
        "print(\"The Train accuracy for the KNN model is : \",accuracy_score(y_train,predicted_train))\n",
        "print(\"The Validation accuracy for the KNN model is : \",accuracy_score(y_val,predicted_val))"
      ]
    },
    {
      "cell_type": "code",
      "execution_count": 76,
      "metadata": {
        "colab": {
          "base_uri": "https://localhost:8080/",
          "height": 281
        },
        "id": "IiW4UhqTFRUk",
        "outputId": "0cdc100f-0c85-497b-c421-5477a122940e"
      },
      "outputs": [
        {
          "output_type": "display_data",
          "data": {
            "text/plain": [
              "<Figure size 432x288 with 2 Axes>"
            ],
            "image/png": "[encoded data removed]"
          },
          "metadata": {
            "needs_background": "light"
          }
        }
      ],
      "source": [
        "plot_confusion_matrix(confusion_matrix(y_train,predicted_train),\"Train confusion Matrix for the KNN Model\")"
      ]
    },
    {
      "cell_type": "code",
      "execution_count": 77,
      "metadata": {
        "colab": {
          "base_uri": "https://localhost:8080/",
          "height": 281
        },
        "id": "lPfp61w_FRUk",
        "outputId": "59d901f9-71da-49bb-94fe-59831fae91c3"
      },
      "outputs": [
        {
          "output_type": "display_data",
          "data": {
            "text/plain": [
              "<Figure size 432x288 with 2 Axes>"
            ],
            "image/png": "[encoded data removed]"
          },
          "metadata": {
            "needs_background": "light"
          }
        }
      ],
      "source": [
        "plot_confusion_matrix(confusion_matrix(y_val,predicted_val),\"Validation confusion Matrix for the KNN Model\")"
      ]
    },
    {
      "cell_type": "code",
      "execution_count": 78,
      "metadata": {
        "colab": {
          "base_uri": "https://localhost:8080/"
        },
        "id": "42K9lrgvFRUl",
        "outputId": "1180e10d-65ac-476c-ec28-c9e6595f42bd"
      },
      "outputs": [
        {
          "output_type": "stream",
          "name": "stdout",
          "text": [
            "The testset accuracy KNN model is :  0.5306416726748377\n"
          ]
        }
      ],
      "source": [
        "testset_predicted = knn.predict(test_tfidf)\n",
        "print(\"The testset accuracy KNN model is : \",accuracy_score(actual,testset_predicted))"
      ]
    },
    {
      "cell_type": "code",
      "execution_count": 79,
      "metadata": {
        "colab": {
          "base_uri": "https://localhost:8080/",
          "height": 281
        },
        "id": "XYVWufFTFRUl",
        "outputId": "7cbc2f7f-23b5-49ef-e964-c6c8dac3ce3b"
      },
      "outputs": [
        {
          "output_type": "display_data",
          "data": {
            "text/plain": [
              "<Figure size 432x288 with 2 Axes>"
            ],
            "image/png": "[encoded data removed]"
          },
          "metadata": {
            "needs_background": "light"
          }
        }
      ],
      "source": [
        "plot_confusion_matrix(confusion_matrix(actual,testset_predicted),\"Testset confusion Matrix for KNN model\")"
      ]
    },
    {
      "cell_type": "code",
      "execution_count": 80,
      "metadata": {
        "id": "hswlsF6RFRUl"
      },
      "outputs": [],
      "source": [
        "model_name.append(\"KNN-Classifier\")\n",
        "train_accuracies.append(np.round(accuracy_score(y_train,predicted_train),4))\n",
        "val_accuracies.append(np.round(accuracy_score(y_val,predicted_val),4))\n",
        "test_accuracies.append(np.round(accuracy_score(actual,testset_predicted),4))"
      ]
    },
    {
      "cell_type": "markdown",
      "metadata": {
        "id": "ZJWXDIt-FRUl"
      },
      "source": [
        "## K-Nearest Neighbours using Cross-Validation"
      ]
    },
    {
      "cell_type": "code",
      "execution_count": 81,
      "metadata": {
        "colab": {
          "base_uri": "https://localhost:8080/"
        },
        "id": "FyTOe4I0FRUl",
        "outputId": "4c03ddb4-115b-462d-8bbf-95dd317d5618"
      },
      "outputs": [
        {
          "output_type": "execute_result",
          "data": {
            "text/plain": [
              "GridSearchCV(cv=5, estimator=KNeighborsClassifier(),\n",
              "             param_grid={'n_neighbors': [3, 5, 7, 9, 11]},\n",
              "             return_train_score=True, scoring='accuracy')"
            ]
          },
          "metadata": {},
          "execution_count": 81
        }
      ],
      "source": [
        "params = {'n_neighbors':[3,5,7,9,11]}\n",
        "cv = GridSearchCV(KNeighborsClassifier(), params, cv=5, scoring='accuracy', return_train_score=True)\n",
        "cv.fit(X_train, y_train)"
      ]
    },
    {
      "cell_type": "code",
      "execution_count": 82,
      "metadata": {
        "id": "qV-9eRGGFRUm"
      },
      "outputs": [],
      "source": [
        "predicted_train = cv.predict(X_train)\n",
        "predicted_val = cv.predict(X_val)"
      ]
    },
    {
      "cell_type": "code",
      "execution_count": 83,
      "metadata": {
        "colab": {
          "base_uri": "https://localhost:8080/"
        },
        "id": "MZDskoIbFRUm",
        "outputId": "6b1dc0e2-83c2-477b-c0c5-8b926afb7604"
      },
      "outputs": [
        {
          "output_type": "stream",
          "name": "stdout",
          "text": [
            "The Train accuracy for the cross-validated KNN model is :  0.8975\n",
            "The Validation accuracy for the cross-validated KNN model is :  0.8725\n"
          ]
        }
      ],
      "source": [
        "print(\"The Train accuracy for the cross-validated KNN model is : \",accuracy_score(y_train,predicted_train))\n",
        "print(\"The Validation accuracy for the cross-validated KNN model is : \",accuracy_score(y_val,predicted_val))"
      ]
    },
    {
      "cell_type": "code",
      "execution_count": 84,
      "metadata": {
        "colab": {
          "base_uri": "https://localhost:8080/",
          "height": 281
        },
        "id": "r2YYjAT_FRUm",
        "outputId": "415513fe-b5ed-40e6-df4f-6b55954fb5f2"
      },
      "outputs": [
        {
          "output_type": "display_data",
          "data": {
            "text/plain": [
              "<Figure size 432x288 with 2 Axes>"
            ],
            "image/png": "[encoded data removed]"
          },
          "metadata": {
            "needs_background": "light"
          }
        }
      ],
      "source": [
        "plot_confusion_matrix(confusion_matrix(y_train,predicted_train),\"Train confusion Matrix for the cross-validated KNN Model\")"
      ]
    },
    {
      "cell_type": "code",
      "execution_count": 85,
      "metadata": {
        "colab": {
          "base_uri": "https://localhost:8080/",
          "height": 281
        },
        "id": "3HNS7AkBFRUm",
        "outputId": "2491a88e-0bb7-4f85-f2f9-d483f07d9a32"
      },
      "outputs": [
        {
          "output_type": "display_data",
          "data": {
            "text/plain": [
              "<Figure size 432x288 with 2 Axes>"
            ],
            "image/png": "[encoded data removed]"
          },
          "metadata": {
            "needs_background": "light"
          }
        }
      ],
      "source": [
        "plot_confusion_matrix(confusion_matrix(y_val,predicted_val),\"Validation confusion Matrix for the cross-validated KNN Model\")"
      ]
    },
    {
      "cell_type": "code",
      "execution_count": 86,
      "metadata": {
        "colab": {
          "base_uri": "https://localhost:8080/"
        },
        "id": "udUqz71tFRUm",
        "outputId": "98d9114e-eb9d-413c-a643-74b4c804f164"
      },
      "outputs": [
        {
          "output_type": "stream",
          "name": "stdout",
          "text": [
            "The testset accuracy for the Cross-Validated KNN model is :  0.7678442682047585\n"
          ]
        }
      ],
      "source": [
        "testset_predicted = cv.predict(test_tfidf)\n",
        "print(\"The testset accuracy for the Cross-Validated KNN model is : \",accuracy_score(actual,testset_predicted))"
      ]
    },
    {
      "cell_type": "code",
      "execution_count": 87,
      "metadata": {
        "colab": {
          "base_uri": "https://localhost:8080/",
          "height": 281
        },
        "id": "Dq0HRsUgFRUn",
        "outputId": "f9acbed4-9cba-4fb8-b332-8a71c328d340"
      },
      "outputs": [
        {
          "output_type": "display_data",
          "data": {
            "text/plain": [
              "<Figure size 432x288 with 2 Axes>"
            ],
            "image/png": "[encoded data removed]"
          },
          "metadata": {
            "needs_background": "light"
          }
        }
      ],
      "source": [
        "plot_confusion_matrix(confusion_matrix(actual,testset_predicted),\"Testset confusion Matrix for the Cross-Validated KNN model\")"
      ]
    },
    {
      "cell_type": "code",
      "execution_count": 88,
      "metadata": {
        "id": "bBPIiP_qFRUn"
      },
      "outputs": [],
      "source": [
        "model_name.append(\"KNN-Classifier with Cross-Validation\")\n",
        "train_accuracies.append(np.round(accuracy_score(y_train,predicted_train),4))\n",
        "val_accuracies.append(np.round(accuracy_score(y_val,predicted_val),4))\n",
        "test_accuracies.append(np.round(accuracy_score(actual,testset_predicted),4))"
      ]
    },
    {
      "cell_type": "markdown",
      "metadata": {
        "id": "P6AlbhJuFRUn"
      },
      "source": [
        "## Support Vector Machine Classifier (SVM)"
      ]
    },
    {
      "cell_type": "code",
      "execution_count": 89,
      "metadata": {
        "colab": {
          "base_uri": "https://localhost:8080/"
        },
        "id": "Pv97VExKFRUn",
        "outputId": "79f5ee54-646e-4cf5-a3d7-800729b13c7e"
      },
      "outputs": [
        {
          "output_type": "execute_result",
          "data": {
            "text/plain": [
              "SVC()"
            ]
          },
          "metadata": {},
          "execution_count": 89
        }
      ],
      "source": [
        "from sklearn.svm import SVC\n",
        "\n",
        "svc = SVC()\n",
        "svc.fit(X_train, y_train)"
      ]
    },
    {
      "cell_type": "code",
      "execution_count": 90,
      "metadata": {
        "id": "GR69yxjMFRUn"
      },
      "outputs": [],
      "source": [
        "predicted_train = svc.predict(X_train)\n",
        "predicted_val = svc.predict(X_val)"
      ]
    },
    {
      "cell_type": "code",
      "execution_count": 91,
      "metadata": {
        "colab": {
          "base_uri": "https://localhost:8080/"
        },
        "id": "hGVoeawZFRUn",
        "outputId": "9faf79e5-091f-441f-9677-1128cbd4a591"
      },
      "outputs": [
        {
          "output_type": "stream",
          "name": "stdout",
          "text": [
            "The Train accuracy for the SVC classifier is :  1.0\n",
            "The Validation accuracy for the SVC classifier is :  0.9875\n"
          ]
        }
      ],
      "source": [
        "print(\"The Train accuracy for the SVC classifier is : \",accuracy_score(y_train,predicted_train))\n",
        "print(\"The Validation accuracy for the SVC classifier is : \",accuracy_score(y_val,predicted_val))"
      ]
    },
    {
      "cell_type": "code",
      "execution_count": 92,
      "metadata": {
        "colab": {
          "base_uri": "https://localhost:8080/",
          "height": 281
        },
        "id": "Ol1GaKH6FRUo",
        "outputId": "9c7d792c-9dd6-4265-c834-9eaf94fed66b"
      },
      "outputs": [
        {
          "output_type": "display_data",
          "data": {
            "text/plain": [
              "<Figure size 432x288 with 2 Axes>"
            ],
            "image/png": "[encoded data removed]"
          },
          "metadata": {
            "needs_background": "light"
          }
        }
      ],
      "source": [
        "plot_confusion_matrix(confusion_matrix(y_train,predicted_train),\"Train confusion Matrix for the SVC classifier Model\")"
      ]
    },
    {
      "cell_type": "code",
      "execution_count": 93,
      "metadata": {
        "colab": {
          "base_uri": "https://localhost:8080/",
          "height": 281
        },
        "id": "Tn8xVK72FRUo",
        "outputId": "c5c45a9e-165a-41d1-a389-9d7efd99377c"
      },
      "outputs": [
        {
          "output_type": "display_data",
          "data": {
            "text/plain": [
              "<Figure size 432x288 with 2 Axes>"
            ],
            "image/png": "[encoded data removed]"
          },
          "metadata": {
            "needs_background": "light"
          }
        }
      ],
      "source": [
        "plot_confusion_matrix(confusion_matrix(y_val,predicted_val),\"Validation confusion Matrix for the SVC classifier Model\")"
      ]
    },
    {
      "cell_type": "code",
      "execution_count": 94,
      "metadata": {
        "colab": {
          "base_uri": "https://localhost:8080/"
        },
        "id": "VGSMbXvPFRUo",
        "outputId": "9b1845f4-80cc-42ec-9dfc-f2158d8dad0c"
      },
      "outputs": [
        {
          "output_type": "stream",
          "name": "stdout",
          "text": [
            "The testset accuracy for the SVC classifier is is :  0.9026676279740447\n"
          ]
        }
      ],
      "source": [
        "testset_predicted = svc.predict(test_tfidf)\n",
        "print(\"The testset accuracy for the SVC classifier is is : \",accuracy_score(actual,testset_predicted))"
      ]
    },
    {
      "cell_type": "code",
      "execution_count": 95,
      "metadata": {
        "colab": {
          "base_uri": "https://localhost:8080/",
          "height": 281
        },
        "id": "I2QQ5s-CFRUo",
        "outputId": "a4787545-b187-4bf3-e48f-c38f11002993"
      },
      "outputs": [
        {
          "output_type": "display_data",
          "data": {
            "text/plain": [
              "<Figure size 432x288 with 2 Axes>"
            ],
            "image/png": "[encoded data removed]"
          },
          "metadata": {
            "needs_background": "light"
          }
        }
      ],
      "source": [
        "plot_confusion_matrix(confusion_matrix(actual,testset_predicted),\"Testset confusion Matrix for the SVC classifier\")"
      ]
    },
    {
      "cell_type": "code",
      "execution_count": 96,
      "metadata": {
        "id": "_pe3fHQYFRUp"
      },
      "outputs": [],
      "source": [
        "model_name.append(\"SVM-Classifier\")\n",
        "train_accuracies.append(np.round(accuracy_score(y_train,predicted_train),4))\n",
        "val_accuracies.append(np.round(accuracy_score(y_val,predicted_val),4))\n",
        "test_accuracies.append(np.round(accuracy_score(actual,testset_predicted),4))"
      ]
    },
    {
      "cell_type": "markdown",
      "metadata": {
        "id": "O49eF1nuFRUp"
      },
      "source": [
        "## SVM Classifier with cross validation"
      ]
    },
    {
      "cell_type": "code",
      "execution_count": 97,
      "metadata": {
        "colab": {
          "base_uri": "https://localhost:8080/"
        },
        "id": "wRj8DC5WFRUp",
        "outputId": "5b820b86-9554-401c-a88c-b5adb5177ee8"
      },
      "outputs": [
        {
          "output_type": "execute_result",
          "data": {
            "text/plain": [
              "GridSearchCV(cv=5, estimator=SVC(),\n",
              "             param_grid=[{'C': [0.01, 0.1, 1, 10, 100],\n",
              "                          'gamma': [0.01, 0.1, 1, 10]}],\n",
              "             return_train_score=True, scoring='accuracy')"
            ]
          },
          "metadata": {},
          "execution_count": 97
        }
      ],
      "source": [
        "clf = SVC()\n",
        "param = [{'C': [10**-2, 10**-1, 10**0, 10**1, 10**2], 'gamma':[0.01, 0.1, 1, 10]}]\n",
        "\n",
        "cv = GridSearchCV(clf, param,cv=5, scoring='accuracy', return_train_score=True)\n",
        "cv.fit(X_train, y_train)"
      ]
    },
    {
      "cell_type": "code",
      "execution_count": 98,
      "metadata": {
        "id": "cVm4oXklFRUp"
      },
      "outputs": [],
      "source": [
        "predicted_train = cv.predict(X_train)\n",
        "predicted_val = cv.predict(X_val)"
      ]
    },
    {
      "cell_type": "code",
      "execution_count": 99,
      "metadata": {
        "colab": {
          "base_uri": "https://localhost:8080/"
        },
        "id": "kh1tu6HVFRUp",
        "outputId": "f6456c6b-ba7b-4335-a4c4-67f6a6806ff9"
      },
      "outputs": [
        {
          "output_type": "stream",
          "name": "stdout",
          "text": [
            "The Train accuracy for the cross-validated SVC classifier is :  0.999375\n",
            "The Validation accuracy for the cross-validated SVC classifier is :  0.98\n"
          ]
        }
      ],
      "source": [
        "print(\"The Train accuracy for the cross-validated SVC classifier is : \",accuracy_score(y_train,predicted_train))\n",
        "print(\"The Validation accuracy for the cross-validated SVC classifier is : \",accuracy_score(y_val,predicted_val))"
      ]
    },
    {
      "cell_type": "code",
      "execution_count": 100,
      "metadata": {
        "colab": {
          "base_uri": "https://localhost:8080/",
          "height": 281
        },
        "id": "ZOdbG4XyFRUp",
        "outputId": "7a3cb26a-f242-4dd3-dc99-2a0bb6bf771c"
      },
      "outputs": [
        {
          "output_type": "display_data",
          "data": {
            "text/plain": [
              "<Figure size 432x288 with 2 Axes>"
            ],
            "image/png": "[encoded data removed]"
          },
          "metadata": {
            "needs_background": "light"
          }
        }
      ],
      "source": [
        "plot_confusion_matrix(confusion_matrix(y_train,predicted_train),\"Train confusion Matrix for the cross-validated SVC classifier Model\")"
      ]
    },
    {
      "cell_type": "code",
      "execution_count": 101,
      "metadata": {
        "colab": {
          "base_uri": "https://localhost:8080/",
          "height": 281
        },
        "id": "MVq796BWFRUq",
        "outputId": "30ffac76-aa0e-4be8-d55c-bd50347389f8"
      },
      "outputs": [
        {
          "output_type": "display_data",
          "data": {
            "text/plain": [
              "<Figure size 432x288 with 2 Axes>"
            ],
            "image/png": "[encoded data removed]"
          },
          "metadata": {
            "needs_background": "light"
          }
        }
      ],
      "source": [
        "plot_confusion_matrix(confusion_matrix(y_val,predicted_val),\"Validation confusion Matrix for the cross-validated SVC classifier Model\")"
      ]
    },
    {
      "cell_type": "code",
      "execution_count": 102,
      "metadata": {
        "colab": {
          "base_uri": "https://localhost:8080/"
        },
        "id": "POff5x3fFRUq",
        "outputId": "cf9d427b-7856-45c7-9902-713edd66f5e5"
      },
      "outputs": [
        {
          "output_type": "stream",
          "name": "stdout",
          "text": [
            "The testset accuracy score for the Cross-Validated SVC classifier model is :  0.9084354722422494\n"
          ]
        }
      ],
      "source": [
        "testset_predicted = cv.predict(test_tfidf)\n",
        "print(\"The testset accuracy score for the Cross-Validated SVC classifier model is : \",accuracy_score(actual,testset_predicted))"
      ]
    },
    {
      "cell_type": "code",
      "execution_count": 103,
      "metadata": {
        "colab": {
          "base_uri": "https://localhost:8080/",
          "height": 281
        },
        "id": "jiOnM5etFRUq",
        "outputId": "8b14915e-338b-4470-abb7-fd3441135a34"
      },
      "outputs": [
        {
          "output_type": "display_data",
          "data": {
            "text/plain": [
              "<Figure size 432x288 with 2 Axes>"
            ],
            "image/png": "[encoded data removed]"
          },
          "metadata": {
            "needs_background": "light"
          }
        }
      ],
      "source": [
        "plot_confusion_matrix(confusion_matrix(actual,testset_predicted),\"Testset confusion Matrix for the Cross-Validated SVC classifier\")"
      ]
    },
    {
      "cell_type": "code",
      "execution_count": 104,
      "metadata": {
        "id": "YsJlEMSvFRUq"
      },
      "outputs": [],
      "source": [
        "model_name.append(\"SVM-Classifier with Cross Validation\")\n",
        "train_accuracies.append(np.round(accuracy_score(y_train,predicted_train),4))\n",
        "val_accuracies.append(np.round(accuracy_score(y_val,predicted_val),4))\n",
        "test_accuracies.append(np.round(accuracy_score(actual,testset_predicted),4))"
      ]
    },
    {
      "cell_type": "markdown",
      "metadata": {
        "id": "909yGCsuFRUq"
      },
      "source": [
        "## Decision Trees"
      ]
    },
    {
      "cell_type": "code",
      "execution_count": 105,
      "metadata": {
        "colab": {
          "base_uri": "https://localhost:8080/"
        },
        "id": "EGYISiNWFRUr",
        "outputId": "5309e51f-673f-4315-970d-ef20b57d8094"
      },
      "outputs": [
        {
          "output_type": "execute_result",
          "data": {
            "text/plain": [
              "DecisionTreeClassifier()"
            ]
          },
          "metadata": {},
          "execution_count": 105
        }
      ],
      "source": [
        "from sklearn.tree import DecisionTreeClassifier\n",
        "\n",
        "clf = DecisionTreeClassifier()\n",
        "clf.fit(X_train, y_train)"
      ]
    },
    {
      "cell_type": "code",
      "execution_count": 106,
      "metadata": {
        "id": "FehtyCcnFRUr"
      },
      "outputs": [],
      "source": [
        "predicted_train = clf.predict(X_train)\n",
        "predicted_val = clf.predict(X_val)"
      ]
    },
    {
      "cell_type": "code",
      "execution_count": 107,
      "metadata": {
        "colab": {
          "base_uri": "https://localhost:8080/"
        },
        "id": "izkgFD-5FRUr",
        "outputId": "9052c385-53e0-4fac-e6ed-d6ca491892f6"
      },
      "outputs": [
        {
          "output_type": "stream",
          "name": "stdout",
          "text": [
            "The Train accuracy for the Decision Trees classifier Model is :  1.0\n",
            "The Validation accuracy for the Decision Trees classifier Model is :  0.9675\n"
          ]
        }
      ],
      "source": [
        "print(\"The Train accuracy for the Decision Trees classifier Model is : \",accuracy_score(y_train,predicted_train))\n",
        "print(\"The Validation accuracy for the Decision Trees classifier Model is : \",accuracy_score(y_val,predicted_val))"
      ]
    },
    {
      "cell_type": "code",
      "execution_count": 108,
      "metadata": {
        "colab": {
          "base_uri": "https://localhost:8080/",
          "height": 281
        },
        "id": "m_ekOhvBFRUr",
        "outputId": "d77312d6-3e3b-4ae7-95a3-e376d27d3ca2"
      },
      "outputs": [
        {
          "output_type": "display_data",
          "data": {
            "text/plain": [
              "<Figure size 432x288 with 2 Axes>"
            ],
            "image/png": "[encoded data removed]"
          },
          "metadata": {
            "needs_background": "light"
          }
        }
      ],
      "source": [
        "plot_confusion_matrix(confusion_matrix(y_train,predicted_train),\"Train confusion Matrix for the Decision Trees classifier Model\")"
      ]
    },
    {
      "cell_type": "code",
      "execution_count": 109,
      "metadata": {
        "colab": {
          "base_uri": "https://localhost:8080/",
          "height": 281
        },
        "id": "KVwXQS45FRUr",
        "outputId": "60d011b8-94fb-4511-a9d1-c01dbab863d1"
      },
      "outputs": [
        {
          "output_type": "display_data",
          "data": {
            "text/plain": [
              "<Figure size 432x288 with 2 Axes>"
            ],
            "image/png": "[encoded data removed]"
          },
          "metadata": {
            "needs_background": "light"
          }
        }
      ],
      "source": [
        "plot_confusion_matrix(confusion_matrix(y_val,predicted_val),\"Validation confusion Matrix for the Decision Trees classifier Model\")"
      ]
    },
    {
      "cell_type": "code",
      "execution_count": 110,
      "metadata": {
        "colab": {
          "base_uri": "https://localhost:8080/"
        },
        "id": "fM0TpBMyFRUr",
        "outputId": "831dffcc-75b5-454b-f03b-24c772d9b885"
      },
      "outputs": [
        {
          "output_type": "stream",
          "name": "stdout",
          "text": [
            "The testset accuracy score for the Decision Trees classifier Model is :  0.8846431146359048\n"
          ]
        }
      ],
      "source": [
        "testset_predicted = clf.predict(test_tfidf)\n",
        "print(\"The testset accuracy score for the Decision Trees classifier Model is : \",accuracy_score(actual,testset_predicted))"
      ]
    },
    {
      "cell_type": "code",
      "execution_count": 111,
      "metadata": {
        "colab": {
          "base_uri": "https://localhost:8080/",
          "height": 281
        },
        "id": "_HFqR7A2FRUs",
        "outputId": "cacdbc1d-b99f-47b4-e00b-d1596aac96ea"
      },
      "outputs": [
        {
          "output_type": "display_data",
          "data": {
            "text/plain": [
              "<Figure size 432x288 with 2 Axes>"
            ],
            "image/png": "[encoded data removed]"
          },
          "metadata": {
            "needs_background": "light"
          }
        }
      ],
      "source": [
        "plot_confusion_matrix(confusion_matrix(actual,testset_predicted),\"Testset confusion Matrix for the Decision Trees classifier\")"
      ]
    },
    {
      "cell_type": "code",
      "execution_count": 112,
      "metadata": {
        "id": "bvtsyEIpFRUs"
      },
      "outputs": [],
      "source": [
        "model_name.append(\"Decision Trees Classifier\")\n",
        "train_accuracies.append(np.round(accuracy_score(y_train,predicted_train),4))\n",
        "val_accuracies.append(np.round(accuracy_score(y_val,predicted_val),4))\n",
        "test_accuracies.append(np.round(accuracy_score(actual,testset_predicted),4))"
      ]
    },
    {
      "cell_type": "markdown",
      "metadata": {
        "id": "t-Seo7mmFRUs"
      },
      "source": [
        "# Ensemble Models"
      ]
    },
    {
      "cell_type": "markdown",
      "metadata": {
        "id": "6opMsYVLFRUs"
      },
      "source": [
        "## Random Forest"
      ]
    },
    {
      "cell_type": "code",
      "execution_count": 113,
      "metadata": {
        "colab": {
          "base_uri": "https://localhost:8080/"
        },
        "id": "hvQJ6X9YFRUs",
        "outputId": "93e28761-4e65-4d55-d777-f559eb13d265"
      },
      "outputs": [
        {
          "output_type": "execute_result",
          "data": {
            "text/plain": [
              "RandomForestClassifier(n_estimators=300)"
            ]
          },
          "metadata": {},
          "execution_count": 113
        }
      ],
      "source": [
        "from sklearn.ensemble import RandomForestClassifier\n",
        "\n",
        "clf = RandomForestClassifier(n_estimators=300)\n",
        "\n",
        "clf.fit(X_train, y_train)"
      ]
    },
    {
      "cell_type": "code",
      "execution_count": 114,
      "metadata": {
        "id": "Djl3IdwTFRUt"
      },
      "outputs": [],
      "source": [
        "predicted_train = clf.predict(X_train)\n",
        "predicted_val = clf.predict(X_val)"
      ]
    },
    {
      "cell_type": "code",
      "execution_count": 115,
      "metadata": {
        "colab": {
          "base_uri": "https://localhost:8080/"
        },
        "id": "njdvsvvsFRUt",
        "outputId": "d4432af7-fe48-4451-fa02-5f4f653e87ee"
      },
      "outputs": [
        {
          "output_type": "stream",
          "name": "stdout",
          "text": [
            "The Train accuracy for the Random Forest classifier Model is :  1.0\n",
            "The Validation accuracy for the Random Forest classifier Model is :  0.9675\n"
          ]
        }
      ],
      "source": [
        "print(\"The Train accuracy for the Random Forest classifier Model is : \",accuracy_score(y_train,predicted_train))\n",
        "print(\"The Validation accuracy for the Random Forest classifier Model is : \",accuracy_score(y_val,predicted_val))"
      ]
    },
    {
      "cell_type": "code",
      "execution_count": 116,
      "metadata": {
        "colab": {
          "base_uri": "https://localhost:8080/",
          "height": 281
        },
        "id": "nZs5VGJIFRUt",
        "outputId": "16700019-7e51-4531-a93e-af025525ae26"
      },
      "outputs": [
        {
          "output_type": "display_data",
          "data": {
            "text/plain": [
              "<Figure size 432x288 with 2 Axes>"
            ],
            "image/png": "[encoded data removed]"
          },
          "metadata": {
            "needs_background": "light"
          }
        }
      ],
      "source": [
        "plot_confusion_matrix(confusion_matrix(y_train,predicted_train),\"Train confusion Matrix for the Random Forest classifier Model\")"
      ]
    },
    {
      "cell_type": "code",
      "execution_count": 117,
      "metadata": {
        "colab": {
          "base_uri": "https://localhost:8080/",
          "height": 281
        },
        "id": "KAipktqUFRUt",
        "outputId": "73ce140b-0764-4a2c-f6ab-ec372ac19d33"
      },
      "outputs": [
        {
          "output_type": "display_data",
          "data": {
            "text/plain": [
              "<Figure size 432x288 with 2 Axes>"
            ],
            "image/png": "[encoded data removed]"
          },
          "metadata": {
            "needs_background": "light"
          }
        }
      ],
      "source": [
        "plot_confusion_matrix(confusion_matrix(y_val,predicted_val),\"Validation confusion Matrix for the Random Forest classifier Model\")"
      ]
    },
    {
      "cell_type": "code",
      "execution_count": 118,
      "metadata": {
        "colab": {
          "base_uri": "https://localhost:8080/"
        },
        "id": "el-qxlmiFRUt",
        "outputId": "4bf79903-b4fa-4c50-cb24-267b97e3eee1"
      },
      "outputs": [
        {
          "output_type": "stream",
          "name": "stdout",
          "text": [
            "The testset accuracy for the Random Forest classifier model is :  0.9019466474405191\n"
          ]
        }
      ],
      "source": [
        "testset_predicted = clf.predict(test_tfidf)\n",
        "print(\"The testset accuracy for the Random Forest classifier model is : \",accuracy_score(actual,testset_predicted))"
      ]
    },
    {
      "cell_type": "code",
      "execution_count": 119,
      "metadata": {
        "colab": {
          "base_uri": "https://localhost:8080/",
          "height": 281
        },
        "id": "GMtWwCe0FRUu",
        "outputId": "d572615d-24c2-461e-9f59-7055fa3e5988"
      },
      "outputs": [
        {
          "output_type": "display_data",
          "data": {
            "text/plain": [
              "<Figure size 432x288 with 2 Axes>"
            ],
            "image/png": "[encoded data removed]"
          },
          "metadata": {
            "needs_background": "light"
          }
        }
      ],
      "source": [
        "plot_confusion_matrix(confusion_matrix(actual,testset_predicted),\"Testset confusion Matrix for the Random Forest classifier\")"
      ]
    },
    {
      "cell_type": "code",
      "execution_count": 120,
      "metadata": {
        "id": "ZO1zpWcXFRUu"
      },
      "outputs": [],
      "source": [
        "model_name.append(\"Random Forest Classifier\")\n",
        "train_accuracies.append(np.round(accuracy_score(y_train,predicted_train),4))\n",
        "val_accuracies.append(np.round(accuracy_score(y_val,predicted_val),4))\n",
        "test_accuracies.append(np.round(accuracy_score(actual,testset_predicted),4))"
      ]
    },
    {
      "cell_type": "markdown",
      "metadata": {
        "id": "bqEazfa0FRUu"
      },
      "source": [
        "## Accuracy"
      ]
    },
    {
      "cell_type": "code",
      "execution_count": 121,
      "metadata": {
        "id": "1_shLNMtFRUw"
      },
      "outputs": [],
      "source": [
        "# http://zetcode.com/python/prettytable/\n",
        "from prettytable import PrettyTable\n",
        "\n",
        "x = PrettyTable()\n",
        "x.field_names = [\"Model\", \"Train Accuracy Score\", \"Validation Accuracy Score\", \"Test Accuracy Score\"]\n",
        "\n",
        "for i in range(len(model_name)):\n",
        "    x.add_row([model_name[i],train_accuracies[i],val_accuracies[i],test_accuracies[i]])"
      ]
    },
    {
      "cell_type": "code",
      "execution_count": 122,
      "metadata": {
        "colab": {
          "base_uri": "https://localhost:8080/"
        },
        "id": "pj8Syv7xFRUx",
        "outputId": "82a746d0-7829-4840-bf13-ba9476ac16fe"
      },
      "outputs": [
        {
          "output_type": "stream",
          "name": "stdout",
          "text": [
            "+-----------------------------------------------+----------------------+---------------------------+---------------------+\n",
            "|                     Model                     | Train Accuracy Score | Validation Accuracy Score | Test Accuracy Score |\n",
            "+-----------------------------------------------+----------------------+---------------------------+---------------------+\n",
            "|            Multinomial Naive Bayes            |         0.99         |            0.98           |         0.88        |\n",
            "| Multinomial Naive Bayes with Cross Validation |        0.9938        |           0.985           |        0.8774       |\n",
            "|              Logistic Regression              |        0.985         |            0.96           |        0.8803       |\n",
            "|   Logistic Regression with Cross Validation   |         1.0          |           0.985           |        0.9164       |\n",
            "|                 KNN-Classifier                |        0.8575        |           0.7375          |        0.5306       |\n",
            "|      KNN-Classifier with Cross-Validation     |        0.8975        |           0.8725          |        0.7678       |\n",
            "|                 SVM-Classifier                |         1.0          |           0.9875          |        0.9027       |\n",
            "|      SVM-Classifier with Cross Validation     |        0.9994        |            0.98           |        0.9084       |\n",
            "|           Decision Trees Classifier           |         1.0          |           0.9675          |        0.8846       |\n",
            "|            Random Forest Classifier           |         1.0          |           0.9675          |        0.9019       |\n",
            "+-----------------------------------------------+----------------------+---------------------------+---------------------+\n"
          ]
        }
      ],
      "source": [
        "print(x)"
      ]
    },
    {
      "cell_type": "markdown",
      "source": [
        "From above we can observe that Logistic Regression with Cross Validation model has the highest accuracy to detect the emotion of the text. We have we have integrated the concepts of sentiment analysis and text classification in this project. "
      ],
      "metadata": {
        "id": "py817a4MW897"
      }
    }
  ],
  "metadata": {
    "kernelspec": {
      "display_name": "Python 3",
      "language": "python",
      "name": "python3"
    },
    "language_info": {
      "codemirror_mode": {
        "name": "ipython",
        "version": 3
      },
      "file_extension": ".py",
      "mimetype": "text/x-python",
      "name": "python",
      "nbconvert_exporter": "python",
      "pygments_lexer": "ipython3",
      "version": "3.7.6"
    },
    "colab": {
      "provenance": []
    }
  },
  "nbformat": 4,
  "nbformat_minor": 0
}