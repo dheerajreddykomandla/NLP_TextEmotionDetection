{
  "cells": [
    {
      "cell_type": "code",
      "execution_count": 1,
      "metadata": {
        "id": "S8nEJuFAFRUH"
      },
      "outputs": [],
      "source": [
        "import pandas as pd\n",
        "import numpy as np"
      ]
    },
    {
      "cell_type": "markdown",
      "metadata": {
        "id": "-l41RqRwFRUI"
      },
      "source": [
        "## Reading the files"
      ]
    },
    {
      "cell_type": "code",
      "execution_count": 2,
      "metadata": {
        "id": "zX05nuvCFRUK"
      },
      "outputs": [],
      "source": [
        "train_df = pd.read_csv('emotion-labels-train.csv')\n",
        "test_df = pd.read_csv('emotion-labels-test.csv')"
      ]
    },
    {
      "cell_type": "code",
      "execution_count": 3,
      "metadata": {
        "colab": {
          "base_uri": "https://localhost:8080/",
          "height": 206
        },
        "id": "mZvS_W3QFRUK",
        "outputId": "7b27afe8-d1c2-4f1b-ee6d-999adc862918"
      },
      "outputs": [
        {
          "output_type": "execute_result",
          "data": {
            "text/plain": [
              "                                                text label\n",
              "0  Just got back from seeing @GaryDelaney in Burs...   joy\n",
              "1  Oh dear an evening of absolute hilarity I don'...   joy\n",
              "2  Been waiting all week for this game ❤️❤️❤️ #ch...   joy\n",
              "3  @gardiner_love : Thank you so much, Gloria! Yo...   joy\n",
              "4  I feel so blessed to work with the family that...   joy"
            ],
            "text/html": [
              "\n",
              "  <div id=\"df-5505ec89-8af5-40c5-b531-78f98db57e5a\">\n",
              "    <div class=\"colab-df-container\">\n",
              "      <div>\n",
              "<style scoped>\n",
              "    .dataframe tbody tr th:only-of-type {\n",
              "        vertical-align: middle;\n",
              "    }\n",
              "\n",
              "    .dataframe tbody tr th {\n",
              "        vertical-align: top;\n",
              "    }\n",
              "\n",
              "    .dataframe thead th {\n",
              "        text-align: right;\n",
              "    }\n",
              "</style>\n",
              "<table border=\"1\" class=\"dataframe\">\n",
              "  <thead>\n",
              "    <tr style=\"text-align: right;\">\n",
              "      <th></th>\n",
              "      <th>text</th>\n",
              "      <th>label</th>\n",
              "    </tr>\n",
              "  </thead>\n",
              "  <tbody>\n",
              "    <tr>\n",
              "      <th>0</th>\n",
              "      <td>Just got back from seeing @GaryDelaney in Burs...</td>\n",
              "      <td>joy</td>\n",
              "    </tr>\n",
              "    <tr>\n",
              "      <th>1</th>\n",
              "      <td>Oh dear an evening of absolute hilarity I don'...</td>\n",
              "      <td>joy</td>\n",
              "    </tr>\n",
              "    <tr>\n",
              "      <th>2</th>\n",
              "      <td>Been waiting all week for this game ❤️❤️❤️ #ch...</td>\n",
              "      <td>joy</td>\n",
              "    </tr>\n",
              "    <tr>\n",
              "      <th>3</th>\n",
              "      <td>@gardiner_love : Thank you so much, Gloria! Yo...</td>\n",
              "      <td>joy</td>\n",
              "    </tr>\n",
              "    <tr>\n",
              "      <th>4</th>\n",
              "      <td>I feel so blessed to work with the family that...</td>\n",
              "      <td>joy</td>\n",
              "    </tr>\n",
              "  </tbody>\n",
              "</table>\n",
              "</div>\n",
              "      <button class=\"colab-df-convert\" onclick=\"convertToInteractive('df-5505ec89-8af5-40c5-b531-78f98db57e5a')\"\n",
              "              title=\"Convert this dataframe to an interactive table.\"\n",
              "              style=\"display:none;\">\n",
              "        \n",
              "  <svg xmlns=\"http://www.w3.org/2000/svg\" height=\"24px\"viewBox=\"0 0 24 24\"\n",
              "       width=\"24px\">\n",
              "    <path d=\"M0 0h24v24H0V0z\" fill=\"none\"/>\n",
              "    <path d=\"M18.56 5.44l.94 2.06.94-2.06 2.06-.94-2.06-.94-.94-2.06-.94 2.06-2.06.94zm-11 1L8.5 8.5l.94-2.06 2.06-.94-2.06-.94L8.5 2.5l-.94 2.06-2.06.94zm10 10l.94 2.06.94-2.06 2.06-.94-2.06-.94-.94-2.06-.94 2.06-2.06.94z\"/><path d=\"M17.41 7.96l-1.37-1.37c-.4-.4-.92-.59-1.43-.59-.52 0-1.04.2-1.43.59L10.3 9.45l-7.72 7.72c-.78.78-.78 2.05 0 2.83L4 21.41c.39.39.9.59 1.41.59.51 0 1.02-.2 1.41-.59l7.78-7.78 2.81-2.81c.8-.78.8-2.07 0-2.86zM5.41 20L4 18.59l7.72-7.72 1.47 1.35L5.41 20z\"/>\n",
              "  </svg>\n",
              "      </button>\n",
              "      \n",
              "  <style>\n",
              "    .colab-df-container {\n",
              "      display:flex;\n",
              "      flex-wrap:wrap;\n",
              "      gap: 12px;\n",
              "    }\n",
              "\n",
              "    .colab-df-convert {\n",
              "      background-color: #E8F0FE;\n",
              "      border: none;\n",
              "      border-radius: 50%;\n",
              "      cursor: pointer;\n",
              "      display: none;\n",
              "      fill: #1967D2;\n",
              "      height: 32px;\n",
              "      padding: 0 0 0 0;\n",
              "      width: 32px;\n",
              "    }\n",
              "\n",
              "    .colab-df-convert:hover {\n",
              "      background-color: #E2EBFA;\n",
              "      box-shadow: 0px 1px 2px rgba(60, 64, 67, 0.3), 0px 1px 3px 1px rgba(60, 64, 67, 0.15);\n",
              "      fill: #174EA6;\n",
              "    }\n",
              "\n",
              "    [theme=dark] .colab-df-convert {\n",
              "      background-color: #3B4455;\n",
              "      fill: #D2E3FC;\n",
              "    }\n",
              "\n",
              "    [theme=dark] .colab-df-convert:hover {\n",
              "      background-color: #434B5C;\n",
              "      box-shadow: 0px 1px 3px 1px rgba(0, 0, 0, 0.15);\n",
              "      filter: drop-shadow(0px 1px 2px rgba(0, 0, 0, 0.3));\n",
              "      fill: #FFFFFF;\n",
              "    }\n",
              "  </style>\n",
              "\n",
              "      <script>\n",
              "        const buttonEl =\n",
              "          document.querySelector('#df-5505ec89-8af5-40c5-b531-78f98db57e5a button.colab-df-convert');\n",
              "        buttonEl.style.display =\n",
              "          google.colab.kernel.accessAllowed ? 'block' : 'none';\n",
              "\n",
              "        async function convertToInteractive(key) {\n",
              "          const element = document.querySelector('#df-5505ec89-8af5-40c5-b531-78f98db57e5a');\n",
              "          const dataTable =\n",
              "            await google.colab.kernel.invokeFunction('convertToInteractive',\n",
              "                                                     [key], {});\n",
              "          if (!dataTable) return;\n",
              "\n",
              "          const docLinkHtml = 'Like what you see? Visit the ' +\n",
              "            '<a target=\"_blank\" href=https://colab.research.google.com/notebooks/data_table.ipynb>data table notebook</a>'\n",
              "            + ' to learn more about interactive tables.';\n",
              "          element.innerHTML = '';\n",
              "          dataTable['output_type'] = 'display_data';\n",
              "          await google.colab.output.renderOutput(dataTable, element);\n",
              "          const docLink = document.createElement('div');\n",
              "          docLink.innerHTML = docLinkHtml;\n",
              "          element.appendChild(docLink);\n",
              "        }\n",
              "      </script>\n",
              "    </div>\n",
              "  </div>\n",
              "  "
            ]
          },
          "metadata": {},
          "execution_count": 3
        }
      ],
      "source": [
        "train_df.head()"
      ]
    },
    {
      "cell_type": "code",
      "execution_count": 4,
      "metadata": {
        "colab": {
          "base_uri": "https://localhost:8080/",
          "height": 206
        },
        "id": "WtEIpaybFRUL",
        "outputId": "52e5c7f8-4e53-4b5f-ccad-22ae6ed90a7c"
      },
      "outputs": [
        {
          "output_type": "execute_result",
          "data": {
            "text/plain": [
              "                                                text label\n",
              "0  You must be knowing #blithe means (adj.)  Happ...   joy\n",
              "1  Old saying 'A #smile shared is one gained for ...   joy\n",
              "2  Bridget Jones' Baby was bloody hilarious 😅 #Br...   joy\n",
              "3  @Elaminova sparkling water makes your life spa...   joy\n",
              "4  I'm tired of everybody telling me to chill out...   joy"
            ],
            "text/html": [
              "\n",
              "  <div id=\"df-226e3fe0-3c45-40ea-bcff-3c9a42221ba1\">\n",
              "    <div class=\"colab-df-container\">\n",
              "      <div>\n",
              "<style scoped>\n",
              "    .dataframe tbody tr th:only-of-type {\n",
              "        vertical-align: middle;\n",
              "    }\n",
              "\n",
              "    .dataframe tbody tr th {\n",
              "        vertical-align: top;\n",
              "    }\n",
              "\n",
              "    .dataframe thead th {\n",
              "        text-align: right;\n",
              "    }\n",
              "</style>\n",
              "<table border=\"1\" class=\"dataframe\">\n",
              "  <thead>\n",
              "    <tr style=\"text-align: right;\">\n",
              "      <th></th>\n",
              "      <th>text</th>\n",
              "      <th>label</th>\n",
              "    </tr>\n",
              "  </thead>\n",
              "  <tbody>\n",
              "    <tr>\n",
              "      <th>0</th>\n",
              "      <td>You must be knowing #blithe means (adj.)  Happ...</td>\n",
              "      <td>joy</td>\n",
              "    </tr>\n",
              "    <tr>\n",
              "      <th>1</th>\n",
              "      <td>Old saying 'A #smile shared is one gained for ...</td>\n",
              "      <td>joy</td>\n",
              "    </tr>\n",
              "    <tr>\n",
              "      <th>2</th>\n",
              "      <td>Bridget Jones' Baby was bloody hilarious 😅 #Br...</td>\n",
              "      <td>joy</td>\n",
              "    </tr>\n",
              "    <tr>\n",
              "      <th>3</th>\n",
              "      <td>@Elaminova sparkling water makes your life spa...</td>\n",
              "      <td>joy</td>\n",
              "    </tr>\n",
              "    <tr>\n",
              "      <th>4</th>\n",
              "      <td>I'm tired of everybody telling me to chill out...</td>\n",
              "      <td>joy</td>\n",
              "    </tr>\n",
              "  </tbody>\n",
              "</table>\n",
              "</div>\n",
              "      <button class=\"colab-df-convert\" onclick=\"convertToInteractive('df-226e3fe0-3c45-40ea-bcff-3c9a42221ba1')\"\n",
              "              title=\"Convert this dataframe to an interactive table.\"\n",
              "              style=\"display:none;\">\n",
              "        \n",
              "  <svg xmlns=\"http://www.w3.org/2000/svg\" height=\"24px\"viewBox=\"0 0 24 24\"\n",
              "       width=\"24px\">\n",
              "    <path d=\"M0 0h24v24H0V0z\" fill=\"none\"/>\n",
              "    <path d=\"M18.56 5.44l.94 2.06.94-2.06 2.06-.94-2.06-.94-.94-2.06-.94 2.06-2.06.94zm-11 1L8.5 8.5l.94-2.06 2.06-.94-2.06-.94L8.5 2.5l-.94 2.06-2.06.94zm10 10l.94 2.06.94-2.06 2.06-.94-2.06-.94-.94-2.06-.94 2.06-2.06.94z\"/><path d=\"M17.41 7.96l-1.37-1.37c-.4-.4-.92-.59-1.43-.59-.52 0-1.04.2-1.43.59L10.3 9.45l-7.72 7.72c-.78.78-.78 2.05 0 2.83L4 21.41c.39.39.9.59 1.41.59.51 0 1.02-.2 1.41-.59l7.78-7.78 2.81-2.81c.8-.78.8-2.07 0-2.86zM5.41 20L4 18.59l7.72-7.72 1.47 1.35L5.41 20z\"/>\n",
              "  </svg>\n",
              "      </button>\n",
              "      \n",
              "  <style>\n",
              "    .colab-df-container {\n",
              "      display:flex;\n",
              "      flex-wrap:wrap;\n",
              "      gap: 12px;\n",
              "    }\n",
              "\n",
              "    .colab-df-convert {\n",
              "      background-color: #E8F0FE;\n",
              "      border: none;\n",
              "      border-radius: 50%;\n",
              "      cursor: pointer;\n",
              "      display: none;\n",
              "      fill: #1967D2;\n",
              "      height: 32px;\n",
              "      padding: 0 0 0 0;\n",
              "      width: 32px;\n",
              "    }\n",
              "\n",
              "    .colab-df-convert:hover {\n",
              "      background-color: #E2EBFA;\n",
              "      box-shadow: 0px 1px 2px rgba(60, 64, 67, 0.3), 0px 1px 3px 1px rgba(60, 64, 67, 0.15);\n",
              "      fill: #174EA6;\n",
              "    }\n",
              "\n",
              "    [theme=dark] .colab-df-convert {\n",
              "      background-color: #3B4455;\n",
              "      fill: #D2E3FC;\n",
              "    }\n",
              "\n",
              "    [theme=dark] .colab-df-convert:hover {\n",
              "      background-color: #434B5C;\n",
              "      box-shadow: 0px 1px 3px 1px rgba(0, 0, 0, 0.15);\n",
              "      filter: drop-shadow(0px 1px 2px rgba(0, 0, 0, 0.3));\n",
              "      fill: #FFFFFF;\n",
              "    }\n",
              "  </style>\n",
              "\n",
              "      <script>\n",
              "        const buttonEl =\n",
              "          document.querySelector('#df-226e3fe0-3c45-40ea-bcff-3c9a42221ba1 button.colab-df-convert');\n",
              "        buttonEl.style.display =\n",
              "          google.colab.kernel.accessAllowed ? 'block' : 'none';\n",
              "\n",
              "        async function convertToInteractive(key) {\n",
              "          const element = document.querySelector('#df-226e3fe0-3c45-40ea-bcff-3c9a42221ba1');\n",
              "          const dataTable =\n",
              "            await google.colab.kernel.invokeFunction('convertToInteractive',\n",
              "                                                     [key], {});\n",
              "          if (!dataTable) return;\n",
              "\n",
              "          const docLinkHtml = 'Like what you see? Visit the ' +\n",
              "            '<a target=\"_blank\" href=https://colab.research.google.com/notebooks/data_table.ipynb>data table notebook</a>'\n",
              "            + ' to learn more about interactive tables.';\n",
              "          element.innerHTML = '';\n",
              "          dataTable['output_type'] = 'display_data';\n",
              "          await google.colab.output.renderOutput(dataTable, element);\n",
              "          const docLink = document.createElement('div');\n",
              "          docLink.innerHTML = docLinkHtml;\n",
              "          element.appendChild(docLink);\n",
              "        }\n",
              "      </script>\n",
              "    </div>\n",
              "  </div>\n",
              "  "
            ]
          },
          "metadata": {},
          "execution_count": 4
        }
      ],
      "source": [
        "test_df.head()"
      ]
    },
    {
      "cell_type": "code",
      "execution_count": 5,
      "metadata": {
        "colab": {
          "base_uri": "https://localhost:8080/",
          "height": 316
        },
        "id": "326FAmEjFRUM",
        "outputId": "81df1d21-e6c5-4cbc-fe64-1b6c236f08f2"
      },
      "outputs": [
        {
          "output_type": "execute_result",
          "data": {
            "text/plain": [
              "<matplotlib.axes._subplots.AxesSubplot at 0x7ff055002f50>"
            ]
          },
          "metadata": {},
          "execution_count": 5
        },
        {
          "output_type": "display_data",
          "data": {
            "text/plain": [
              "<Figure size 432x288 with 1 Axes>"
            ],
            "image/png": "[encoded data removed]"
          },
          "metadata": {
            "needs_background": "light"
          }
        }
      ],
      "source": [
        "train_df.label.value_counts().plot(kind='bar')"
      ]
    },
    {
      "cell_type": "code",
      "execution_count": 6,
      "metadata": {
        "colab": {
          "base_uri": "https://localhost:8080/",
          "height": 313
        },
        "id": "toiV_lwtFRUN",
        "outputId": "b83ad14c-9428-4d7a-e1b9-058b8bca05d6"
      },
      "outputs": [
        {
          "output_type": "execute_result",
          "data": {
            "text/plain": [
              "<matplotlib.axes._subplots.AxesSubplot at 0x7ff054f01550>"
            ]
          },
          "metadata": {},
          "execution_count": 6
        },
        {
          "output_type": "display_data",
          "data": {
            "text/plain": [
              "<Figure size 432x288 with 1 Axes>"
            ],
            "image/png": "[encoded data removed]"
          },
          "metadata": {
            "needs_background": "light"
          }
        }
      ],
      "source": [
        "test_df.label.value_counts().plot(kind='bar')"
      ]
    },
    {
      "cell_type": "code",
      "execution_count": 7,
      "metadata": {
        "id": "4zyqDbU_FRUN"
      },
      "outputs": [],
      "source": [
        "train_df = train_df[train_df.label != 'anger']\n",
        "train_df = train_df[train_df.label != 'fear']\n",
        "test_df = test_df[test_df.label != 'anger']\n",
        "test_df = test_df[test_df.label != 'fear']"
      ]
    },
    {
      "cell_type": "code",
      "execution_count": 8,
      "metadata": {
        "colab": {
          "base_uri": "https://localhost:8080/"
        },
        "id": "OoPW4a8AFRUO",
        "outputId": "62004159-557b-4474-f494-c836f5c4b8db"
      },
      "outputs": [
        {
          "output_type": "execute_result",
          "data": {
            "text/plain": [
              "((1609, 2), (1387, 2))"
            ]
          },
          "metadata": {},
          "execution_count": 8
        }
      ],
      "source": [
        "train_df.shape,test_df.shape"
      ]
    },
    {
      "cell_type": "code",
      "execution_count": 9,
      "metadata": {
        "colab": {
          "base_uri": "https://localhost:8080/",
          "height": 313
        },
        "id": "ootoa4LoFRUP",
        "outputId": "58dbe70c-fcf7-4421-a9bb-66ac31935aa6"
      },
      "outputs": [
        {
          "output_type": "execute_result",
          "data": {
            "text/plain": [
              "<matplotlib.axes._subplots.AxesSubplot at 0x7ff054a2ef90>"
            ]
          },
          "metadata": {},
          "execution_count": 9
        },
        {
          "output_type": "display_data",
          "data": {
            "text/plain": [
              "<Figure size 432x288 with 1 Axes>"
            ],
            "image/png": "[encoded data removed]"
          },
          "metadata": {
            "needs_background": "light"
          }
        }
      ],
      "source": [
        "train_df.label.value_counts().plot(kind='bar')"
      ]
    },
    {
      "cell_type": "code",
      "execution_count": 10,
      "metadata": {
        "colab": {
          "base_uri": "https://localhost:8080/",
          "height": 313
        },
        "id": "5H7P-O9WFRUP",
        "outputId": "a62e2d75-8b11-44a5-f1fe-3e0023cbc3df"
      },
      "outputs": [
        {
          "output_type": "execute_result",
          "data": {
            "text/plain": [
              "<matplotlib.axes._subplots.AxesSubplot at 0x7ff0549b3590>"
            ]
          },
          "metadata": {},
          "execution_count": 10
        },
        {
          "output_type": "display_data",
          "data": {
            "text/plain": [
              "<Figure size 432x288 with 1 Axes>"
            ],
            "image/png": "[encoded data removed]"
          },
          "metadata": {
            "needs_background": "light"
          }
        }
      ],
      "source": [
        "test_df.label.value_counts().plot(kind='bar')"
      ]
    },
    {
      "cell_type": "code",
      "execution_count": 11,
      "metadata": {
        "colab": {
          "base_uri": "https://localhost:8080/",
          "height": 313
        },
        "id": "rGoi0gB_FRUQ",
        "outputId": "aa84002e-799b-4418-c33d-cca6293c62a7"
      },
      "outputs": [
        {
          "output_type": "execute_result",
          "data": {
            "text/plain": [
              "<matplotlib.axes._subplots.AxesSubplot at 0x7ff056dc7050>"
            ]
          },
          "metadata": {},
          "execution_count": 11
        },
        {
          "output_type": "display_data",
          "data": {
            "text/plain": [
              "<Figure size 432x288 with 1 Axes>"
            ],
            "image/png": "[encoded data removed]"
          },
          "metadata": {
            "needs_background": "light"
          }
        }
      ],
      "source": [
        "train_df = train_df.groupby('label', group_keys=False).apply(lambda x: x.sample(1000,replace=True))\n",
        "train_df.label.value_counts().plot(kind='bar')"
      ]
    },
    {
      "cell_type": "markdown",
      "metadata": {
        "id": "o7kA5ACYFRUQ"
      },
      "source": [
        "## Created Dataframe with Reviews and Labels"
      ]
    },
    {
      "cell_type": "markdown",
      "metadata": {
        "id": "yOkiVPb0FRUR"
      },
      "source": [
        "## Preprocessing Section"
      ]
    },
    {
      "cell_type": "code",
      "execution_count": 12,
      "metadata": {
        "id": "PfBIKBNbFRUR"
      },
      "outputs": [],
      "source": [
        "def label_encoding(label):\n",
        "    if label=='joy':\n",
        "        return '1'\n",
        "    else :\n",
        "        return '0'"
      ]
    },
    {
      "cell_type": "code",
      "execution_count": 13,
      "metadata": {
        "id": "6havSHfUFRUR"
      },
      "outputs": [],
      "source": [
        "train_df['label'] = train_df['label'].apply(label_encoding)"
      ]
    },
    {
      "cell_type": "code",
      "execution_count": 14,
      "metadata": {
        "colab": {
          "base_uri": "https://localhost:8080/",
          "height": 206
        },
        "id": "IHoRnLDwFRUS",
        "outputId": "af6fefdc-8d65-466d-dce8-5ccc2964664e"
      },
      "outputs": [
        {
          "output_type": "execute_result",
          "data": {
            "text/plain": [
              "                                                  text label\n",
              "699  @musicfae15 [He grumbled as he sat atop the su...     1\n",
              "100          I found #marmite in Australia. `:) #happy     1\n",
              "711  god, Facebook's design has started to remind m...     1\n",
              "232  God just replaced my sadness with laughter, ca...     1\n",
              "291  Knowing how to cook is invaluable, what's even...     1"
            ],
            "text/html": [
              "\n",
              "  <div id=\"df-8fb90fc8-87d0-43f0-afc0-e5715b58fde6\">\n",
              "    <div class=\"colab-df-container\">\n",
              "      <div>\n",
              "<style scoped>\n",
              "    .dataframe tbody tr th:only-of-type {\n",
              "        vertical-align: middle;\n",
              "    }\n",
              "\n",
              "    .dataframe tbody tr th {\n",
              "        vertical-align: top;\n",
              "    }\n",
              "\n",
              "    .dataframe thead th {\n",
              "        text-align: right;\n",
              "    }\n",
              "</style>\n",
              "<table border=\"1\" class=\"dataframe\">\n",
              "  <thead>\n",
              "    <tr style=\"text-align: right;\">\n",
              "      <th></th>\n",
              "      <th>text</th>\n",
              "      <th>label</th>\n",
              "    </tr>\n",
              "  </thead>\n",
              "  <tbody>\n",
              "    <tr>\n",
              "      <th>699</th>\n",
              "      <td>@musicfae15 [He grumbled as he sat atop the su...</td>\n",
              "      <td>1</td>\n",
              "    </tr>\n",
              "    <tr>\n",
              "      <th>100</th>\n",
              "      <td>I found #marmite in Australia. `:) #happy</td>\n",
              "      <td>1</td>\n",
              "    </tr>\n",
              "    <tr>\n",
              "      <th>711</th>\n",
              "      <td>god, Facebook's design has started to remind m...</td>\n",
              "      <td>1</td>\n",
              "    </tr>\n",
              "    <tr>\n",
              "      <th>232</th>\n",
              "      <td>God just replaced my sadness with laughter, ca...</td>\n",
              "      <td>1</td>\n",
              "    </tr>\n",
              "    <tr>\n",
              "      <th>291</th>\n",
              "      <td>Knowing how to cook is invaluable, what's even...</td>\n",
              "      <td>1</td>\n",
              "    </tr>\n",
              "  </tbody>\n",
              "</table>\n",
              "</div>\n",
              "      <button class=\"colab-df-convert\" onclick=\"convertToInteractive('df-8fb90fc8-87d0-43f0-afc0-e5715b58fde6')\"\n",
              "              title=\"Convert this dataframe to an interactive table.\"\n",
              "              style=\"display:none;\">\n",
              "        \n",
              "  <svg xmlns=\"http://www.w3.org/2000/svg\" height=\"24px\"viewBox=\"0 0 24 24\"\n",
              "       width=\"24px\">\n",
              "    <path d=\"M0 0h24v24H0V0z\" fill=\"none\"/>\n",
              "    <path d=\"M18.56 5.44l.94 2.06.94-2.06 2.06-.94-2.06-.94-.94-2.06-.94 2.06-2.06.94zm-11 1L8.5 8.5l.94-2.06 2.06-.94-2.06-.94L8.5 2.5l-.94 2.06-2.06.94zm10 10l.94 2.06.94-2.06 2.06-.94-2.06-.94-.94-2.06-.94 2.06-2.06.94z\"/><path d=\"M17.41 7.96l-1.37-1.37c-.4-.4-.92-.59-1.43-.59-.52 0-1.04.2-1.43.59L10.3 9.45l-7.72 7.72c-.78.78-.78 2.05 0 2.83L4 21.41c.39.39.9.59 1.41.59.51 0 1.02-.2 1.41-.59l7.78-7.78 2.81-2.81c.8-.78.8-2.07 0-2.86zM5.41 20L4 18.59l7.72-7.72 1.47 1.35L5.41 20z\"/>\n",
              "  </svg>\n",
              "      </button>\n",
              "      \n",
              "  <style>\n",
              "    .colab-df-container {\n",
              "      display:flex;\n",
              "      flex-wrap:wrap;\n",
              "      gap: 12px;\n",
              "    }\n",
              "\n",
              "    .colab-df-convert {\n",
              "      background-color: #E8F0FE;\n",
              "      border: none;\n",
              "      border-radius: 50%;\n",
              "      cursor: pointer;\n",
              "      display: none;\n",
              "      fill: #1967D2;\n",
              "      height: 32px;\n",
              "      padding: 0 0 0 0;\n",
              "      width: 32px;\n",
              "    }\n",
              "\n",
              "    .colab-df-convert:hover {\n",
              "      background-color: #E2EBFA;\n",
              "      box-shadow: 0px 1px 2px rgba(60, 64, 67, 0.3), 0px 1px 3px 1px rgba(60, 64, 67, 0.15);\n",
              "      fill: #174EA6;\n",
              "    }\n",
              "\n",
              "    [theme=dark] .colab-df-convert {\n",
              "      background-color: #3B4455;\n",
              "      fill: #D2E3FC;\n",
              "    }\n",
              "\n",
              "    [theme=dark] .colab-df-convert:hover {\n",
              "      background-color: #434B5C;\n",
              "      box-shadow: 0px 1px 3px 1px rgba(0, 0, 0, 0.15);\n",
              "      filter: drop-shadow(0px 1px 2px rgba(0, 0, 0, 0.3));\n",
              "      fill: #FFFFFF;\n",
              "    }\n",
              "  </style>\n",
              "\n",
              "      <script>\n",
              "        const buttonEl =\n",
              "          document.querySelector('#df-8fb90fc8-87d0-43f0-afc0-e5715b58fde6 button.colab-df-convert');\n",
              "        buttonEl.style.display =\n",
              "          google.colab.kernel.accessAllowed ? 'block' : 'none';\n",
              "\n",
              "        async function convertToInteractive(key) {\n",
              "          const element = document.querySelector('#df-8fb90fc8-87d0-43f0-afc0-e5715b58fde6');\n",
              "          const dataTable =\n",
              "            await google.colab.kernel.invokeFunction('convertToInteractive',\n",
              "                                                     [key], {});\n",
              "          if (!dataTable) return;\n",
              "\n",
              "          const docLinkHtml = 'Like what you see? Visit the ' +\n",
              "            '<a target=\"_blank\" href=https://colab.research.google.com/notebooks/data_table.ipynb>data table notebook</a>'\n",
              "            + ' to learn more about interactive tables.';\n",
              "          element.innerHTML = '';\n",
              "          dataTable['output_type'] = 'display_data';\n",
              "          await google.colab.output.renderOutput(dataTable, element);\n",
              "          const docLink = document.createElement('div');\n",
              "          docLink.innerHTML = docLinkHtml;\n",
              "          element.appendChild(docLink);\n",
              "        }\n",
              "      </script>\n",
              "    </div>\n",
              "  </div>\n",
              "  "
            ]
          },
          "metadata": {},
          "execution_count": 14
        }
      ],
      "source": [
        "train_df.head()"
      ]
    },
    {
      "cell_type": "code",
      "execution_count": 15,
      "metadata": {
        "id": "jRdhQSuFFRUS"
      },
      "outputs": [],
      "source": [
        "test_df['label'] = test_df['label'].apply(label_encoding)"
      ]
    },
    {
      "cell_type": "code",
      "execution_count": 16,
      "metadata": {
        "colab": {
          "base_uri": "https://localhost:8080/",
          "height": 206
        },
        "id": "WFF8YkVeFRUS",
        "outputId": "12cc444b-b142-40a7-dcb6-8a2b884f13a4"
      },
      "outputs": [
        {
          "output_type": "execute_result",
          "data": {
            "text/plain": [
              "                                                text label\n",
              "0  You must be knowing #blithe means (adj.)  Happ...     1\n",
              "1  Old saying 'A #smile shared is one gained for ...     1\n",
              "2  Bridget Jones' Baby was bloody hilarious 😅 #Br...     1\n",
              "3  @Elaminova sparkling water makes your life spa...     1\n",
              "4  I'm tired of everybody telling me to chill out...     1"
            ],
            "text/html": [
              "\n",
              "  <div id=\"df-2ee91a5e-7a51-4f57-9e47-950e6844da4d\">\n",
              "    <div class=\"colab-df-container\">\n",
              "      <div>\n",
              "<style scoped>\n",
              "    .dataframe tbody tr th:only-of-type {\n",
              "        vertical-align: middle;\n",
              "    }\n",
              "\n",
              "    .dataframe tbody tr th {\n",
              "        vertical-align: top;\n",
              "    }\n",
              "\n",
              "    .dataframe thead th {\n",
              "        text-align: right;\n",
              "    }\n",
              "</style>\n",
              "<table border=\"1\" class=\"dataframe\">\n",
              "  <thead>\n",
              "    <tr style=\"text-align: right;\">\n",
              "      <th></th>\n",
              "      <th>text</th>\n",
              "      <th>label</th>\n",
              "    </tr>\n",
              "  </thead>\n",
              "  <tbody>\n",
              "    <tr>\n",
              "      <th>0</th>\n",
              "      <td>You must be knowing #blithe means (adj.)  Happ...</td>\n",
              "      <td>1</td>\n",
              "    </tr>\n",
              "    <tr>\n",
              "      <th>1</th>\n",
              "      <td>Old saying 'A #smile shared is one gained for ...</td>\n",
              "      <td>1</td>\n",
              "    </tr>\n",
              "    <tr>\n",
              "      <th>2</th>\n",
              "      <td>Bridget Jones' Baby was bloody hilarious 😅 #Br...</td>\n",
              "      <td>1</td>\n",
              "    </tr>\n",
              "    <tr>\n",
              "      <th>3</th>\n",
              "      <td>@Elaminova sparkling water makes your life spa...</td>\n",
              "      <td>1</td>\n",
              "    </tr>\n",
              "    <tr>\n",
              "      <th>4</th>\n",
              "      <td>I'm tired of everybody telling me to chill out...</td>\n",
              "      <td>1</td>\n",
              "    </tr>\n",
              "  </tbody>\n",
              "</table>\n",
              "</div>\n",
              "      <button class=\"colab-df-convert\" onclick=\"convertToInteractive('df-2ee91a5e-7a51-4f57-9e47-950e6844da4d')\"\n",
              "              title=\"Convert this dataframe to an interactive table.\"\n",
              "              style=\"display:none;\">\n",
              "        \n",
              "  <svg xmlns=\"http://www.w3.org/2000/svg\" height=\"24px\"viewBox=\"0 0 24 24\"\n",
              "       width=\"24px\">\n",
              "    <path d=\"M0 0h24v24H0V0z\" fill=\"none\"/>\n",
              "    <path d=\"M18.56 5.44l.94 2.06.94-2.06 2.06-.94-2.06-.94-.94-2.06-.94 2.06-2.06.94zm-11 1L8.5 8.5l.94-2.06 2.06-.94-2.06-.94L8.5 2.5l-.94 2.06-2.06.94zm10 10l.94 2.06.94-2.06 2.06-.94-2.06-.94-.94-2.06-.94 2.06-2.06.94z\"/><path d=\"M17.41 7.96l-1.37-1.37c-.4-.4-.92-.59-1.43-.59-.52 0-1.04.2-1.43.59L10.3 9.45l-7.72 7.72c-.78.78-.78 2.05 0 2.83L4 21.41c.39.39.9.59 1.41.59.51 0 1.02-.2 1.41-.59l7.78-7.78 2.81-2.81c.8-.78.8-2.07 0-2.86zM5.41 20L4 18.59l7.72-7.72 1.47 1.35L5.41 20z\"/>\n",
              "  </svg>\n",
              "      </button>\n",
              "      \n",
              "  <style>\n",
              "    .colab-df-container {\n",
              "      display:flex;\n",
              "      flex-wrap:wrap;\n",
              "      gap: 12px;\n",
              "    }\n",
              "\n",
              "    .colab-df-convert {\n",
              "      background-color: #E8F0FE;\n",
              "      border: none;\n",
              "      border-radius: 50%;\n",
              "      cursor: pointer;\n",
              "      display: none;\n",
              "      fill: #1967D2;\n",
              "      height: 32px;\n",
              "      padding: 0 0 0 0;\n",
              "      width: 32px;\n",
              "    }\n",
              "\n",
              "    .colab-df-convert:hover {\n",
              "      background-color: #E2EBFA;\n",
              "      box-shadow: 0px 1px 2px rgba(60, 64, 67, 0.3), 0px 1px 3px 1px rgba(60, 64, 67, 0.15);\n",
              "      fill: #174EA6;\n",
              "    }\n",
              "\n",
              "    [theme=dark] .colab-df-convert {\n",
              "      background-color: #3B4455;\n",
              "      fill: #D2E3FC;\n",
              "    }\n",
              "\n",
              "    [theme=dark] .colab-df-convert:hover {\n",
              "      background-color: #434B5C;\n",
              "      box-shadow: 0px 1px 3px 1px rgba(0, 0, 0, 0.15);\n",
              "      filter: drop-shadow(0px 1px 2px rgba(0, 0, 0, 0.3));\n",
              "      fill: #FFFFFF;\n",
              "    }\n",
              "  </style>\n",
              "\n",
              "      <script>\n",
              "        const buttonEl =\n",
              "          document.querySelector('#df-2ee91a5e-7a51-4f57-9e47-950e6844da4d button.colab-df-convert');\n",
              "        buttonEl.style.display =\n",
              "          google.colab.kernel.accessAllowed ? 'block' : 'none';\n",
              "\n",
              "        async function convertToInteractive(key) {\n",
              "          const element = document.querySelector('#df-2ee91a5e-7a51-4f57-9e47-950e6844da4d');\n",
              "          const dataTable =\n",
              "            await google.colab.kernel.invokeFunction('convertToInteractive',\n",
              "                                                     [key], {});\n",
              "          if (!dataTable) return;\n",
              "\n",
              "          const docLinkHtml = 'Like what you see? Visit the ' +\n",
              "            '<a target=\"_blank\" href=https://colab.research.google.com/notebooks/data_table.ipynb>data table notebook</a>'\n",
              "            + ' to learn more about interactive tables.';\n",
              "          element.innerHTML = '';\n",
              "          dataTable['output_type'] = 'display_data';\n",
              "          await google.colab.output.renderOutput(dataTable, element);\n",
              "          const docLink = document.createElement('div');\n",
              "          docLink.innerHTML = docLinkHtml;\n",
              "          element.appendChild(docLink);\n",
              "        }\n",
              "      </script>\n",
              "    </div>\n",
              "  </div>\n",
              "  "
            ]
          },
          "metadata": {},
          "execution_count": 16
        }
      ],
      "source": [
        "test_df.head()"
      ]
    },
    {
      "cell_type": "code",
      "execution_count": 17,
      "metadata": {
        "id": "pdvOyLPiFRUT"
      },
      "outputs": [],
      "source": [
        "import re\n",
        "def preprocess(text):\n",
        "    text = text.replace(\"n\\'t\", \" not\")\n",
        "    text = text.replace(\"n't\", \" not\")\n",
        "    text = text.replace(\"\\'ve\", \" have\")\n",
        "    text = text.replace(\"\\'m\", \" am\")\n",
        "    text = text.replace(\"\\'re\", \" are\")\n",
        "    text = text.replace(\"\\'s\", \" is\")\n",
        "    text = text.replace(\"\\'ll\", \" will\")\n",
        "    text = \" \".join(text.split())\n",
        "    text = re.sub('[^A-Za-z0-9]+', ' ', text)\n",
        "    text = \" \".join(text.split())\n",
        "    return text.lower()"
      ]
    },
    {
      "cell_type": "code",
      "execution_count": 18,
      "metadata": {
        "colab": {
          "base_uri": "https://localhost:8080/"
        },
        "id": "dalenvT1FRUT",
        "outputId": "c82c292e-e5de-4a7a-a279-9d739442232b"
      },
      "outputs": [
        {
          "output_type": "stream",
          "name": "stderr",
          "text": [
            "[nltk_data] Downloading package stopwords to /root/nltk_data...\n",
            "[nltk_data]   Unzipping corpora/stopwords.zip.\n",
            "[nltk_data] Downloading package punkt to /root/nltk_data...\n",
            "[nltk_data]   Unzipping tokenizers/punkt.zip.\n"
          ]
        }
      ],
      "source": [
        "import nltk\n",
        "from nltk.corpus import stopwords\n",
        "from nltk.tokenize import word_tokenize\n",
        "nltk.download('stopwords')\n",
        "nltk.download('punkt')\n",
        "\n",
        "def remove_stopwords(sentence):\n",
        "    stop_words = set(stopwords.words('english'))\n",
        "    word_tokens = word_tokenize(sentence)\n",
        "    filtered_sentence = [w for w in word_tokens if not w.lower() in stop_words]\n",
        "    return \" \".join(filtered_sentence)"
      ]
    },
    {
      "cell_type": "code",
      "execution_count": 19,
      "metadata": {
        "colab": {
          "base_uri": "https://localhost:8080/"
        },
        "id": "P65V0AK3FRUU",
        "outputId": "50f1f5f1-72e1-405b-d829-6a0202e6d4db"
      },
      "outputs": [
        {
          "output_type": "stream",
          "name": "stdout",
          "text": [
            "{'wasn', 'about', \"wouldn't\", 're', 'then', 'if', 'our', \"hadn't\", 'further', \"needn't\", 'of', 'didn', 'whom', 'so', 'down', 'herself', 'such', 'them', 'for', \"you'd\", 'been', 'they', 'between', \"aren't\", 'his', 'd', 'wouldn', 'while', 'an', 'have', 'll', 'you', 'it', 'on', 'him', 'i', 'mustn', 'theirs', 'there', 'we', \"she's\", \"it's\", 'your', \"weren't\", 'after', 'more', 'is', 'needn', 'doesn', 'through', 'here', \"don't\", 'until', \"wasn't\", 'm', 'themselves', 'what', 'other', 'does', 'its', 'to', 'below', 'from', 'no', 'not', 'own', \"doesn't\", 'because', \"you've\", 'shan', 'under', 'into', 'himself', 't', 'each', \"didn't\", 'which', 'in', 'same', 'yours', 'where', 'me', 'how', 'a', 'this', 'off', \"mustn't\", 'both', 'itself', 'or', 'was', 'myself', 'did', \"you'll\", 'mightn', 'be', 'why', 'above', 'yourself', 'are', 'few', 'were', 'hadn', 'hasn', 'has', 'ain', 'o', 'yourselves', 'nor', \"shouldn't\", 'all', 'with', \"couldn't\", 'before', 'she', 'any', 'hers', \"won't\", 'most', 've', 'these', 'her', 'up', 'out', 'won', \"shan't\", 'but', \"should've\", 'who', 'he', 'had', 'during', \"hasn't\", 'at', 'couldn', \"that'll\", 'should', 'isn', 'am', 'ma', \"isn't\", 'my', 'some', 'just', 'y', \"you're\", 'against', 'as', 'than', 'now', 'do', 'their', 'only', 'very', 'again', \"mightn't\", 'will', 'when', 'ourselves', 'aren', 'having', 'doing', 'once', 'being', 'too', 'weren', 'the', 's', 'don', 'those', 'shouldn', 'ours', 'that', 'and', 'can', 'over', 'haven', \"haven't\", 'by'}\n"
          ]
        }
      ],
      "source": [
        "print(set(stopwords.words('english')))"
      ]
    },
    {
      "cell_type": "code",
      "execution_count": 20,
      "metadata": {
        "colab": {
          "base_uri": "https://localhost:8080/"
        },
        "id": "DdILUt0aFRUU",
        "outputId": "53baba59-08eb-49ba-8911-691ea9fd4c35"
      },
      "outputs": [
        {
          "output_type": "execute_result",
          "data": {
            "text/plain": [
              "699    musicfae15 he grumbled as he sat atop the sush...\n",
              "100                   i found marmite in australia happy\n",
              "711    god facebook is design has started to remind m...\n",
              "232    god just replaced my sadness with laughter ca ...\n",
              "291    knowing how to cook is invaluable what is even...\n",
              "Name: text, dtype: object"
            ]
          },
          "metadata": {},
          "execution_count": 20
        }
      ],
      "source": [
        "train_df['text'] = train_df['text'].apply(preprocess)\n",
        "train_df['text'].head()"
      ]
    },
    {
      "cell_type": "code",
      "execution_count": 21,
      "metadata": {
        "colab": {
          "base_uri": "https://localhost:8080/"
        },
        "id": "QhbPPaFIFRUV",
        "outputId": "7c850637-1343-401d-c314-611fc6c4d2ec"
      },
      "outputs": [
        {
          "output_type": "execute_result",
          "data": {
            "text/plain": [
              "0    you must be knowing blithe means adj happy che...\n",
              "1    old saying a smile shared is one gained for an...\n",
              "2    bridget jones baby was bloody hilarious bridge...\n",
              "3    elaminova sparkling water makes your life sparkly\n",
              "4    i am tired of everybody telling me to chill ou...\n",
              "Name: text, dtype: object"
            ]
          },
          "metadata": {},
          "execution_count": 21
        }
      ],
      "source": [
        "test_df['text'] = test_df['text'].apply(preprocess)\n",
        "test_df['text'].head()"
      ]
    },
    {
      "cell_type": "code",
      "execution_count": 22,
      "metadata": {
        "colab": {
          "base_uri": "https://localhost:8080/"
        },
        "id": "Y_De-xg1FRUV",
        "outputId": "9154210a-a657-4c7a-a204-d22451fe584d"
      },
      "outputs": [
        {
          "output_type": "execute_result",
          "data": {
            "text/plain": [
              "699    musicfae15 grumbled sat atop sushi bar stool c...\n",
              "100                        found marmite australia happy\n",
              "711    god facebook design started remind myspace heyday\n",
              "232    god replaced sadness laughter ca go whole day sad\n",
              "291    knowing cook invaluable even better even 400 s...\n",
              "Name: text, dtype: object"
            ]
          },
          "metadata": {},
          "execution_count": 22
        }
      ],
      "source": [
        "train_df['text'] = train_df['text'].apply(remove_stopwords)\n",
        "train_df['text'].head()"
      ]
    },
    {
      "cell_type": "code",
      "execution_count": 23,
      "metadata": {
        "colab": {
          "base_uri": "https://localhost:8080/"
        },
        "id": "lZEQC8xCFRUV",
        "outputId": "2cdb302e-6f57-42c7-8df5-3e81a2630445"
      },
      "outputs": [
        {
          "output_type": "execute_result",
          "data": {
            "text/plain": [
              "0         must knowing blithe means adj happy cheerful\n",
              "1    old saying smile shared one gained another day...\n",
              "2    bridget jones baby bloody hilarious bridgetjon...\n",
              "3         elaminova sparkling water makes life sparkly\n",
              "4    tired everybody telling chill everythings ok f...\n",
              "Name: text, dtype: object"
            ]
          },
          "metadata": {},
          "execution_count": 23
        }
      ],
      "source": [
        "test_df['text'] = test_df['text'].apply(remove_stopwords)\n",
        "test_df['text'].head()"
      ]
    },
    {
      "cell_type": "code",
      "execution_count": 24,
      "metadata": {
        "colab": {
          "base_uri": "https://localhost:8080/",
          "height": 206
        },
        "id": "C0PCE7kdFRUW",
        "outputId": "6c553b5c-9c15-496f-b367-526ad8709cd0"
      },
      "outputs": [
        {
          "output_type": "execute_result",
          "data": {
            "text/plain": [
              "                                                  text label\n",
              "699  musicfae15 grumbled sat atop sushi bar stool c...     1\n",
              "100                      found marmite australia happy     1\n",
              "711  god facebook design started remind myspace heyday     1\n",
              "232  god replaced sadness laughter ca go whole day sad     1\n",
              "291  knowing cook invaluable even better even 400 s...     1"
            ],
            "text/html": [
              "\n",
              "  <div id=\"df-5f133c67-3e55-4af6-834d-90b283aba705\">\n",
              "    <div class=\"colab-df-container\">\n",
              "      <div>\n",
              "<style scoped>\n",
              "    .dataframe tbody tr th:only-of-type {\n",
              "        vertical-align: middle;\n",
              "    }\n",
              "\n",
              "    .dataframe tbody tr th {\n",
              "        vertical-align: top;\n",
              "    }\n",
              "\n",
              "    .dataframe thead th {\n",
              "        text-align: right;\n",
              "    }\n",
              "</style>\n",
              "<table border=\"1\" class=\"dataframe\">\n",
              "  <thead>\n",
              "    <tr style=\"text-align: right;\">\n",
              "      <th></th>\n",
              "      <th>text</th>\n",
              "      <th>label</th>\n",
              "    </tr>\n",
              "  </thead>\n",
              "  <tbody>\n",
              "    <tr>\n",
              "      <th>699</th>\n",
              "      <td>musicfae15 grumbled sat atop sushi bar stool c...</td>\n",
              "      <td>1</td>\n",
              "    </tr>\n",
              "    <tr>\n",
              "      <th>100</th>\n",
              "      <td>found marmite australia happy</td>\n",
              "      <td>1</td>\n",
              "    </tr>\n",
              "    <tr>\n",
              "      <th>711</th>\n",
              "      <td>god facebook design started remind myspace heyday</td>\n",
              "      <td>1</td>\n",
              "    </tr>\n",
              "    <tr>\n",
              "      <th>232</th>\n",
              "      <td>god replaced sadness laughter ca go whole day sad</td>\n",
              "      <td>1</td>\n",
              "    </tr>\n",
              "    <tr>\n",
              "      <th>291</th>\n",
              "      <td>knowing cook invaluable even better even 400 s...</td>\n",
              "      <td>1</td>\n",
              "    </tr>\n",
              "  </tbody>\n",
              "</table>\n",
              "</div>\n",
              "      <button class=\"colab-df-convert\" onclick=\"convertToInteractive('df-5f133c67-3e55-4af6-834d-90b283aba705')\"\n",
              "              title=\"Convert this dataframe to an interactive table.\"\n",
              "              style=\"display:none;\">\n",
              "        \n",
              "  <svg xmlns=\"http://www.w3.org/2000/svg\" height=\"24px\"viewBox=\"0 0 24 24\"\n",
              "       width=\"24px\">\n",
              "    <path d=\"M0 0h24v24H0V0z\" fill=\"none\"/>\n",
              "    <path d=\"M18.56 5.44l.94 2.06.94-2.06 2.06-.94-2.06-.94-.94-2.06-.94 2.06-2.06.94zm-11 1L8.5 8.5l.94-2.06 2.06-.94-2.06-.94L8.5 2.5l-.94 2.06-2.06.94zm10 10l.94 2.06.94-2.06 2.06-.94-2.06-.94-.94-2.06-.94 2.06-2.06.94z\"/><path d=\"M17.41 7.96l-1.37-1.37c-.4-.4-.92-.59-1.43-.59-.52 0-1.04.2-1.43.59L10.3 9.45l-7.72 7.72c-.78.78-.78 2.05 0 2.83L4 21.41c.39.39.9.59 1.41.59.51 0 1.02-.2 1.41-.59l7.78-7.78 2.81-2.81c.8-.78.8-2.07 0-2.86zM5.41 20L4 18.59l7.72-7.72 1.47 1.35L5.41 20z\"/>\n",
              "  </svg>\n",
              "      </button>\n",
              "      \n",
              "  <style>\n",
              "    .colab-df-container {\n",
              "      display:flex;\n",
              "      flex-wrap:wrap;\n",
              "      gap: 12px;\n",
              "    }\n",
              "\n",
              "    .colab-df-convert {\n",
              "      background-color: #E8F0FE;\n",
              "      border: none;\n",
              "      border-radius: 50%;\n",
              "      cursor: pointer;\n",
              "      display: none;\n",
              "      fill: #1967D2;\n",
              "      height: 32px;\n",
              "      padding: 0 0 0 0;\n",
              "      width: 32px;\n",
              "    }\n",
              "\n",
              "    .colab-df-convert:hover {\n",
              "      background-color: #E2EBFA;\n",
              "      box-shadow: 0px 1px 2px rgba(60, 64, 67, 0.3), 0px 1px 3px 1px rgba(60, 64, 67, 0.15);\n",
              "      fill: #174EA6;\n",
              "    }\n",
              "\n",
              "    [theme=dark] .colab-df-convert {\n",
              "      background-color: #3B4455;\n",
              "      fill: #D2E3FC;\n",
              "    }\n",
              "\n",
              "    [theme=dark] .colab-df-convert:hover {\n",
              "      background-color: #434B5C;\n",
              "      box-shadow: 0px 1px 3px 1px rgba(0, 0, 0, 0.15);\n",
              "      filter: drop-shadow(0px 1px 2px rgba(0, 0, 0, 0.3));\n",
              "      fill: #FFFFFF;\n",
              "    }\n",
              "  </style>\n",
              "\n",
              "      <script>\n",
              "        const buttonEl =\n",
              "          document.querySelector('#df-5f133c67-3e55-4af6-834d-90b283aba705 button.colab-df-convert');\n",
              "        buttonEl.style.display =\n",
              "          google.colab.kernel.accessAllowed ? 'block' : 'none';\n",
              "\n",
              "        async function convertToInteractive(key) {\n",
              "          const element = document.querySelector('#df-5f133c67-3e55-4af6-834d-90b283aba705');\n",
              "          const dataTable =\n",
              "            await google.colab.kernel.invokeFunction('convertToInteractive',\n",
              "                                                     [key], {});\n",
              "          if (!dataTable) return;\n",
              "\n",
              "          const docLinkHtml = 'Like what you see? Visit the ' +\n",
              "            '<a target=\"_blank\" href=https://colab.research.google.com/notebooks/data_table.ipynb>data table notebook</a>'\n",
              "            + ' to learn more about interactive tables.';\n",
              "          element.innerHTML = '';\n",
              "          dataTable['output_type'] = 'display_data';\n",
              "          await google.colab.output.renderOutput(dataTable, element);\n",
              "          const docLink = document.createElement('div');\n",
              "          docLink.innerHTML = docLinkHtml;\n",
              "          element.appendChild(docLink);\n",
              "        }\n",
              "      </script>\n",
              "    </div>\n",
              "  </div>\n",
              "  "
            ]
          },
          "metadata": {},
          "execution_count": 24
        }
      ],
      "source": [
        "train_df.head()"
      ]
    },
    {
      "cell_type": "code",
      "execution_count": 25,
      "metadata": {
        "id": "iaD-Y1GbFRUW"
      },
      "outputs": [],
      "source": [
        "from sklearn.feature_extraction.text import TfidfVectorizer\n",
        "\n",
        "tfidf = TfidfVectorizer(ngram_range=(1,2),max_features=5000)\n",
        "tfidf.fit(train_df['text'])\n",
        "train_tfidf = tfidf.transform(train_df['text'])\n",
        "test_tfidf = tfidf.transform(test_df['text'])"
      ]
    },
    {
      "cell_type": "code",
      "execution_count": 26,
      "metadata": {
        "colab": {
          "base_uri": "https://localhost:8080/"
        },
        "id": "da0Lo87MFRUX",
        "outputId": "af2bb3f1-478c-40a8-80ce-2ddbff91c4e2"
      },
      "outputs": [
        {
          "output_type": "execute_result",
          "data": {
            "text/plain": [
              "((2000, 5000), (1387, 5000))"
            ]
          },
          "metadata": {},
          "execution_count": 26
        }
      ],
      "source": [
        "train_tfidf.shape,test_tfidf.shape"
      ]
    },
    {
      "cell_type": "code",
      "execution_count": 27,
      "metadata": {
        "colab": {
          "base_uri": "https://localhost:8080/"
        },
        "id": "JLjeH4KuFRUX",
        "outputId": "10efbdd8-406d-47ec-e9a4-abefcd279678"
      },
      "outputs": [
        {
          "output_type": "stream",
          "name": "stdout",
          "text": [
            "['affliction', 'afghanistan', 'afghanistan etc', 'afl', 'afraid', 'afraid leave', 'afraid stop', 'age', 'ages', 'ago', 'ago met', 'ago preparing', 'ago seen', 'agreed', 'agreed memphis', 'ahead', 'ahead polls', 'ai', 'air', 'air nmy', 'aja', 'aja ngood', 'ak47', 'ak47 leave', 'aldubqc', 'aldubqc glad', 'alive', 'alive blessed', 'almost', 'almost car', 'almost passed', 'alone', 'alone end', 'along', 'along adventure', 'alot', 'alot interested', 'already', 'also', 'also escape']\n"
          ]
        },
        {
          "output_type": "stream",
          "name": "stderr",
          "text": [
            "/usr/local/lib/python3.7/dist-packages/sklearn/utils/deprecation.py:87: FutureWarning: Function get_feature_names is deprecated; get_feature_names is deprecated in 1.0 and will be removed in 1.2. Please use get_feature_names_out instead.\n",
            "  warnings.warn(msg, category=FutureWarning)\n"
          ]
        }
      ],
      "source": [
        "print(tfidf.get_feature_names()[100:140])"
      ]
    },
    {
      "cell_type": "markdown",
      "metadata": {
        "id": "SW3jxnMxFRUX"
      },
      "source": [
        "## Train Test Split"
      ]
    },
    {
      "cell_type": "code",
      "execution_count": 28,
      "metadata": {
        "id": "MAymHzi2FRUX"
      },
      "outputs": [],
      "source": [
        "from sklearn.model_selection import train_test_split\n",
        "\n",
        "X_train, X_val, y_train, y_val = train_test_split(train_tfidf, train_df['label'], test_size=0.2, stratify=train_df['label'],random_state=20)"
      ]
    },
    {
      "cell_type": "code",
      "execution_count": 29,
      "metadata": {
        "id": "xzbluCa4FRUY"
      },
      "outputs": [],
      "source": [
        "model_name = []\n",
        "train_accuracies = []\n",
        "val_accuracies = []\n",
        "test_accuracies = []"
      ]
    },
    {
      "cell_type": "markdown",
      "metadata": {
        "id": "AwoLVWqrFRUY"
      },
      "source": [
        "## Multinomial Naive Bayes Model"
      ]
    },
    {
      "cell_type": "code",
      "execution_count": 30,
      "metadata": {
        "colab": {
          "base_uri": "https://localhost:8080/"
        },
        "id": "-BXTugScFRUY",
        "outputId": "5b207e28-949b-4ce6-cb77-65ccb0874f24"
      },
      "outputs": [
        {
          "output_type": "execute_result",
          "data": {
            "text/plain": [
              "MultinomialNB()"
            ]
          },
          "metadata": {},
          "execution_count": 30
        }
      ],
      "source": [
        "from sklearn.naive_bayes import MultinomialNB\n",
        "\n",
        "clf = MultinomialNB()\n",
        "clf.fit(X_train,y_train)"
      ]
    },
    {
      "cell_type": "markdown",
      "metadata": {
        "id": "ttbdgZyJFRUY"
      },
      "source": [
        "## Prediction of Probabilities"
      ]
    },
    {
      "cell_type": "code",
      "execution_count": 31,
      "metadata": {
        "id": "kF_H9fkYFRUY"
      },
      "outputs": [],
      "source": [
        "train_probabilities = clf.predict_proba(X_train)[:,1]\n",
        "val_probabilities = clf.predict_proba(X_val)[:,1]"
      ]
    },
    {
      "cell_type": "code",
      "execution_count": 32,
      "metadata": {
        "colab": {
          "base_uri": "https://localhost:8080/"
        },
        "id": "aWlBtb_DFRUZ",
        "outputId": "6d90dec8-96ee-49cf-c06e-733423179c58"
      },
      "outputs": [
        {
          "output_type": "execute_result",
          "data": {
            "text/plain": [
              "array([0.81936008, 0.12349335, 0.14915856, 0.86700408, 0.93379702,\n",
              "       0.07119235, 0.81386777, 0.68873553, 0.99967563, 0.22475467])"
            ]
          },
          "metadata": {},
          "execution_count": 32
        }
      ],
      "source": [
        "train_probabilities[:10]"
      ]
    },
    {
      "cell_type": "code",
      "execution_count": 33,
      "metadata": {
        "colab": {
          "base_uri": "https://localhost:8080/"
        },
        "id": "ZyMTPPxvFRUZ",
        "outputId": "8e13f6dc-c84a-43bc-fcdf-2b4c18610660"
      },
      "outputs": [
        {
          "output_type": "execute_result",
          "data": {
            "text/plain": [
              "array([0.76652751, 0.89015835, 0.72467388, 0.11362077, 0.6306437 ,\n",
              "       0.94643446, 0.70268901, 0.24797234, 0.98507029, 0.39591741])"
            ]
          },
          "metadata": {},
          "execution_count": 33
        }
      ],
      "source": [
        "val_probabilities[:10]"
      ]
    },
    {
      "cell_type": "markdown",
      "metadata": {
        "id": "eV8MmVz1FRUZ"
      },
      "source": [
        "## Prediction of log probabilities"
      ]
    },
    {
      "cell_type": "code",
      "execution_count": 34,
      "metadata": {
        "id": "IanQ8oqmFRUZ"
      },
      "outputs": [],
      "source": [
        "train_log_probabilities = clf.predict_log_proba(X_train)[:,1]\n",
        "val_log_probabilities = clf.predict_log_proba(X_val)[:,1]"
      ]
    },
    {
      "cell_type": "code",
      "execution_count": 35,
      "metadata": {
        "colab": {
          "base_uri": "https://localhost:8080/"
        },
        "id": "0YWLJiCLFRUZ",
        "outputId": "6c5ba506-c298-4fe1-c8d7-e974454c9d43"
      },
      "outputs": [
        {
          "output_type": "execute_result",
          "data": {
            "text/plain": [
              "array([-1.99231633e-01, -2.09156795e+00, -1.90274541e+00, -1.42711600e-01,\n",
              "       -6.84961840e-02, -2.64236989e+00, -2.05957374e-01, -3.72897924e-01,\n",
              "       -3.24420236e-04, -1.49274583e+00])"
            ]
          },
          "metadata": {},
          "execution_count": 35
        }
      ],
      "source": [
        "train_log_probabilities[:10]"
      ]
    },
    {
      "cell_type": "code",
      "execution_count": 36,
      "metadata": {
        "colab": {
          "base_uri": "https://localhost:8080/"
        },
        "id": "mNsE8X8wFRUa",
        "outputId": "18fbdd13-3547-4031-d135-e842a8f558ad"
      },
      "outputs": [
        {
          "output_type": "execute_result",
          "data": {
            "text/plain": [
              "array([-0.2658847 , -0.11635591, -0.32203355, -2.17488892, -0.46101423,\n",
              "       -0.05505356, -0.35284085, -1.39443806, -0.01504228, -0.92654964])"
            ]
          },
          "metadata": {},
          "execution_count": 36
        }
      ],
      "source": [
        "val_log_probabilities[:10]"
      ]
    },
    {
      "cell_type": "markdown",
      "metadata": {
        "id": "49HgVuW2FRUa"
      },
      "source": [
        "## Prediction of labels"
      ]
    },
    {
      "cell_type": "code",
      "execution_count": 37,
      "metadata": {
        "id": "npOQvhgZFRUa"
      },
      "outputs": [],
      "source": [
        "predicted_train = clf.predict(X_train)\n",
        "predicted_val = clf.predict(X_val)"
      ]
    },
    {
      "cell_type": "markdown",
      "metadata": {
        "id": "KMk0vun0FRUa"
      },
      "source": [
        "## Accuracy Score"
      ]
    },
    {
      "cell_type": "code",
      "execution_count": 38,
      "metadata": {
        "colab": {
          "base_uri": "https://localhost:8080/"
        },
        "id": "0OeBa1JCFRUa",
        "outputId": "d19eb0d7-78be-42e5-e8a7-9521462ed4c9"
      },
      "outputs": [
        {
          "output_type": "stream",
          "name": "stdout",
          "text": [
            "The Train accuracy for the model Multinomial Naive Bayes is :  0.99125\n",
            "The Validation accuracy for the model Multinomial Naive Bayes is :  0.96\n"
          ]
        }
      ],
      "source": [
        "from sklearn.metrics import accuracy_score,confusion_matrix,roc_auc_score\n",
        "\n",
        "print(\"The Train accuracy for the model Multinomial Naive Bayes is : \",accuracy_score(y_train,predicted_train))\n",
        "print(\"The Validation accuracy for the model Multinomial Naive Bayes is : \",accuracy_score(y_val,predicted_val))"
      ]
    },
    {
      "cell_type": "markdown",
      "metadata": {
        "id": "3fMk79FDFRUa"
      },
      "source": [
        "## Plotting Confusion Matrix"
      ]
    },
    {
      "cell_type": "code",
      "execution_count": 39,
      "metadata": {
        "id": "tAJjA_EoFRUb"
      },
      "outputs": [],
      "source": [
        "import matplotlib.pyplot as plt\n",
        "import seaborn as sns\n",
        "\n",
        "def plot_confusion_matrix(cf_matrix,title):\n",
        "    sns.heatmap(cf_matrix, annot=True,fmt='g',cmap=\"Blues\",xticklabels=[\"negative\",\"positive\"],yticklabels=[\"negative\",\"positive\"])\n",
        "    plt.title(title)\n",
        "    plt.show()"
      ]
    },
    {
      "cell_type": "code",
      "execution_count": 40,
      "metadata": {
        "colab": {
          "base_uri": "https://localhost:8080/",
          "height": 0
        },
        "id": "LPGmgcynFRUb",
        "outputId": "6a6dffee-fb49-4aad-ed69-119bfa4cad91"
      },
      "outputs": [
        {
          "output_type": "display_data",
          "data": {
            "text/plain": [
              "<Figure size 432x288 with 2 Axes>"
            ],
            "image/png": "[encoded data removed]"
          },
          "metadata": {
            "needs_background": "light"
          }
        }
      ],
      "source": [
        "plot_confusion_matrix(confusion_matrix(y_train,predicted_train),\"Train confusion Matrix for the model Multinomial Naive Bayes\")"
      ]
    },
    {
      "cell_type": "code",
      "execution_count": 41,
      "metadata": {
        "colab": {
          "base_uri": "https://localhost:8080/",
          "height": 0
        },
        "id": "F3vaayl7FRUb",
        "outputId": "af51fd88-3fca-46dd-c0ee-7307fd84444c"
      },
      "outputs": [
        {
          "output_type": "display_data",
          "data": {
            "text/plain": [
              "<Figure size 432x288 with 2 Axes>"
            ],
            "image/png": "[encoded data removed]"
          },
          "metadata": {
            "needs_background": "light"
          }
        }
      ],
      "source": [
        "plot_confusion_matrix(confusion_matrix(y_val,predicted_val),\"Validation confusion Matrix for the model Multinomial Naive Bayes\")"
      ]
    },
    {
      "cell_type": "code",
      "execution_count": 42,
      "metadata": {
        "id": "Ajc5yOnzFRUc"
      },
      "outputs": [],
      "source": [
        "testset_predicted = clf.predict(test_tfidf)"
      ]
    },
    {
      "cell_type": "code",
      "execution_count": 43,
      "metadata": {
        "colab": {
          "base_uri": "https://localhost:8080/"
        },
        "id": "xVE6v3tBFRUc",
        "outputId": "aa9d6cf5-baf5-42da-f4c1-2fb036d8bbbe"
      },
      "outputs": [
        {
          "output_type": "execute_result",
          "data": {
            "text/plain": [
              "array(['1', '1', '1', ..., '0', '0', '0'], dtype=object)"
            ]
          },
          "metadata": {},
          "execution_count": 43
        }
      ],
      "source": [
        "actual = test_df.label.values\n",
        "actual"
      ]
    },
    {
      "cell_type": "code",
      "execution_count": 44,
      "metadata": {
        "colab": {
          "base_uri": "https://localhost:8080/"
        },
        "id": "H-A9GRT3FRUc",
        "outputId": "301f4e15-c083-4432-9da0-7e9185fd3b8f"
      },
      "outputs": [
        {
          "output_type": "stream",
          "name": "stdout",
          "text": [
            "The testset accuracy for the model Multinomial Naive Bayes is :  0.8918529199711608\n"
          ]
        }
      ],
      "source": [
        "print(\"The testset accuracy for the model Multinomial Naive Bayes is : \",accuracy_score(actual,testset_predicted))"
      ]
    },
    {
      "cell_type": "code",
      "execution_count": 45,
      "metadata": {
        "colab": {
          "base_uri": "https://localhost:8080/",
          "height": 0
        },
        "id": "0-uxqnDcFRUd",
        "outputId": "3309c36c-30c2-4251-d70a-de9493384841"
      },
      "outputs": [
        {
          "output_type": "display_data",
          "data": {
            "text/plain": [
              "<Figure size 432x288 with 2 Axes>"
            ],
            "image/png": "[encoded data removed]"
          },
          "metadata": {
            "needs_background": "light"
          }
        }
      ],
      "source": [
        "plot_confusion_matrix(confusion_matrix(actual,testset_predicted),\"Testset confusion Matrix for the model Multinomial Naive Bayes\")"
      ]
    },
    {
      "cell_type": "code",
      "execution_count": 46,
      "metadata": {
        "id": "Sjnvtwz1FRUd"
      },
      "outputs": [],
      "source": [
        "model_name.append(\"Multinomial Naive Bayes\")\n",
        "train_accuracies.append(np.round(accuracy_score(y_train,predicted_train),2))\n",
        "val_accuracies.append(np.round(accuracy_score(y_val,predicted_val),2))\n",
        "test_accuracies.append(np.round(accuracy_score(actual,testset_predicted),2))"
      ]
    },
    {
      "cell_type": "markdown",
      "metadata": {
        "id": "1dxZLlJ2FRUd"
      },
      "source": [
        "## Multinomial Naive Bayes with Cross Validation Using Grid SearchCV"
      ]
    },
    {
      "cell_type": "code",
      "execution_count": 47,
      "metadata": {
        "colab": {
          "base_uri": "https://localhost:8080/"
        },
        "id": "JADOtCphFRUd",
        "outputId": "a856aaea-2f48-4460-b238-9e016130e08f"
      },
      "outputs": [
        {
          "output_type": "execute_result",
          "data": {
            "text/plain": [
              "GridSearchCV(cv=10, estimator=MultinomialNB(),\n",
              "             param_grid={'alpha': [0.001, 0.01, 0.1, 1, 10, 100]},\n",
              "             return_train_score=True, scoring='accuracy')"
            ]
          },
          "metadata": {},
          "execution_count": 47
        }
      ],
      "source": [
        "from sklearn.model_selection import GridSearchCV\n",
        "import matplotlib.pyplot as plt\n",
        "\n",
        "params = {'alpha':[0.001,0.01,0.1,1,10,100]}\n",
        "cv = GridSearchCV(clf, params, cv=10, scoring='accuracy', return_train_score=True)\n",
        "cv.fit(X_train, y_train)"
      ]
    },
    {
      "cell_type": "code",
      "execution_count": 48,
      "metadata": {
        "id": "EKjVsnygFRUe"
      },
      "outputs": [],
      "source": [
        "predicted_train = cv.predict(X_train)\n",
        "predicted_val = cv.predict(X_val)"
      ]
    },
    {
      "cell_type": "markdown",
      "metadata": {
        "id": "FMhoGkBlFRUe"
      },
      "source": [
        "## Accuracy Score"
      ]
    },
    {
      "cell_type": "code",
      "execution_count": 49,
      "metadata": {
        "colab": {
          "base_uri": "https://localhost:8080/"
        },
        "id": "-sLH9ndHFRUe",
        "outputId": "d0ebf987-d722-490f-fca8-a717f288b868"
      },
      "outputs": [
        {
          "output_type": "stream",
          "name": "stdout",
          "text": [
            "The Train accuracy for the cross-validated Multinomial Naive Bayes is :  0.99125\n",
            "The Validation accuracy for the cross-validated Multinomial Naive Bayes is :  0.96\n"
          ]
        }
      ],
      "source": [
        "print(\"The Train accuracy for the cross-validated Multinomial Naive Bayes is : \",accuracy_score(y_train,predicted_train))\n",
        "print(\"The Validation accuracy for the cross-validated Multinomial Naive Bayes is : \",accuracy_score(y_val,predicted_val))"
      ]
    },
    {
      "cell_type": "markdown",
      "metadata": {
        "id": "bo0VHQe4FRUe"
      },
      "source": [
        "## Plotting Confusion Matrix\n"
      ]
    },
    {
      "cell_type": "code",
      "execution_count": 50,
      "metadata": {
        "colab": {
          "base_uri": "https://localhost:8080/",
          "height": 0
        },
        "id": "ECM6e3Z5FRUe",
        "outputId": "aa74746e-62a0-4b81-9392-a231aee08f01"
      },
      "outputs": [
        {
          "output_type": "display_data",
          "data": {
            "text/plain": [
              "<Figure size 432x288 with 2 Axes>"
            ],
            "image/png": "[encoded data removed]"
          },
          "metadata": {
            "needs_background": "light"
          }
        }
      ],
      "source": [
        "plot_confusion_matrix(confusion_matrix(y_train,predicted_train),\"Train confusion Matrix for the cross-validated Multinomial Naive Bayes Model\")"
      ]
    },
    {
      "cell_type": "code",
      "execution_count": 51,
      "metadata": {
        "colab": {
          "base_uri": "https://localhost:8080/",
          "height": 0
        },
        "id": "4BFhhb6bFRUf",
        "outputId": "abf52ea3-c74d-4ba7-807c-49b54256609c"
      },
      "outputs": [
        {
          "output_type": "display_data",
          "data": {
            "text/plain": [
              "<Figure size 432x288 with 2 Axes>"
            ],
            "image/png": "[encoded data removed]"
          },
          "metadata": {
            "needs_background": "light"
          }
        }
      ],
      "source": [
        "plot_confusion_matrix(confusion_matrix(y_val,predicted_val),\"Validation confusion Matrix for the cross-validated Multinomial Naive Bayes Model\")"
      ]
    },
    {
      "cell_type": "markdown",
      "metadata": {
        "id": "ujF7Xgu7FRUf"
      },
      "source": [
        "## Test Datset Prediction"
      ]
    },
    {
      "cell_type": "code",
      "execution_count": 52,
      "metadata": {
        "id": "2T3BfO4VFRUf"
      },
      "outputs": [],
      "source": [
        "testset_predicted = cv.predict(test_tfidf)"
      ]
    },
    {
      "cell_type": "code",
      "execution_count": 53,
      "metadata": {
        "colab": {
          "base_uri": "https://localhost:8080/"
        },
        "id": "D0zjCeOtFRUf",
        "outputId": "bf0b8b37-b88b-4784-b3ee-bb4d23c8e3e3"
      },
      "outputs": [
        {
          "output_type": "stream",
          "name": "stdout",
          "text": [
            "The testset accuracy for the model Multinomial Naive Bayes with cross-validtion is:  0.8918529199711608\n"
          ]
        }
      ],
      "source": [
        "print(\"The testset accuracy for the model Multinomial Naive Bayes with cross-validtion is: \",accuracy_score(actual,testset_predicted))"
      ]
    },
    {
      "cell_type": "code",
      "execution_count": 54,
      "metadata": {
        "colab": {
          "base_uri": "https://localhost:8080/",
          "height": 0
        },
        "id": "IhWjzF5HFRUf",
        "outputId": "e6fcb3af-9f03-455d-b44e-4fc18612d0f0"
      },
      "outputs": [
        {
          "output_type": "display_data",
          "data": {
            "text/plain": [
              "<Figure size 432x288 with 2 Axes>"
            ],
            "image/png": "[encoded data removed]"
          },
          "metadata": {
            "needs_background": "light"
          }
        }
      ],
      "source": [
        "plot_confusion_matrix(confusion_matrix(actual,testset_predicted),\"Testset confusion Matrix for the model Multinomial Naive Bayes with cross-validtion\")"
      ]
    },
    {
      "cell_type": "code",
      "execution_count": 55,
      "metadata": {
        "id": "_QG8PTiLFRUg"
      },
      "outputs": [],
      "source": [
        "model_name.append(\"Multinomial Naive Bayes with Cross Validation\")\n",
        "train_accuracies.append(np.round(accuracy_score(y_train,predicted_train),4))\n",
        "val_accuracies.append(np.round(accuracy_score(y_val,predicted_val),4))\n",
        "test_accuracies.append(np.round(accuracy_score(actual,testset_predicted),4))"
      ]
    },
    {
      "cell_type": "markdown",
      "metadata": {
        "id": "CFZur0B5FRUg"
      },
      "source": [
        "## Logistic Regression"
      ]
    },
    {
      "cell_type": "code",
      "execution_count": 56,
      "metadata": {
        "colab": {
          "base_uri": "https://localhost:8080/"
        },
        "id": "fMYu5xfzFRUg",
        "outputId": "3cadedef-e5a5-4dc2-a780-48ae45d6897c"
      },
      "outputs": [
        {
          "output_type": "execute_result",
          "data": {
            "text/plain": [
              "LogisticRegression(C=0.1)"
            ]
          },
          "metadata": {},
          "execution_count": 56
        }
      ],
      "source": [
        "from sklearn.linear_model import LogisticRegression\n",
        "\n",
        "lr = LogisticRegression(C=0.1)\n",
        "lr.fit(X_train, y_train)"
      ]
    },
    {
      "cell_type": "code",
      "execution_count": 57,
      "metadata": {
        "id": "K6pKf0EfFRUg"
      },
      "outputs": [],
      "source": [
        "predicted_train = lr.predict(X_train)\n",
        "predicted_val = lr.predict(X_val)"
      ]
    },
    {
      "cell_type": "code",
      "execution_count": 58,
      "metadata": {
        "colab": {
          "base_uri": "https://localhost:8080/"
        },
        "id": "VeYKKO4iFRUg",
        "outputId": "d85e28a8-2125-469f-8c1d-be791b270f9e"
      },
      "outputs": [
        {
          "output_type": "stream",
          "name": "stdout",
          "text": [
            "The Train accuracy for Logistic Regression model is :  0.978125\n",
            "The Validation accuracy for Logistic Regression model is :  0.9225\n"
          ]
        }
      ],
      "source": [
        "print(\"The Train accuracy for Logistic Regression model is : \",accuracy_score(y_train,predicted_train))\n",
        "print(\"The Validation accuracy for Logistic Regression model is : \",accuracy_score(y_val,predicted_val))"
      ]
    },
    {
      "cell_type": "code",
      "execution_count": 59,
      "metadata": {
        "colab": {
          "base_uri": "https://localhost:8080/",
          "height": 0
        },
        "id": "3LelIBOWFRUh",
        "outputId": "363d0069-609e-49e1-d50d-5512ca761a7f"
      },
      "outputs": [
        {
          "output_type": "display_data",
          "data": {
            "text/plain": [
              "<Figure size 432x288 with 2 Axes>"
            ],
            "image/png": "[encoded data removed]"
          },
          "metadata": {
            "needs_background": "light"
          }
        }
      ],
      "source": [
        "plot_confusion_matrix(confusion_matrix(y_train,predicted_train),\"Train confusion Matrix for the Logistic Regression Model\")"
      ]
    },
    {
      "cell_type": "code",
      "execution_count": 60,
      "metadata": {
        "colab": {
          "base_uri": "https://localhost:8080/",
          "height": 0
        },
        "id": "0Rm8NPrGFRUh",
        "outputId": "231a62cd-e2fc-4996-826d-bff73d78db00"
      },
      "outputs": [
        {
          "output_type": "display_data",
          "data": {
            "text/plain": [
              "<Figure size 432x288 with 2 Axes>"
            ],
            "image/png": "[encoded data removed]"
          },
          "metadata": {
            "needs_background": "light"
          }
        }
      ],
      "source": [
        "plot_confusion_matrix(confusion_matrix(y_val,predicted_val),\"Validation confusion Matrix for the Logistic Regression model\")"
      ]
    },
    {
      "cell_type": "code",
      "execution_count": 61,
      "metadata": {
        "id": "sL9RDdqkFRUh"
      },
      "outputs": [],
      "source": [
        "testset_predicted = lr.predict(test_tfidf)"
      ]
    },
    {
      "cell_type": "code",
      "execution_count": 62,
      "metadata": {
        "colab": {
          "base_uri": "https://localhost:8080/"
        },
        "id": "EQJdFzcrFRUh",
        "outputId": "ea954dfc-3364-495c-ac3f-7e5b480cdbdc"
      },
      "outputs": [
        {
          "output_type": "stream",
          "name": "stdout",
          "text": [
            "The testset accuracy for the model Logistic Regression is:  0.8839221341023792\n"
          ]
        }
      ],
      "source": [
        "print(\"The testset accuracy for the model Logistic Regression is: \",accuracy_score(actual,testset_predicted))"
      ]
    },
    {
      "cell_type": "code",
      "execution_count": 63,
      "metadata": {
        "colab": {
          "base_uri": "https://localhost:8080/",
          "height": 0
        },
        "id": "wyNQZwtqFRUh",
        "outputId": "ad071ecc-0911-4a93-9f96-75aee03a22a6"
      },
      "outputs": [
        {
          "output_type": "display_data",
          "data": {
            "text/plain": [
              "<Figure size 432x288 with 2 Axes>"
            ],
            "image/png": "[encoded data removed]"
          },
          "metadata": {
            "needs_background": "light"
          }
        }
      ],
      "source": [
        "plot_confusion_matrix(confusion_matrix(actual,testset_predicted),\"Testset confusion Matrix for the model Logistic Regression\")"
      ]
    },
    {
      "cell_type": "code",
      "execution_count": 64,
      "metadata": {
        "id": "JpVGZG2IFRUi"
      },
      "outputs": [],
      "source": [
        "model_name.append(\"Logistic Regression\")\n",
        "train_accuracies.append(np.round(accuracy_score(y_train,predicted_train),4))\n",
        "val_accuracies.append(np.round(accuracy_score(y_val,predicted_val),4))\n",
        "test_accuracies.append(np.round(accuracy_score(actual,testset_predicted),4))"
      ]
    },
    {
      "cell_type": "markdown",
      "metadata": {
        "id": "KBidCeCWFRUi"
      },
      "source": [
        "## Logistic Regression with cross validation using GridSearchCv"
      ]
    },
    {
      "cell_type": "code",
      "execution_count": 65,
      "metadata": {
        "colab": {
          "base_uri": "https://localhost:8080/"
        },
        "id": "7yi9jEIdFRUi",
        "outputId": "ed8ce162-da99-49e7-c963-80bd56c596bb"
      },
      "outputs": [
        {
          "output_type": "execute_result",
          "data": {
            "text/plain": [
              "GridSearchCV(cv=5, estimator=LogisticRegression(max_iter=250),\n",
              "             param_grid={'C': [0.001, 0.01, 0.1, 1, 10, 100]},\n",
              "             return_train_score=True, scoring='accuracy')"
            ]
          },
          "metadata": {},
          "execution_count": 65
        }
      ],
      "source": [
        "grid_values = {'C': [0.001,0.01,0.1,1,10,100]}\n",
        "cv = GridSearchCV(LogisticRegression(max_iter=250), param_grid=grid_values,cv=5, scoring='accuracy', return_train_score=True)\n",
        "cv.fit(X_train, y_train)"
      ]
    },
    {
      "cell_type": "code",
      "execution_count": 66,
      "metadata": {
        "id": "cFxszOTkFRUi"
      },
      "outputs": [],
      "source": [
        "predicted_train = cv.predict(X_train)\n",
        "predicted_val = cv.predict(X_val)"
      ]
    },
    {
      "cell_type": "code",
      "execution_count": 67,
      "metadata": {
        "colab": {
          "base_uri": "https://localhost:8080/"
        },
        "id": "ZpcdcdILFRUi",
        "outputId": "9424144c-a7f4-4722-b84e-112ddb57003f"
      },
      "outputs": [
        {
          "output_type": "stream",
          "name": "stdout",
          "text": [
            "The Train accuracy for the cross-validated Logistic Regression model is :  0.999375\n",
            "The Validation accuracy for the cross-validated Logistic Regression model is :  0.975\n"
          ]
        }
      ],
      "source": [
        "print(\"The Train accuracy for the cross-validated Logistic Regression model is : \",accuracy_score(y_train,predicted_train))\n",
        "print(\"The Validation accuracy for the cross-validated Logistic Regression model is : \",accuracy_score(y_val,predicted_val))"
      ]
    },
    {
      "cell_type": "code",
      "execution_count": 68,
      "metadata": {
        "colab": {
          "base_uri": "https://localhost:8080/",
          "height": 0
        },
        "id": "WESCtPLbFRUj",
        "outputId": "97f046e6-bf4a-4be0-ffcc-67483d536e94"
      },
      "outputs": [
        {
          "output_type": "display_data",
          "data": {
            "text/plain": [
              "<Figure size 432x288 with 2 Axes>"
            ],
            "image/png": "[encoded data removed]"
          },
          "metadata": {
            "needs_background": "light"
          }
        }
      ],
      "source": [
        "plot_confusion_matrix(confusion_matrix(y_train,predicted_train),\"Train confusion Matrix for the cross-validated Logistic Regression Model\")"
      ]
    },
    {
      "cell_type": "code",
      "execution_count": 69,
      "metadata": {
        "colab": {
          "base_uri": "https://localhost:8080/",
          "height": 0
        },
        "id": "g298Q6UeFRUj",
        "outputId": "91c05383-5b47-403c-fa20-a638591e14fa"
      },
      "outputs": [
        {
          "output_type": "display_data",
          "data": {
            "text/plain": [
              "<Figure size 432x288 with 2 Axes>"
            ],
            "image/png": "[encoded data removed]"
          },
          "metadata": {
            "needs_background": "light"
          }
        }
      ],
      "source": [
        "plot_confusion_matrix(confusion_matrix(y_val,predicted_val),\"Validation confusion Matrix for the cross-validated Logistic Regression Model\")"
      ]
    },
    {
      "cell_type": "code",
      "execution_count": 70,
      "metadata": {
        "colab": {
          "base_uri": "https://localhost:8080/"
        },
        "id": "qANEkDXkFRUj",
        "outputId": "6b5a97ae-4bfc-4785-8fd6-d9c1baee6bd5"
      },
      "outputs": [
        {
          "output_type": "stream",
          "name": "stdout",
          "text": [
            "The testset accuracy for cross-validated Logistic Regression Model is :  0.9206921413121846\n"
          ]
        }
      ],
      "source": [
        "testset_predicted = cv.predict(test_tfidf)\n",
        "print(\"The testset accuracy for cross-validated Logistic Regression Model is : \",accuracy_score(actual,testset_predicted))"
      ]
    },
    {
      "cell_type": "code",
      "execution_count": 71,
      "metadata": {
        "colab": {
          "base_uri": "https://localhost:8080/",
          "height": 0
        },
        "id": "iEMZL8hDFRUj",
        "outputId": "cb2825fb-35e4-4f59-9920-896d29f0094a"
      },
      "outputs": [
        {
          "output_type": "display_data",
          "data": {
            "text/plain": [
              "<Figure size 432x288 with 2 Axes>"
            ],
            "image/png": "[encoded data removed]"
          },
          "metadata": {
            "needs_background": "light"
          }
        }
      ],
      "source": [
        "plot_confusion_matrix(confusion_matrix(actual,testset_predicted),\"Testset confusion Matrix for cross-validated Logistic Regression Model\")"
      ]
    },
    {
      "cell_type": "code",
      "execution_count": 72,
      "metadata": {
        "id": "w_V3gS5JFRUj"
      },
      "outputs": [],
      "source": [
        "model_name.append(\"Logistic Regression with Cross Validation\")\n",
        "train_accuracies.append(np.round(accuracy_score(y_train,predicted_train),4))\n",
        "val_accuracies.append(np.round(accuracy_score(y_val,predicted_val),4))\n",
        "test_accuracies.append(np.round(accuracy_score(actual,testset_predicted),4))"
      ]
    },
    {
      "cell_type": "markdown",
      "metadata": {
        "id": "rmzq5fxHFRUj"
      },
      "source": [
        "## K-Nearest Neighbours"
      ]
    },
    {
      "cell_type": "code",
      "execution_count": 73,
      "metadata": {
        "colab": {
          "base_uri": "https://localhost:8080/"
        },
        "id": "uA1CcQIrFRUk",
        "outputId": "e09bbfd3-1507-43d5-910d-2b37716e9b1a"
      },
      "outputs": [
        {
          "output_type": "execute_result",
          "data": {
            "text/plain": [
              "KNeighborsClassifier(n_neighbors=3)"
            ]
          },
          "metadata": {},
          "execution_count": 73
        }
      ],
      "source": [
        "from sklearn.neighbors import KNeighborsClassifier\n",
        "\n",
        "knn = KNeighborsClassifier(n_neighbors=3)\n",
        "\n",
        "knn.fit(X_train, y_train)"
      ]
    },
    {
      "cell_type": "code",
      "execution_count": 74,
      "metadata": {
        "id": "usCtWGswFRUk"
      },
      "outputs": [],
      "source": [
        "predicted_train = knn.predict(X_train)\n",
        "predicted_val = knn.predict(X_val)"
      ]
    },
    {
      "cell_type": "code",
      "execution_count": 75,
      "metadata": {
        "colab": {
          "base_uri": "https://localhost:8080/"
        },
        "id": "E8OpEPNjFRUk",
        "outputId": "0f31c719-8f46-4124-9355-31d628e39021"
      },
      "outputs": [
        {
          "output_type": "stream",
          "name": "stdout",
          "text": [
            "The Train accuracy for the KNN model is :  0.859375\n",
            "The Validation accuracy for the KNN model is :  0.6675\n"
          ]
        }
      ],
      "source": [
        "print(\"The Train accuracy for the KNN model is : \",accuracy_score(y_train,predicted_train))\n",
        "print(\"The Validation accuracy for the KNN model is : \",accuracy_score(y_val,predicted_val))"
      ]
    },
    {
      "cell_type": "code",
      "execution_count": 76,
      "metadata": {
        "colab": {
          "base_uri": "https://localhost:8080/",
          "height": 0
        },
        "id": "IiW4UhqTFRUk",
        "outputId": "f7cc6c23-23d6-40ee-a38f-caf7bfe86885"
      },
      "outputs": [
        {
          "output_type": "display_data",
          "data": {
            "text/plain": [
              "<Figure size 432x288 with 2 Axes>"
            ],
            "image/png": "[encoded data removed]"
          },
          "metadata": {
            "needs_background": "light"
          }
        }
      ],
      "source": [
        "plot_confusion_matrix(confusion_matrix(y_train,predicted_train),\"Train confusion Matrix for the KNN Model\")"
      ]
    },
    {
      "cell_type": "code",
      "execution_count": 77,
      "metadata": {
        "colab": {
          "base_uri": "https://localhost:8080/",
          "height": 0
        },
        "id": "lPfp61w_FRUk",
        "outputId": "8e72c870-5d6b-499a-b6df-1312d9096d93"
      },
      "outputs": [
        {
          "output_type": "display_data",
          "data": {
            "text/plain": [
              "<Figure size 432x288 with 2 Axes>"
            ],
            "image/png": "[encoded data removed]"
          },
          "metadata": {
            "needs_background": "light"
          }
        }
      ],
      "source": [
        "plot_confusion_matrix(confusion_matrix(y_val,predicted_val),\"Validation confusion Matrix for the KNN Model\")"
      ]
    },
    {
      "cell_type": "code",
      "execution_count": 78,
      "metadata": {
        "colab": {
          "base_uri": "https://localhost:8080/"
        },
        "id": "42K9lrgvFRUl",
        "outputId": "c6199e2d-f1cc-4c46-96d6-2ac53b612d81"
      },
      "outputs": [
        {
          "output_type": "stream",
          "name": "stdout",
          "text": [
            "The testset accuracy KNN model is :  0.5436193222782985\n"
          ]
        }
      ],
      "source": [
        "testset_predicted = knn.predict(test_tfidf)\n",
        "print(\"The testset accuracy KNN model is : \",accuracy_score(actual,testset_predicted))"
      ]
    },
    {
      "cell_type": "code",
      "execution_count": 79,
      "metadata": {
        "colab": {
          "base_uri": "https://localhost:8080/",
          "height": 0
        },
        "id": "XYVWufFTFRUl",
        "outputId": "48cc6787-b5e8-4a32-d564-e50a0d39c6e5"
      },
      "outputs": [
        {
          "output_type": "display_data",
          "data": {
            "text/plain": [
              "<Figure size 432x288 with 2 Axes>"
            ],
            "image/png": "[encoded data removed]"
          },
          "metadata": {
            "needs_background": "light"
          }
        }
      ],
      "source": [
        "plot_confusion_matrix(confusion_matrix(actual,testset_predicted),\"Testset confusion Matrix for KNN model\")"
      ]
    },
    {
      "cell_type": "code",
      "execution_count": 80,
      "metadata": {
        "id": "hswlsF6RFRUl"
      },
      "outputs": [],
      "source": [
        "model_name.append(\"KNN-Classifier\")\n",
        "train_accuracies.append(np.round(accuracy_score(y_train,predicted_train),4))\n",
        "val_accuracies.append(np.round(accuracy_score(y_val,predicted_val),4))\n",
        "test_accuracies.append(np.round(accuracy_score(actual,testset_predicted),4))"
      ]
    },
    {
      "cell_type": "markdown",
      "metadata": {
        "id": "ZJWXDIt-FRUl"
      },
      "source": [
        "## K-Nearest Neighbours using Cross-Validation"
      ]
    },
    {
      "cell_type": "code",
      "execution_count": 81,
      "metadata": {
        "colab": {
          "base_uri": "https://localhost:8080/"
        },
        "id": "FyTOe4I0FRUl",
        "outputId": "37111acf-5068-42b9-b9df-9714e5b5c577"
      },
      "outputs": [
        {
          "output_type": "execute_result",
          "data": {
            "text/plain": [
              "GridSearchCV(cv=5, estimator=KNeighborsClassifier(),\n",
              "             param_grid={'n_neighbors': [3, 5, 7, 9, 11]},\n",
              "             return_train_score=True, scoring='accuracy')"
            ]
          },
          "metadata": {},
          "execution_count": 81
        }
      ],
      "source": [
        "params = {'n_neighbors':[3,5,7,9,11]}\n",
        "cv = GridSearchCV(KNeighborsClassifier(), params, cv=5, scoring='accuracy', return_train_score=True)\n",
        "cv.fit(X_train, y_train)"
      ]
    },
    {
      "cell_type": "code",
      "execution_count": 82,
      "metadata": {
        "id": "qV-9eRGGFRUm"
      },
      "outputs": [],
      "source": [
        "predicted_train = cv.predict(X_train)\n",
        "predicted_val = cv.predict(X_val)"
      ]
    },
    {
      "cell_type": "code",
      "execution_count": 83,
      "metadata": {
        "colab": {
          "base_uri": "https://localhost:8080/"
        },
        "id": "MZDskoIbFRUm",
        "outputId": "c6011a72-24e9-4288-c32d-0ee56c5d6248"
      },
      "outputs": [
        {
          "output_type": "stream",
          "name": "stdout",
          "text": [
            "The Train accuracy for the cross-validated KNN model is :  0.915\n",
            "The Validation accuracy for the cross-validated KNN model is :  0.835\n"
          ]
        }
      ],
      "source": [
        "print(\"The Train accuracy for the cross-validated KNN model is : \",accuracy_score(y_train,predicted_train))\n",
        "print(\"The Validation accuracy for the cross-validated KNN model is : \",accuracy_score(y_val,predicted_val))"
      ]
    },
    {
      "cell_type": "code",
      "execution_count": 84,
      "metadata": {
        "colab": {
          "base_uri": "https://localhost:8080/",
          "height": 0
        },
        "id": "r2YYjAT_FRUm",
        "outputId": "2ec1aae0-9a0f-4e11-84c4-76a0ecae7677"
      },
      "outputs": [
        {
          "output_type": "display_data",
          "data": {
            "text/plain": [
              "<Figure size 432x288 with 2 Axes>"
            ],
            "image/png": "[encoded data removed]"
          },
          "metadata": {
            "needs_background": "light"
          }
        }
      ],
      "source": [
        "plot_confusion_matrix(confusion_matrix(y_train,predicted_train),\"Train confusion Matrix for the cross-validated KNN Model\")"
      ]
    },
    {
      "cell_type": "code",
      "execution_count": 85,
      "metadata": {
        "colab": {
          "base_uri": "https://localhost:8080/",
          "height": 0
        },
        "id": "3HNS7AkBFRUm",
        "outputId": "4ce022c5-9a88-44a2-dc1d-6907472967a4"
      },
      "outputs": [
        {
          "output_type": "display_data",
          "data": {
            "text/plain": [
              "<Figure size 432x288 with 2 Axes>"
            ],
            "image/png": "[encoded data removed]"
          },
          "metadata": {
            "needs_background": "light"
          }
        }
      ],
      "source": [
        "plot_confusion_matrix(confusion_matrix(y_val,predicted_val),\"Validation confusion Matrix for the cross-validated KNN Model\")"
      ]
    },
    {
      "cell_type": "code",
      "execution_count": 86,
      "metadata": {
        "colab": {
          "base_uri": "https://localhost:8080/"
        },
        "id": "udUqz71tFRUm",
        "outputId": "36b6fdfc-8508-4fff-9b3a-c89bd78c056e"
      },
      "outputs": [
        {
          "output_type": "stream",
          "name": "stdout",
          "text": [
            "The testset accuracy for the Cross-Validated KNN model is :  0.8038932948810382\n"
          ]
        }
      ],
      "source": [
        "testset_predicted = cv.predict(test_tfidf)\n",
        "print(\"The testset accuracy for the Cross-Validated KNN model is : \",accuracy_score(actual,testset_predicted))"
      ]
    },
    {
      "cell_type": "code",
      "execution_count": 87,
      "metadata": {
        "colab": {
          "base_uri": "https://localhost:8080/",
          "height": 0
        },
        "id": "Dq0HRsUgFRUn",
        "outputId": "b1c4b123-ab91-488e-8575-f4b8ca1a623a"
      },
      "outputs": [
        {
          "output_type": "display_data",
          "data": {
            "text/plain": [
              "<Figure size 432x288 with 2 Axes>"
            ],
            "image/png": "[encoded data removed]"
          },
          "metadata": {
            "needs_background": "light"
          }
        }
      ],
      "source": [
        "plot_confusion_matrix(confusion_matrix(actual,testset_predicted),\"Testset confusion Matrix for the Cross-Validated KNN model\")"
      ]
    },
    {
      "cell_type": "code",
      "execution_count": 88,
      "metadata": {
        "id": "bBPIiP_qFRUn"
      },
      "outputs": [],
      "source": [
        "model_name.append(\"KNN-Classifier with Cross-Validation\")\n",
        "train_accuracies.append(np.round(accuracy_score(y_train,predicted_train),4))\n",
        "val_accuracies.append(np.round(accuracy_score(y_val,predicted_val),4))\n",
        "test_accuracies.append(np.round(accuracy_score(actual,testset_predicted),4))"
      ]
    },
    {
      "cell_type": "markdown",
      "metadata": {
        "id": "P6AlbhJuFRUn"
      },
      "source": [
        "## Support Vector Machine Classifier (SVM)"
      ]
    },
    {
      "cell_type": "code",
      "execution_count": 89,
      "metadata": {
        "colab": {
          "base_uri": "https://localhost:8080/"
        },
        "id": "Pv97VExKFRUn",
        "outputId": "f2772d2c-efe1-420b-ebbd-3352f8db8cdf"
      },
      "outputs": [
        {
          "output_type": "execute_result",
          "data": {
            "text/plain": [
              "SVC()"
            ]
          },
          "metadata": {},
          "execution_count": 89
        }
      ],
      "source": [
        "from sklearn.svm import SVC\n",
        "\n",
        "svc = SVC()\n",
        "svc.fit(X_train, y_train)"
      ]
    },
    {
      "cell_type": "code",
      "execution_count": 90,
      "metadata": {
        "id": "GR69yxjMFRUn"
      },
      "outputs": [],
      "source": [
        "predicted_train = svc.predict(X_train)\n",
        "predicted_val = svc.predict(X_val)"
      ]
    },
    {
      "cell_type": "code",
      "execution_count": 91,
      "metadata": {
        "colab": {
          "base_uri": "https://localhost:8080/"
        },
        "id": "hGVoeawZFRUn",
        "outputId": "48d957f4-f718-4fd4-e268-fd11f5803574"
      },
      "outputs": [
        {
          "output_type": "stream",
          "name": "stdout",
          "text": [
            "The Train accuracy for the SVC classifier is :  0.999375\n",
            "The Validation accuracy for the SVC classifier is :  0.9675\n"
          ]
        }
      ],
      "source": [
        "print(\"The Train accuracy for the SVC classifier is : \",accuracy_score(y_train,predicted_train))\n",
        "print(\"The Validation accuracy for the SVC classifier is : \",accuracy_score(y_val,predicted_val))"
      ]
    },
    {
      "cell_type": "code",
      "execution_count": 92,
      "metadata": {
        "colab": {
          "base_uri": "https://localhost:8080/",
          "height": 0
        },
        "id": "Ol1GaKH6FRUo",
        "outputId": "94a2536b-10cd-45bd-a242-9f53767bd8cf"
      },
      "outputs": [
        {
          "output_type": "display_data",
          "data": {
            "text/plain": [
              "<Figure size 432x288 with 2 Axes>"
            ],
            "image/png": "[encoded data removed]"
          },
          "metadata": {
            "needs_background": "light"
          }
        }
      ],
      "source": [
        "plot_confusion_matrix(confusion_matrix(y_train,predicted_train),\"Train confusion Matrix for the SVC classifier Model\")"
      ]
    },
    {
      "cell_type": "code",
      "execution_count": 93,
      "metadata": {
        "colab": {
          "base_uri": "https://localhost:8080/",
          "height": 0
        },
        "id": "Tn8xVK72FRUo",
        "outputId": "cf580486-25a2-404d-e835-ffab912f1d12"
      },
      "outputs": [
        {
          "output_type": "display_data",
          "data": {
            "text/plain": [
              "<Figure size 432x288 with 2 Axes>"
            ],
            "image/png": "[encoded data removed]"
          },
          "metadata": {
            "needs_background": "light"
          }
        }
      ],
      "source": [
        "plot_confusion_matrix(confusion_matrix(y_val,predicted_val),\"Validation confusion Matrix for the SVC classifier Model\")"
      ]
    },
    {
      "cell_type": "code",
      "execution_count": 94,
      "metadata": {
        "colab": {
          "base_uri": "https://localhost:8080/"
        },
        "id": "VGSMbXvPFRUo",
        "outputId": "e94a46d6-ec2e-4b90-df3c-c2e37dd28ba7"
      },
      "outputs": [
        {
          "output_type": "stream",
          "name": "stdout",
          "text": [
            "The testset accuracy for the SVC classifier is is :  0.9149242970439798\n"
          ]
        }
      ],
      "source": [
        "testset_predicted = svc.predict(test_tfidf)\n",
        "print(\"The testset accuracy for the SVC classifier is is : \",accuracy_score(actual,testset_predicted))"
      ]
    },
    {
      "cell_type": "code",
      "execution_count": 95,
      "metadata": {
        "colab": {
          "base_uri": "https://localhost:8080/",
          "height": 0
        },
        "id": "I2QQ5s-CFRUo",
        "outputId": "c8523b19-81d8-49e8-ac02-23c00cad0b58"
      },
      "outputs": [
        {
          "output_type": "display_data",
          "data": {
            "text/plain": [
              "<Figure size 432x288 with 2 Axes>"
            ],
            "image/png": "[encoded data removed]"
          },
          "metadata": {
            "needs_background": "light"
          }
        }
      ],
      "source": [
        "plot_confusion_matrix(confusion_matrix(actual,testset_predicted),\"Testset confusion Matrix for the SVC classifier\")"
      ]
    },
    {
      "cell_type": "code",
      "execution_count": 96,
      "metadata": {
        "id": "_pe3fHQYFRUp"
      },
      "outputs": [],
      "source": [
        "model_name.append(\"SVM-Classifier\")\n",
        "train_accuracies.append(np.round(accuracy_score(y_train,predicted_train),4))\n",
        "val_accuracies.append(np.round(accuracy_score(y_val,predicted_val),4))\n",
        "test_accuracies.append(np.round(accuracy_score(actual,testset_predicted),4))"
      ]
    },
    {
      "cell_type": "markdown",
      "metadata": {
        "id": "O49eF1nuFRUp"
      },
      "source": [
        "## SVM Classifier with cross validation"
      ]
    },
    {
      "cell_type": "code",
      "execution_count": 97,
      "metadata": {
        "colab": {
          "base_uri": "https://localhost:8080/"
        },
        "id": "wRj8DC5WFRUp",
        "outputId": "12dc3ff9-5bc3-4784-ff71-5f636812ead1"
      },
      "outputs": [
        {
          "output_type": "execute_result",
          "data": {
            "text/plain": [
              "GridSearchCV(cv=5, estimator=SVC(),\n",
              "             param_grid=[{'C': [0.01, 0.1, 1, 10, 100],\n",
              "                          'gamma': [0.01, 0.1, 1, 10]}],\n",
              "             return_train_score=True, scoring='accuracy')"
            ]
          },
          "metadata": {},
          "execution_count": 97
        }
      ],
      "source": [
        "clf = SVC()\n",
        "param = [{'C': [10**-2, 10**-1, 10**0, 10**1, 10**2], 'gamma':[0.01, 0.1, 1, 10]}]\n",
        "\n",
        "cv = GridSearchCV(clf, param,cv=5, scoring='accuracy', return_train_score=True)\n",
        "cv.fit(X_train, y_train)"
      ]
    },
    {
      "cell_type": "code",
      "execution_count": 98,
      "metadata": {
        "id": "cVm4oXklFRUp"
      },
      "outputs": [],
      "source": [
        "predicted_train = cv.predict(X_train)\n",
        "predicted_val = cv.predict(X_val)"
      ]
    },
    {
      "cell_type": "code",
      "execution_count": 99,
      "metadata": {
        "colab": {
          "base_uri": "https://localhost:8080/"
        },
        "id": "kh1tu6HVFRUp",
        "outputId": "9f47d621-7b0c-4039-b546-c47e84267f94"
      },
      "outputs": [
        {
          "output_type": "stream",
          "name": "stdout",
          "text": [
            "The Train accuracy for the cross-validated SVC classifier is :  0.999375\n",
            "The Validation accuracy for the cross-validated SVC classifier is :  0.9775\n"
          ]
        }
      ],
      "source": [
        "print(\"The Train accuracy for the cross-validated SVC classifier is : \",accuracy_score(y_train,predicted_train))\n",
        "print(\"The Validation accuracy for the cross-validated SVC classifier is : \",accuracy_score(y_val,predicted_val))"
      ]
    },
    {
      "cell_type": "code",
      "execution_count": 100,
      "metadata": {
        "colab": {
          "base_uri": "https://localhost:8080/",
          "height": 0
        },
        "id": "ZOdbG4XyFRUp",
        "outputId": "757f671c-cfcb-4258-9ce5-812f58162253"
      },
      "outputs": [
        {
          "output_type": "display_data",
          "data": {
            "text/plain": [
              "<Figure size 432x288 with 2 Axes>"
            ],
            "image/png": "[encoded data removed]"
          },
          "metadata": {
            "needs_background": "light"
          }
        }
      ],
      "source": [
        "plot_confusion_matrix(confusion_matrix(y_train,predicted_train),\"Train confusion Matrix for the cross-validated SVC classifier Model\")"
      ]
    },
    {
      "cell_type": "code",
      "execution_count": 101,
      "metadata": {
        "colab": {
          "base_uri": "https://localhost:8080/",
          "height": 0
        },
        "id": "MVq796BWFRUq",
        "outputId": "1ae1e7b8-0025-4988-dbc5-41c66a847a16"
      },
      "outputs": [
        {
          "output_type": "display_data",
          "data": {
            "text/plain": [
              "<Figure size 432x288 with 2 Axes>"
            ],
            "image/png": "[encoded data removed]"
          },
          "metadata": {
            "needs_background": "light"
          }
        }
      ],
      "source": [
        "plot_confusion_matrix(confusion_matrix(y_val,predicted_val),\"Validation confusion Matrix for the cross-validated SVC classifier Model\")"
      ]
    },
    {
      "cell_type": "code",
      "execution_count": 102,
      "metadata": {
        "colab": {
          "base_uri": "https://localhost:8080/"
        },
        "id": "POff5x3fFRUq",
        "outputId": "0dd396bd-e75a-4072-fb7e-c84a30a80c16"
      },
      "outputs": [
        {
          "output_type": "stream",
          "name": "stdout",
          "text": [
            "The testset accuracy score for the Cross-Validated SVC classifier model is :  0.9156452775775054\n"
          ]
        }
      ],
      "source": [
        "testset_predicted = cv.predict(test_tfidf)\n",
        "print(\"The testset accuracy score for the Cross-Validated SVC classifier model is : \",accuracy_score(actual,testset_predicted))"
      ]
    },
    {
      "cell_type": "code",
      "execution_count": 103,
      "metadata": {
        "colab": {
          "base_uri": "https://localhost:8080/",
          "height": 0
        },
        "id": "jiOnM5etFRUq",
        "outputId": "42594d21-1609-42e9-b2b8-345554f5ece8"
      },
      "outputs": [
        {
          "output_type": "display_data",
          "data": {
            "text/plain": [
              "<Figure size 432x288 with 2 Axes>"
            ],
            "image/png": "[encoded data removed]"
          },
          "metadata": {
            "needs_background": "light"
          }
        }
      ],
      "source": [
        "plot_confusion_matrix(confusion_matrix(actual,testset_predicted),\"Testset confusion Matrix for the Cross-Validated SVC classifier\")"
      ]
    },
    {
      "cell_type": "code",
      "execution_count": 104,
      "metadata": {
        "id": "YsJlEMSvFRUq"
      },
      "outputs": [],
      "source": [
        "model_name.append(\"SVM-Classifier with Cross Validation\")\n",
        "train_accuracies.append(np.round(accuracy_score(y_train,predicted_train),4))\n",
        "val_accuracies.append(np.round(accuracy_score(y_val,predicted_val),4))\n",
        "test_accuracies.append(np.round(accuracy_score(actual,testset_predicted),4))"
      ]
    },
    {
      "cell_type": "markdown",
      "metadata": {
        "id": "909yGCsuFRUq"
      },
      "source": [
        "## Decision Trees"
      ]
    },
    {
      "cell_type": "code",
      "execution_count": 105,
      "metadata": {
        "colab": {
          "base_uri": "https://localhost:8080/"
        },
        "id": "EGYISiNWFRUr",
        "outputId": "85982504-f7fa-49fb-ff43-e9024fdb615c"
      },
      "outputs": [
        {
          "output_type": "execute_result",
          "data": {
            "text/plain": [
              "DecisionTreeClassifier()"
            ]
          },
          "metadata": {},
          "execution_count": 105
        }
      ],
      "source": [
        "from sklearn.tree import DecisionTreeClassifier\n",
        "\n",
        "clf = DecisionTreeClassifier()\n",
        "clf.fit(X_train, y_train)"
      ]
    },
    {
      "cell_type": "code",
      "execution_count": 106,
      "metadata": {
        "id": "FehtyCcnFRUr"
      },
      "outputs": [],
      "source": [
        "predicted_train = clf.predict(X_train)\n",
        "predicted_val = clf.predict(X_val)"
      ]
    },
    {
      "cell_type": "code",
      "execution_count": 107,
      "metadata": {
        "colab": {
          "base_uri": "https://localhost:8080/"
        },
        "id": "izkgFD-5FRUr",
        "outputId": "4fee952a-ac06-4e49-fc64-bb70d48d371e"
      },
      "outputs": [
        {
          "output_type": "stream",
          "name": "stdout",
          "text": [
            "The Train accuracy for the Decision Trees classifier Model is :  0.999375\n",
            "The Validation accuracy for the Decision Trees classifier Model is :  0.95\n"
          ]
        }
      ],
      "source": [
        "print(\"The Train accuracy for the Decision Trees classifier Model is : \",accuracy_score(y_train,predicted_train))\n",
        "print(\"The Validation accuracy for the Decision Trees classifier Model is : \",accuracy_score(y_val,predicted_val))"
      ]
    },
    {
      "cell_type": "code",
      "execution_count": 108,
      "metadata": {
        "colab": {
          "base_uri": "https://localhost:8080/",
          "height": 0
        },
        "id": "m_ekOhvBFRUr",
        "outputId": "f0c1781d-c69b-4c55-f2ba-69e2465573b8"
      },
      "outputs": [
        {
          "output_type": "display_data",
          "data": {
            "text/plain": [
              "<Figure size 432x288 with 2 Axes>"
            ],
            "image/png": "[encoded data removed]"
          },
          "metadata": {
            "needs_background": "light"
          }
        }
      ],
      "source": [
        "plot_confusion_matrix(confusion_matrix(y_train,predicted_train),\"Train confusion Matrix for the Decision Trees classifier Model\")"
      ]
    },
    {
      "cell_type": "code",
      "execution_count": 109,
      "metadata": {
        "colab": {
          "base_uri": "https://localhost:8080/",
          "height": 0
        },
        "id": "KVwXQS45FRUr",
        "outputId": "45387a3e-9f10-4ae0-f768-3a57b3db9679"
      },
      "outputs": [
        {
          "output_type": "display_data",
          "data": {
            "text/plain": [
              "<Figure size 432x288 with 2 Axes>"
            ],
            "image/png": "[encoded data removed]"
          },
          "metadata": {
            "needs_background": "light"
          }
        }
      ],
      "source": [
        "plot_confusion_matrix(confusion_matrix(y_val,predicted_val),\"Validation confusion Matrix for the Decision Trees classifier Model\")"
      ]
    },
    {
      "cell_type": "code",
      "execution_count": 110,
      "metadata": {
        "colab": {
          "base_uri": "https://localhost:8080/"
        },
        "id": "fM0TpBMyFRUr",
        "outputId": "7ddbdb57-ce94-4e52-fe5a-94fd3ab01720"
      },
      "outputs": [
        {
          "output_type": "stream",
          "name": "stdout",
          "text": [
            "The testset accuracy score for the Decision Trees classifier Model is :  0.8983417447728911\n"
          ]
        }
      ],
      "source": [
        "testset_predicted = clf.predict(test_tfidf)\n",
        "print(\"The testset accuracy score for the Decision Trees classifier Model is : \",accuracy_score(actual,testset_predicted))"
      ]
    },
    {
      "cell_type": "code",
      "execution_count": 111,
      "metadata": {
        "colab": {
          "base_uri": "https://localhost:8080/",
          "height": 0
        },
        "id": "_HFqR7A2FRUs",
        "outputId": "9d2b1968-6a2c-4afd-9fb4-af8555e4570b"
      },
      "outputs": [
        {
          "output_type": "display_data",
          "data": {
            "text/plain": [
              "<Figure size 432x288 with 2 Axes>"
            ],
            "image/png": "[encoded data removed]"
          },
          "metadata": {
            "needs_background": "light"
          }
        }
      ],
      "source": [
        "plot_confusion_matrix(confusion_matrix(actual,testset_predicted),\"Testset confusion Matrix for the Decision Trees classifier\")"
      ]
    },
    {
      "cell_type": "code",
      "execution_count": 112,
      "metadata": {
        "id": "bvtsyEIpFRUs"
      },
      "outputs": [],
      "source": [
        "model_name.append(\"Decision Trees Classifier\")\n",
        "train_accuracies.append(np.round(accuracy_score(y_train,predicted_train),4))\n",
        "val_accuracies.append(np.round(accuracy_score(y_val,predicted_val),4))\n",
        "test_accuracies.append(np.round(accuracy_score(actual,testset_predicted),4))"
      ]
    },
    {
      "cell_type": "markdown",
      "metadata": {
        "id": "t-Seo7mmFRUs"
      },
      "source": [
        "# Ensemble Models"
      ]
    },
    {
      "cell_type": "markdown",
      "metadata": {
        "id": "6opMsYVLFRUs"
      },
      "source": [
        "## Random Forest"
      ]
    },
    {
      "cell_type": "code",
      "execution_count": 113,
      "metadata": {
        "colab": {
          "base_uri": "https://localhost:8080/"
        },
        "id": "hvQJ6X9YFRUs",
        "outputId": "dc1ad938-b1b4-4847-e299-dc166e27646c"
      },
      "outputs": [
        {
          "output_type": "execute_result",
          "data": {
            "text/plain": [
              "RandomForestClassifier(n_estimators=300)"
            ]
          },
          "metadata": {},
          "execution_count": 113
        }
      ],
      "source": [
        "from sklearn.ensemble import RandomForestClassifier\n",
        "\n",
        "clf = RandomForestClassifier(n_estimators=300)\n",
        "\n",
        "clf.fit(X_train, y_train)"
      ]
    },
    {
      "cell_type": "code",
      "execution_count": 114,
      "metadata": {
        "id": "Djl3IdwTFRUt"
      },
      "outputs": [],
      "source": [
        "predicted_train = clf.predict(X_train)\n",
        "predicted_val = clf.predict(X_val)"
      ]
    },
    {
      "cell_type": "code",
      "execution_count": 115,
      "metadata": {
        "colab": {
          "base_uri": "https://localhost:8080/"
        },
        "id": "njdvsvvsFRUt",
        "outputId": "a6d485eb-cdfe-42fc-f2ef-8c89c3afc620"
      },
      "outputs": [
        {
          "output_type": "stream",
          "name": "stdout",
          "text": [
            "The Train accuracy for the Random Forest classifier Model is :  0.999375\n",
            "The Validation accuracy for the Random Forest classifier Model is :  0.9625\n"
          ]
        }
      ],
      "source": [
        "print(\"The Train accuracy for the Random Forest classifier Model is : \",accuracy_score(y_train,predicted_train))\n",
        "print(\"The Validation accuracy for the Random Forest classifier Model is : \",accuracy_score(y_val,predicted_val))"
      ]
    },
    {
      "cell_type": "code",
      "execution_count": 116,
      "metadata": {
        "colab": {
          "base_uri": "https://localhost:8080/",
          "height": 0
        },
        "id": "nZs5VGJIFRUt",
        "outputId": "4101df77-bd8a-4e2d-8ac7-c35fd54dcc79"
      },
      "outputs": [
        {
          "output_type": "display_data",
          "data": {
            "text/plain": [
              "<Figure size 432x288 with 2 Axes>"
            ],
            "image/png": "[encoded data removed]"
          },
          "metadata": {
            "needs_background": "light"
          }
        }
      ],
      "source": [
        "plot_confusion_matrix(confusion_matrix(y_train,predicted_train),\"Train confusion Matrix for the Random Forest classifier Model\")"
      ]
    },
    {
      "cell_type": "code",
      "execution_count": 117,
      "metadata": {
        "colab": {
          "base_uri": "https://localhost:8080/",
          "height": 0
        },
        "id": "KAipktqUFRUt",
        "outputId": "c809adde-71a6-4059-e3a1-6172d7ff92c6"
      },
      "outputs": [
        {
          "output_type": "display_data",
          "data": {
            "text/plain": [
              "<Figure size 432x288 with 2 Axes>"
            ],
            "image/png": "[encoded data removed]"
          },
          "metadata": {
            "needs_background": "light"
          }
        }
      ],
      "source": [
        "plot_confusion_matrix(confusion_matrix(y_val,predicted_val),\"Validation confusion Matrix for the Random Forest classifier Model\")"
      ]
    },
    {
      "cell_type": "code",
      "execution_count": 118,
      "metadata": {
        "colab": {
          "base_uri": "https://localhost:8080/"
        },
        "id": "el-qxlmiFRUt",
        "outputId": "34a6425d-d89a-46b8-fd82-453d6a2be9fa"
      },
      "outputs": [
        {
          "output_type": "stream",
          "name": "stdout",
          "text": [
            "The testset accuracy for the Random Forest classifier model is :  0.9134823359769286\n"
          ]
        }
      ],
      "source": [
        "testset_predicted = clf.predict(test_tfidf)\n",
        "print(\"The testset accuracy for the Random Forest classifier model is : \",accuracy_score(actual,testset_predicted))"
      ]
    },
    {
      "cell_type": "code",
      "execution_count": 119,
      "metadata": {
        "colab": {
          "base_uri": "https://localhost:8080/",
          "height": 0
        },
        "id": "GMtWwCe0FRUu",
        "outputId": "06e56ea2-cdd1-4274-8173-3fb38a047292"
      },
      "outputs": [
        {
          "output_type": "display_data",
          "data": {
            "text/plain": [
              "<Figure size 432x288 with 2 Axes>"
            ],
            "image/png": "[encoded data removed]"
          },
          "metadata": {
            "needs_background": "light"
          }
        }
      ],
      "source": [
        "plot_confusion_matrix(confusion_matrix(actual,testset_predicted),\"Testset confusion Matrix for the Random Forest classifier\")"
      ]
    },
    {
      "cell_type": "code",
      "execution_count": 120,
      "metadata": {
        "id": "ZO1zpWcXFRUu"
      },
      "outputs": [],
      "source": [
        "model_name.append(\"Random Forest Classifier\")\n",
        "train_accuracies.append(np.round(accuracy_score(y_train,predicted_train),4))\n",
        "val_accuracies.append(np.round(accuracy_score(y_val,predicted_val),4))\n",
        "test_accuracies.append(np.round(accuracy_score(actual,testset_predicted),4))"
      ]
    },
    {
      "cell_type": "markdown",
      "metadata": {
        "id": "bqEazfa0FRUu"
      },
      "source": [
        "## Accuracy"
      ]
    },
    {
      "cell_type": "code",
      "execution_count": 121,
      "metadata": {
        "id": "1_shLNMtFRUw"
      },
      "outputs": [],
      "source": [
        "# http://zetcode.com/python/prettytable/\n",
        "from prettytable import PrettyTable\n",
        "\n",
        "x = PrettyTable()\n",
        "x.field_names = [\"Model\", \"Train Accuracy Score\", \"Validation Accuracy Score\", \"Test Accuracy Score\"]\n",
        "\n",
        "for i in range(len(model_name)):\n",
        "    x.add_row([model_name[i],train_accuracies[i],val_accuracies[i],test_accuracies[i]])"
      ]
    },
    {
      "cell_type": "code",
      "execution_count": 122,
      "metadata": {
        "colab": {
          "base_uri": "https://localhost:8080/"
        },
        "id": "pj8Syv7xFRUx",
        "outputId": "24bd3946-9cad-416b-c0aa-1e5ca0d947ce"
      },
      "outputs": [
        {
          "output_type": "stream",
          "name": "stdout",
          "text": [
            "+-----------------------------------------------+----------------------+---------------------------+---------------------+\n",
            "|                     Model                     | Train Accuracy Score | Validation Accuracy Score | Test Accuracy Score |\n",
            "+-----------------------------------------------+----------------------+---------------------------+---------------------+\n",
            "|            Multinomial Naive Bayes            |         0.99         |            0.96           |         0.89        |\n",
            "| Multinomial Naive Bayes with Cross Validation |        0.9912        |            0.96           |        0.8919       |\n",
            "|              Logistic Regression              |        0.9781        |           0.9225          |        0.8839       |\n",
            "|   Logistic Regression with Cross Validation   |        0.9994        |           0.975           |        0.9207       |\n",
            "|                 KNN-Classifier                |        0.8594        |           0.6675          |        0.5436       |\n",
            "|      KNN-Classifier with Cross-Validation     |        0.915         |           0.835           |        0.8039       |\n",
            "|                 SVM-Classifier                |        0.9994        |           0.9675          |        0.9149       |\n",
            "|      SVM-Classifier with Cross Validation     |        0.9994        |           0.9775          |        0.9156       |\n",
            "|           Decision Trees Classifier           |        0.9994        |            0.95           |        0.8983       |\n",
            "|            Random Forest Classifier           |        0.9994        |           0.9625          |        0.9135       |\n",
            "+-----------------------------------------------+----------------------+---------------------------+---------------------+\n"
          ]
        }
      ],
      "source": [
        "print(x)"
      ]
    },
    {
      "cell_type": "markdown",
      "source": [
        "From above we can observe that Logistic Regression with Cross Validation model has the highest accuracy to detect the emotion of the text. We have we have integrated the concepts of sentiment analysis and text classification in this project. "
      ],
      "metadata": {
        "id": "py817a4MW897"
      }
    }
  ],
  "metadata": {
    "kernelspec": {
      "display_name": "Python 3",
      "language": "python",
      "name": "python3"
    },
    "language_info": {
      "codemirror_mode": {
        "name": "ipython",
        "version": 3
      },
      "file_extension": ".py",
      "mimetype": "text/x-python",
      "name": "python",
      "nbconvert_exporter": "python",
      "pygments_lexer": "ipython3",
      "version": "3.7.6"
    },
    "colab": {
      "provenance": []
    }
  },
  "nbformat": 4,
  "nbformat_minor": 0
}